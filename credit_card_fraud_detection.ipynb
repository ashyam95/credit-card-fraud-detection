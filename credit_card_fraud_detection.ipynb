{
 "cells": [
  {
   "cell_type": "code",
   "execution_count": 1,
   "metadata": {
    "colab": {
     "base_uri": "https://localhost:8080/",
     "height": 34
    },
    "colab_type": "code",
    "id": "GOCWfsmelD1i",
    "outputId": "0198c610-db08-4124-8a87-f95d14eb0dac"
   },
   "outputs": [
    {
     "name": "stdout",
     "output_type": "stream",
     "text": [
      "Mounted at /content/drive\n"
     ]
    }
   ],
   "source": [
    "from google.colab import drive\n",
    "drive.mount('/content/drive')"
   ]
  },
  {
   "cell_type": "code",
   "execution_count": 2,
   "metadata": {
    "colab": {
     "base_uri": "https://localhost:8080/",
     "height": 343
    },
    "colab_type": "code",
    "id": "0OXekQCIlJtR",
    "outputId": "8fb14b46-f199-4b10-9f94-cec789e5ac3c"
   },
   "outputs": [
    {
     "name": "stdout",
     "output_type": "stream",
     "text": [
      "Collecting seaborn\n",
      "\u001b[?25l  Downloading https://files.pythonhosted.org/packages/bc/45/5118a05b0d61173e6eb12bc5804f0fbb6f196adb0a20e0b16efc2b8e98be/seaborn-0.11.0-py3-none-any.whl (283kB)\n",
      "\r",
      "\u001b[K     |█▏                              | 10kB 18.0MB/s eta 0:00:01\r",
      "\u001b[K     |██▎                             | 20kB 1.7MB/s eta 0:00:01\r",
      "\u001b[K     |███▌                            | 30kB 2.2MB/s eta 0:00:01\r",
      "\u001b[K     |████▋                           | 40kB 2.5MB/s eta 0:00:01\r",
      "\u001b[K     |█████▉                          | 51kB 2.0MB/s eta 0:00:01\r",
      "\u001b[K     |███████                         | 61kB 2.2MB/s eta 0:00:01\r",
      "\u001b[K     |████████                        | 71kB 2.4MB/s eta 0:00:01\r",
      "\u001b[K     |█████████▎                      | 81kB 2.7MB/s eta 0:00:01\r",
      "\u001b[K     |██████████▍                     | 92kB 2.9MB/s eta 0:00:01\r",
      "\u001b[K     |███████████▋                    | 102kB 2.7MB/s eta 0:00:01\r",
      "\u001b[K     |████████████▊                   | 112kB 2.7MB/s eta 0:00:01\r",
      "\u001b[K     |█████████████▉                  | 122kB 2.7MB/s eta 0:00:01\r",
      "\u001b[K     |███████████████                 | 133kB 2.7MB/s eta 0:00:01\r",
      "\u001b[K     |████████████████▏               | 143kB 2.7MB/s eta 0:00:01\r",
      "\u001b[K     |█████████████████▍              | 153kB 2.7MB/s eta 0:00:01\r",
      "\u001b[K     |██████████████████▌             | 163kB 2.7MB/s eta 0:00:01\r",
      "\u001b[K     |███████████████████▊            | 174kB 2.7MB/s eta 0:00:01\r",
      "\u001b[K     |████████████████████▉           | 184kB 2.7MB/s eta 0:00:01\r",
      "\u001b[K     |██████████████████████          | 194kB 2.7MB/s eta 0:00:01\r",
      "\u001b[K     |███████████████████████▏        | 204kB 2.7MB/s eta 0:00:01\r",
      "\u001b[K     |████████████████████████▎       | 215kB 2.7MB/s eta 0:00:01\r",
      "\u001b[K     |█████████████████████████▌      | 225kB 2.7MB/s eta 0:00:01\r",
      "\u001b[K     |██████████████████████████▋     | 235kB 2.7MB/s eta 0:00:01\r",
      "\u001b[K     |███████████████████████████▊    | 245kB 2.7MB/s eta 0:00:01\r",
      "\u001b[K     |█████████████████████████████   | 256kB 2.7MB/s eta 0:00:01\r",
      "\u001b[K     |██████████████████████████████  | 266kB 2.7MB/s eta 0:00:01\r",
      "\u001b[K     |███████████████████████████████▎| 276kB 2.7MB/s eta 0:00:01\r",
      "\u001b[K     |████████████████████████████████| 286kB 2.7MB/s \n",
      "\u001b[?25hRequirement already satisfied, skipping upgrade: matplotlib>=2.2 in /usr/local/lib/python3.6/dist-packages (from seaborn) (3.2.2)\n",
      "Requirement already satisfied, skipping upgrade: scipy>=1.0 in /usr/local/lib/python3.6/dist-packages (from seaborn) (1.4.1)\n",
      "Requirement already satisfied, skipping upgrade: numpy>=1.15 in /usr/local/lib/python3.6/dist-packages (from seaborn) (1.18.5)\n",
      "Requirement already satisfied, skipping upgrade: pandas>=0.23 in /usr/local/lib/python3.6/dist-packages (from seaborn) (1.0.5)\n",
      "Requirement already satisfied, skipping upgrade: cycler>=0.10 in /usr/local/lib/python3.6/dist-packages (from matplotlib>=2.2->seaborn) (0.10.0)\n",
      "Requirement already satisfied, skipping upgrade: pyparsing!=2.0.4,!=2.1.2,!=2.1.6,>=2.0.1 in /usr/local/lib/python3.6/dist-packages (from matplotlib>=2.2->seaborn) (2.4.7)\n",
      "Requirement already satisfied, skipping upgrade: kiwisolver>=1.0.1 in /usr/local/lib/python3.6/dist-packages (from matplotlib>=2.2->seaborn) (1.2.0)\n",
      "Requirement already satisfied, skipping upgrade: python-dateutil>=2.1 in /usr/local/lib/python3.6/dist-packages (from matplotlib>=2.2->seaborn) (2.8.1)\n",
      "Requirement already satisfied, skipping upgrade: pytz>=2017.2 in /usr/local/lib/python3.6/dist-packages (from pandas>=0.23->seaborn) (2018.9)\n",
      "Requirement already satisfied, skipping upgrade: six in /usr/local/lib/python3.6/dist-packages (from cycler>=0.10->matplotlib>=2.2->seaborn) (1.15.0)\n",
      "Installing collected packages: seaborn\n",
      "  Found existing installation: seaborn 0.10.1\n",
      "    Uninstalling seaborn-0.10.1:\n",
      "      Successfully uninstalled seaborn-0.10.1\n",
      "Successfully installed seaborn-0.11.0\n"
     ]
    }
   ],
   "source": [
    "!pip install -U seaborn"
   ]
  },
  {
   "cell_type": "markdown",
   "metadata": {
    "colab_type": "text",
    "id": "ERpE8QjPuum1"
   },
   "source": [
    "## Credit Card Fraud Detection"
   ]
  },
  {
   "cell_type": "code",
   "execution_count": 1,
   "metadata": {
    "colab": {},
    "colab_type": "code",
    "id": "01Qs-vyguum3",
    "scrolled": false
   },
   "outputs": [],
   "source": [
    "import matplotlib.pyplot as plt\n",
    "import numpy as np\n",
    "import pandas as pd\n",
    "import seaborn as sns\n",
    "\n",
    "from sklearn import metrics, preprocessing\n",
    "from sklearn.ensemble import RandomForestClassifier\n",
    "from sklearn.linear_model import LogisticRegression\n",
    "from sklearn.model_selection import GridSearchCV\n",
    "from xgboost import XGBClassifier"
   ]
  },
  {
   "cell_type": "markdown",
   "metadata": {
    "colab_type": "text",
    "id": "ObCTf9-5uum-"
   },
   "source": [
    "## Exploratory data analysis"
   ]
  },
  {
   "cell_type": "code",
   "execution_count": 3,
   "metadata": {
    "colab": {
     "base_uri": "https://localhost:8080/",
     "height": 224
    },
    "colab_type": "code",
    "id": "I5htzfASuunA",
    "outputId": "545cb3be-d4c8-4a4d-afb8-9cbda70cb8e4"
   },
   "outputs": [
    {
     "data": {
      "text/html": [
       "<div>\n",
       "<style scoped>\n",
       "    .dataframe tbody tr th:only-of-type {\n",
       "        vertical-align: middle;\n",
       "    }\n",
       "\n",
       "    .dataframe tbody tr th {\n",
       "        vertical-align: top;\n",
       "    }\n",
       "\n",
       "    .dataframe thead th {\n",
       "        text-align: right;\n",
       "    }\n",
       "</style>\n",
       "<table border=\"1\" class=\"dataframe\">\n",
       "  <thead>\n",
       "    <tr style=\"text-align: right;\">\n",
       "      <th></th>\n",
       "      <th>Time</th>\n",
       "      <th>V1</th>\n",
       "      <th>V2</th>\n",
       "      <th>V3</th>\n",
       "      <th>V4</th>\n",
       "      <th>V5</th>\n",
       "      <th>V6</th>\n",
       "      <th>V7</th>\n",
       "      <th>V8</th>\n",
       "      <th>V9</th>\n",
       "      <th>...</th>\n",
       "      <th>V21</th>\n",
       "      <th>V22</th>\n",
       "      <th>V23</th>\n",
       "      <th>V24</th>\n",
       "      <th>V25</th>\n",
       "      <th>V26</th>\n",
       "      <th>V27</th>\n",
       "      <th>V28</th>\n",
       "      <th>Amount</th>\n",
       "      <th>Class</th>\n",
       "    </tr>\n",
       "  </thead>\n",
       "  <tbody>\n",
       "    <tr>\n",
       "      <th>0</th>\n",
       "      <td>0.0</td>\n",
       "      <td>-1.359807</td>\n",
       "      <td>-0.072781</td>\n",
       "      <td>2.536347</td>\n",
       "      <td>1.378155</td>\n",
       "      <td>-0.338321</td>\n",
       "      <td>0.462388</td>\n",
       "      <td>0.239599</td>\n",
       "      <td>0.098698</td>\n",
       "      <td>0.363787</td>\n",
       "      <td>...</td>\n",
       "      <td>-0.018307</td>\n",
       "      <td>0.277838</td>\n",
       "      <td>-0.110474</td>\n",
       "      <td>0.066928</td>\n",
       "      <td>0.128539</td>\n",
       "      <td>-0.189115</td>\n",
       "      <td>0.133558</td>\n",
       "      <td>-0.021053</td>\n",
       "      <td>149.62</td>\n",
       "      <td>0</td>\n",
       "    </tr>\n",
       "    <tr>\n",
       "      <th>1</th>\n",
       "      <td>0.0</td>\n",
       "      <td>1.191857</td>\n",
       "      <td>0.266151</td>\n",
       "      <td>0.166480</td>\n",
       "      <td>0.448154</td>\n",
       "      <td>0.060018</td>\n",
       "      <td>-0.082361</td>\n",
       "      <td>-0.078803</td>\n",
       "      <td>0.085102</td>\n",
       "      <td>-0.255425</td>\n",
       "      <td>...</td>\n",
       "      <td>-0.225775</td>\n",
       "      <td>-0.638672</td>\n",
       "      <td>0.101288</td>\n",
       "      <td>-0.339846</td>\n",
       "      <td>0.167170</td>\n",
       "      <td>0.125895</td>\n",
       "      <td>-0.008983</td>\n",
       "      <td>0.014724</td>\n",
       "      <td>2.69</td>\n",
       "      <td>0</td>\n",
       "    </tr>\n",
       "    <tr>\n",
       "      <th>2</th>\n",
       "      <td>1.0</td>\n",
       "      <td>-1.358354</td>\n",
       "      <td>-1.340163</td>\n",
       "      <td>1.773209</td>\n",
       "      <td>0.379780</td>\n",
       "      <td>-0.503198</td>\n",
       "      <td>1.800499</td>\n",
       "      <td>0.791461</td>\n",
       "      <td>0.247676</td>\n",
       "      <td>-1.514654</td>\n",
       "      <td>...</td>\n",
       "      <td>0.247998</td>\n",
       "      <td>0.771679</td>\n",
       "      <td>0.909412</td>\n",
       "      <td>-0.689281</td>\n",
       "      <td>-0.327642</td>\n",
       "      <td>-0.139097</td>\n",
       "      <td>-0.055353</td>\n",
       "      <td>-0.059752</td>\n",
       "      <td>378.66</td>\n",
       "      <td>0</td>\n",
       "    </tr>\n",
       "    <tr>\n",
       "      <th>3</th>\n",
       "      <td>1.0</td>\n",
       "      <td>-0.966272</td>\n",
       "      <td>-0.185226</td>\n",
       "      <td>1.792993</td>\n",
       "      <td>-0.863291</td>\n",
       "      <td>-0.010309</td>\n",
       "      <td>1.247203</td>\n",
       "      <td>0.237609</td>\n",
       "      <td>0.377436</td>\n",
       "      <td>-1.387024</td>\n",
       "      <td>...</td>\n",
       "      <td>-0.108300</td>\n",
       "      <td>0.005274</td>\n",
       "      <td>-0.190321</td>\n",
       "      <td>-1.175575</td>\n",
       "      <td>0.647376</td>\n",
       "      <td>-0.221929</td>\n",
       "      <td>0.062723</td>\n",
       "      <td>0.061458</td>\n",
       "      <td>123.50</td>\n",
       "      <td>0</td>\n",
       "    </tr>\n",
       "    <tr>\n",
       "      <th>4</th>\n",
       "      <td>2.0</td>\n",
       "      <td>-1.158233</td>\n",
       "      <td>0.877737</td>\n",
       "      <td>1.548718</td>\n",
       "      <td>0.403034</td>\n",
       "      <td>-0.407193</td>\n",
       "      <td>0.095921</td>\n",
       "      <td>0.592941</td>\n",
       "      <td>-0.270533</td>\n",
       "      <td>0.817739</td>\n",
       "      <td>...</td>\n",
       "      <td>-0.009431</td>\n",
       "      <td>0.798278</td>\n",
       "      <td>-0.137458</td>\n",
       "      <td>0.141267</td>\n",
       "      <td>-0.206010</td>\n",
       "      <td>0.502292</td>\n",
       "      <td>0.219422</td>\n",
       "      <td>0.215153</td>\n",
       "      <td>69.99</td>\n",
       "      <td>0</td>\n",
       "    </tr>\n",
       "  </tbody>\n",
       "</table>\n",
       "<p>5 rows × 31 columns</p>\n",
       "</div>"
      ],
      "text/plain": [
       "   Time        V1        V2        V3        V4        V5        V6        V7  \\\n",
       "0   0.0 -1.359807 -0.072781  2.536347  1.378155 -0.338321  0.462388  0.239599   \n",
       "1   0.0  1.191857  0.266151  0.166480  0.448154  0.060018 -0.082361 -0.078803   \n",
       "2   1.0 -1.358354 -1.340163  1.773209  0.379780 -0.503198  1.800499  0.791461   \n",
       "3   1.0 -0.966272 -0.185226  1.792993 -0.863291 -0.010309  1.247203  0.237609   \n",
       "4   2.0 -1.158233  0.877737  1.548718  0.403034 -0.407193  0.095921  0.592941   \n",
       "\n",
       "         V8        V9  ...       V21       V22       V23       V24       V25  \\\n",
       "0  0.098698  0.363787  ... -0.018307  0.277838 -0.110474  0.066928  0.128539   \n",
       "1  0.085102 -0.255425  ... -0.225775 -0.638672  0.101288 -0.339846  0.167170   \n",
       "2  0.247676 -1.514654  ...  0.247998  0.771679  0.909412 -0.689281 -0.327642   \n",
       "3  0.377436 -1.387024  ... -0.108300  0.005274 -0.190321 -1.175575  0.647376   \n",
       "4 -0.270533  0.817739  ... -0.009431  0.798278 -0.137458  0.141267 -0.206010   \n",
       "\n",
       "        V26       V27       V28  Amount  Class  \n",
       "0 -0.189115  0.133558 -0.021053  149.62      0  \n",
       "1  0.125895 -0.008983  0.014724    2.69      0  \n",
       "2 -0.139097 -0.055353 -0.059752  378.66      0  \n",
       "3 -0.221929  0.062723  0.061458  123.50      0  \n",
       "4  0.502292  0.219422  0.215153   69.99      0  \n",
       "\n",
       "[5 rows x 31 columns]"
      ]
     },
     "execution_count": 3,
     "metadata": {},
     "output_type": "execute_result"
    }
   ],
   "source": [
    "df = pd.read_csv('creditcard.csv')\n",
    "df.head()"
   ]
  },
  {
   "cell_type": "code",
   "execution_count": 4,
   "metadata": {
    "colab": {
     "base_uri": "https://localhost:8080/",
     "height": 663
    },
    "colab_type": "code",
    "id": "7K2CVd4cuunH",
    "outputId": "6329fc8b-307f-440a-8b72-c2726322eede"
   },
   "outputs": [
    {
     "name": "stdout",
     "output_type": "stream",
     "text": [
      "<class 'pandas.core.frame.DataFrame'>\n",
      "RangeIndex: 284807 entries, 0 to 284806\n",
      "Data columns (total 31 columns):\n",
      "Time      284807 non-null float64\n",
      "V1        284807 non-null float64\n",
      "V2        284807 non-null float64\n",
      "V3        284807 non-null float64\n",
      "V4        284807 non-null float64\n",
      "V5        284807 non-null float64\n",
      "V6        284807 non-null float64\n",
      "V7        284807 non-null float64\n",
      "V8        284807 non-null float64\n",
      "V9        284807 non-null float64\n",
      "V10       284807 non-null float64\n",
      "V11       284807 non-null float64\n",
      "V12       284807 non-null float64\n",
      "V13       284807 non-null float64\n",
      "V14       284807 non-null float64\n",
      "V15       284807 non-null float64\n",
      "V16       284807 non-null float64\n",
      "V17       284807 non-null float64\n",
      "V18       284807 non-null float64\n",
      "V19       284807 non-null float64\n",
      "V20       284807 non-null float64\n",
      "V21       284807 non-null float64\n",
      "V22       284807 non-null float64\n",
      "V23       284807 non-null float64\n",
      "V24       284807 non-null float64\n",
      "V25       284807 non-null float64\n",
      "V26       284807 non-null float64\n",
      "V27       284807 non-null float64\n",
      "V28       284807 non-null float64\n",
      "Amount    284807 non-null float64\n",
      "Class     284807 non-null int64\n",
      "dtypes: float64(30), int64(1)\n",
      "memory usage: 67.4 MB\n"
     ]
    }
   ],
   "source": [
    "# Observe the different feature type present in the data\n",
    "df.info()"
   ]
  },
  {
   "cell_type": "code",
   "execution_count": 9,
   "metadata": {
    "colab": {
     "base_uri": "https://localhost:8080/",
     "height": 317
    },
    "colab_type": "code",
    "id": "w36bFN8ZuunN",
    "outputId": "72674a0e-3196-45ce-b6cb-cae8c41e18af"
   },
   "outputs": [
    {
     "data": {
      "text/html": [
       "<div>\n",
       "<style scoped>\n",
       "    .dataframe tbody tr th:only-of-type {\n",
       "        vertical-align: middle;\n",
       "    }\n",
       "\n",
       "    .dataframe tbody tr th {\n",
       "        vertical-align: top;\n",
       "    }\n",
       "\n",
       "    .dataframe thead th {\n",
       "        text-align: right;\n",
       "    }\n",
       "</style>\n",
       "<table border=\"1\" class=\"dataframe\">\n",
       "  <thead>\n",
       "    <tr style=\"text-align: right;\">\n",
       "      <th></th>\n",
       "      <th>Time</th>\n",
       "      <th>V1</th>\n",
       "      <th>V2</th>\n",
       "      <th>V3</th>\n",
       "      <th>V4</th>\n",
       "      <th>V5</th>\n",
       "      <th>V6</th>\n",
       "      <th>V7</th>\n",
       "      <th>V8</th>\n",
       "      <th>V9</th>\n",
       "      <th>V10</th>\n",
       "      <th>V11</th>\n",
       "      <th>V12</th>\n",
       "      <th>V13</th>\n",
       "      <th>V14</th>\n",
       "      <th>V15</th>\n",
       "      <th>V16</th>\n",
       "      <th>V17</th>\n",
       "      <th>V18</th>\n",
       "      <th>V19</th>\n",
       "      <th>V20</th>\n",
       "      <th>V21</th>\n",
       "      <th>V22</th>\n",
       "      <th>V23</th>\n",
       "      <th>V24</th>\n",
       "      <th>V25</th>\n",
       "      <th>V26</th>\n",
       "      <th>V27</th>\n",
       "      <th>V28</th>\n",
       "      <th>Amount</th>\n",
       "      <th>Class</th>\n",
       "    </tr>\n",
       "  </thead>\n",
       "  <tbody>\n",
       "    <tr>\n",
       "      <th>count</th>\n",
       "      <td>284807.000000</td>\n",
       "      <td>2.848070e+05</td>\n",
       "      <td>2.848070e+05</td>\n",
       "      <td>2.848070e+05</td>\n",
       "      <td>2.848070e+05</td>\n",
       "      <td>2.848070e+05</td>\n",
       "      <td>2.848070e+05</td>\n",
       "      <td>2.848070e+05</td>\n",
       "      <td>2.848070e+05</td>\n",
       "      <td>2.848070e+05</td>\n",
       "      <td>2.848070e+05</td>\n",
       "      <td>2.848070e+05</td>\n",
       "      <td>2.848070e+05</td>\n",
       "      <td>2.848070e+05</td>\n",
       "      <td>2.848070e+05</td>\n",
       "      <td>2.848070e+05</td>\n",
       "      <td>2.848070e+05</td>\n",
       "      <td>2.848070e+05</td>\n",
       "      <td>2.848070e+05</td>\n",
       "      <td>2.848070e+05</td>\n",
       "      <td>2.848070e+05</td>\n",
       "      <td>2.848070e+05</td>\n",
       "      <td>2.848070e+05</td>\n",
       "      <td>2.848070e+05</td>\n",
       "      <td>2.848070e+05</td>\n",
       "      <td>2.848070e+05</td>\n",
       "      <td>2.848070e+05</td>\n",
       "      <td>2.848070e+05</td>\n",
       "      <td>2.848070e+05</td>\n",
       "      <td>284807.000000</td>\n",
       "      <td>284807.000000</td>\n",
       "    </tr>\n",
       "    <tr>\n",
       "      <th>mean</th>\n",
       "      <td>94813.859575</td>\n",
       "      <td>3.919560e-15</td>\n",
       "      <td>5.688174e-16</td>\n",
       "      <td>-8.769071e-15</td>\n",
       "      <td>2.782312e-15</td>\n",
       "      <td>-1.552563e-15</td>\n",
       "      <td>2.010663e-15</td>\n",
       "      <td>-1.694249e-15</td>\n",
       "      <td>-1.927028e-16</td>\n",
       "      <td>-3.137024e-15</td>\n",
       "      <td>1.768627e-15</td>\n",
       "      <td>9.170318e-16</td>\n",
       "      <td>-1.810658e-15</td>\n",
       "      <td>1.693438e-15</td>\n",
       "      <td>1.479045e-15</td>\n",
       "      <td>3.482336e-15</td>\n",
       "      <td>1.392007e-15</td>\n",
       "      <td>-7.528491e-16</td>\n",
       "      <td>4.328772e-16</td>\n",
       "      <td>9.049732e-16</td>\n",
       "      <td>5.085503e-16</td>\n",
       "      <td>1.537294e-16</td>\n",
       "      <td>7.959909e-16</td>\n",
       "      <td>5.367590e-16</td>\n",
       "      <td>4.458112e-15</td>\n",
       "      <td>1.453003e-15</td>\n",
       "      <td>1.699104e-15</td>\n",
       "      <td>-3.660161e-16</td>\n",
       "      <td>-1.206049e-16</td>\n",
       "      <td>88.349619</td>\n",
       "      <td>0.001727</td>\n",
       "    </tr>\n",
       "    <tr>\n",
       "      <th>std</th>\n",
       "      <td>47488.145955</td>\n",
       "      <td>1.958696e+00</td>\n",
       "      <td>1.651309e+00</td>\n",
       "      <td>1.516255e+00</td>\n",
       "      <td>1.415869e+00</td>\n",
       "      <td>1.380247e+00</td>\n",
       "      <td>1.332271e+00</td>\n",
       "      <td>1.237094e+00</td>\n",
       "      <td>1.194353e+00</td>\n",
       "      <td>1.098632e+00</td>\n",
       "      <td>1.088850e+00</td>\n",
       "      <td>1.020713e+00</td>\n",
       "      <td>9.992014e-01</td>\n",
       "      <td>9.952742e-01</td>\n",
       "      <td>9.585956e-01</td>\n",
       "      <td>9.153160e-01</td>\n",
       "      <td>8.762529e-01</td>\n",
       "      <td>8.493371e-01</td>\n",
       "      <td>8.381762e-01</td>\n",
       "      <td>8.140405e-01</td>\n",
       "      <td>7.709250e-01</td>\n",
       "      <td>7.345240e-01</td>\n",
       "      <td>7.257016e-01</td>\n",
       "      <td>6.244603e-01</td>\n",
       "      <td>6.056471e-01</td>\n",
       "      <td>5.212781e-01</td>\n",
       "      <td>4.822270e-01</td>\n",
       "      <td>4.036325e-01</td>\n",
       "      <td>3.300833e-01</td>\n",
       "      <td>250.120109</td>\n",
       "      <td>0.041527</td>\n",
       "    </tr>\n",
       "    <tr>\n",
       "      <th>min</th>\n",
       "      <td>0.000000</td>\n",
       "      <td>-5.640751e+01</td>\n",
       "      <td>-7.271573e+01</td>\n",
       "      <td>-4.832559e+01</td>\n",
       "      <td>-5.683171e+00</td>\n",
       "      <td>-1.137433e+02</td>\n",
       "      <td>-2.616051e+01</td>\n",
       "      <td>-4.355724e+01</td>\n",
       "      <td>-7.321672e+01</td>\n",
       "      <td>-1.343407e+01</td>\n",
       "      <td>-2.458826e+01</td>\n",
       "      <td>-4.797473e+00</td>\n",
       "      <td>-1.868371e+01</td>\n",
       "      <td>-5.791881e+00</td>\n",
       "      <td>-1.921433e+01</td>\n",
       "      <td>-4.498945e+00</td>\n",
       "      <td>-1.412985e+01</td>\n",
       "      <td>-2.516280e+01</td>\n",
       "      <td>-9.498746e+00</td>\n",
       "      <td>-7.213527e+00</td>\n",
       "      <td>-5.449772e+01</td>\n",
       "      <td>-3.483038e+01</td>\n",
       "      <td>-1.093314e+01</td>\n",
       "      <td>-4.480774e+01</td>\n",
       "      <td>-2.836627e+00</td>\n",
       "      <td>-1.029540e+01</td>\n",
       "      <td>-2.604551e+00</td>\n",
       "      <td>-2.256568e+01</td>\n",
       "      <td>-1.543008e+01</td>\n",
       "      <td>0.000000</td>\n",
       "      <td>0.000000</td>\n",
       "    </tr>\n",
       "    <tr>\n",
       "      <th>25%</th>\n",
       "      <td>54201.500000</td>\n",
       "      <td>-9.203734e-01</td>\n",
       "      <td>-5.985499e-01</td>\n",
       "      <td>-8.903648e-01</td>\n",
       "      <td>-8.486401e-01</td>\n",
       "      <td>-6.915971e-01</td>\n",
       "      <td>-7.682956e-01</td>\n",
       "      <td>-5.540759e-01</td>\n",
       "      <td>-2.086297e-01</td>\n",
       "      <td>-6.430976e-01</td>\n",
       "      <td>-5.354257e-01</td>\n",
       "      <td>-7.624942e-01</td>\n",
       "      <td>-4.055715e-01</td>\n",
       "      <td>-6.485393e-01</td>\n",
       "      <td>-4.255740e-01</td>\n",
       "      <td>-5.828843e-01</td>\n",
       "      <td>-4.680368e-01</td>\n",
       "      <td>-4.837483e-01</td>\n",
       "      <td>-4.988498e-01</td>\n",
       "      <td>-4.562989e-01</td>\n",
       "      <td>-2.117214e-01</td>\n",
       "      <td>-2.283949e-01</td>\n",
       "      <td>-5.423504e-01</td>\n",
       "      <td>-1.618463e-01</td>\n",
       "      <td>-3.545861e-01</td>\n",
       "      <td>-3.171451e-01</td>\n",
       "      <td>-3.269839e-01</td>\n",
       "      <td>-7.083953e-02</td>\n",
       "      <td>-5.295979e-02</td>\n",
       "      <td>5.600000</td>\n",
       "      <td>0.000000</td>\n",
       "    </tr>\n",
       "    <tr>\n",
       "      <th>50%</th>\n",
       "      <td>84692.000000</td>\n",
       "      <td>1.810880e-02</td>\n",
       "      <td>6.548556e-02</td>\n",
       "      <td>1.798463e-01</td>\n",
       "      <td>-1.984653e-02</td>\n",
       "      <td>-5.433583e-02</td>\n",
       "      <td>-2.741871e-01</td>\n",
       "      <td>4.010308e-02</td>\n",
       "      <td>2.235804e-02</td>\n",
       "      <td>-5.142873e-02</td>\n",
       "      <td>-9.291738e-02</td>\n",
       "      <td>-3.275735e-02</td>\n",
       "      <td>1.400326e-01</td>\n",
       "      <td>-1.356806e-02</td>\n",
       "      <td>5.060132e-02</td>\n",
       "      <td>4.807155e-02</td>\n",
       "      <td>6.641332e-02</td>\n",
       "      <td>-6.567575e-02</td>\n",
       "      <td>-3.636312e-03</td>\n",
       "      <td>3.734823e-03</td>\n",
       "      <td>-6.248109e-02</td>\n",
       "      <td>-2.945017e-02</td>\n",
       "      <td>6.781943e-03</td>\n",
       "      <td>-1.119293e-02</td>\n",
       "      <td>4.097606e-02</td>\n",
       "      <td>1.659350e-02</td>\n",
       "      <td>-5.213911e-02</td>\n",
       "      <td>1.342146e-03</td>\n",
       "      <td>1.124383e-02</td>\n",
       "      <td>22.000000</td>\n",
       "      <td>0.000000</td>\n",
       "    </tr>\n",
       "    <tr>\n",
       "      <th>75%</th>\n",
       "      <td>139320.500000</td>\n",
       "      <td>1.315642e+00</td>\n",
       "      <td>8.037239e-01</td>\n",
       "      <td>1.027196e+00</td>\n",
       "      <td>7.433413e-01</td>\n",
       "      <td>6.119264e-01</td>\n",
       "      <td>3.985649e-01</td>\n",
       "      <td>5.704361e-01</td>\n",
       "      <td>3.273459e-01</td>\n",
       "      <td>5.971390e-01</td>\n",
       "      <td>4.539234e-01</td>\n",
       "      <td>7.395934e-01</td>\n",
       "      <td>6.182380e-01</td>\n",
       "      <td>6.625050e-01</td>\n",
       "      <td>4.931498e-01</td>\n",
       "      <td>6.488208e-01</td>\n",
       "      <td>5.232963e-01</td>\n",
       "      <td>3.996750e-01</td>\n",
       "      <td>5.008067e-01</td>\n",
       "      <td>4.589494e-01</td>\n",
       "      <td>1.330408e-01</td>\n",
       "      <td>1.863772e-01</td>\n",
       "      <td>5.285536e-01</td>\n",
       "      <td>1.476421e-01</td>\n",
       "      <td>4.395266e-01</td>\n",
       "      <td>3.507156e-01</td>\n",
       "      <td>2.409522e-01</td>\n",
       "      <td>9.104512e-02</td>\n",
       "      <td>7.827995e-02</td>\n",
       "      <td>77.165000</td>\n",
       "      <td>0.000000</td>\n",
       "    </tr>\n",
       "    <tr>\n",
       "      <th>max</th>\n",
       "      <td>172792.000000</td>\n",
       "      <td>2.454930e+00</td>\n",
       "      <td>2.205773e+01</td>\n",
       "      <td>9.382558e+00</td>\n",
       "      <td>1.687534e+01</td>\n",
       "      <td>3.480167e+01</td>\n",
       "      <td>7.330163e+01</td>\n",
       "      <td>1.205895e+02</td>\n",
       "      <td>2.000721e+01</td>\n",
       "      <td>1.559499e+01</td>\n",
       "      <td>2.374514e+01</td>\n",
       "      <td>1.201891e+01</td>\n",
       "      <td>7.848392e+00</td>\n",
       "      <td>7.126883e+00</td>\n",
       "      <td>1.052677e+01</td>\n",
       "      <td>8.877742e+00</td>\n",
       "      <td>1.731511e+01</td>\n",
       "      <td>9.253526e+00</td>\n",
       "      <td>5.041069e+00</td>\n",
       "      <td>5.591971e+00</td>\n",
       "      <td>3.942090e+01</td>\n",
       "      <td>2.720284e+01</td>\n",
       "      <td>1.050309e+01</td>\n",
       "      <td>2.252841e+01</td>\n",
       "      <td>4.584549e+00</td>\n",
       "      <td>7.519589e+00</td>\n",
       "      <td>3.517346e+00</td>\n",
       "      <td>3.161220e+01</td>\n",
       "      <td>3.384781e+01</td>\n",
       "      <td>25691.160000</td>\n",
       "      <td>1.000000</td>\n",
       "    </tr>\n",
       "  </tbody>\n",
       "</table>\n",
       "</div>"
      ],
      "text/plain": [
       "                Time            V1  ...         Amount          Class\n",
       "count  284807.000000  2.848070e+05  ...  284807.000000  284807.000000\n",
       "mean    94813.859575  3.919560e-15  ...      88.349619       0.001727\n",
       "std     47488.145955  1.958696e+00  ...     250.120109       0.041527\n",
       "min         0.000000 -5.640751e+01  ...       0.000000       0.000000\n",
       "25%     54201.500000 -9.203734e-01  ...       5.600000       0.000000\n",
       "50%     84692.000000  1.810880e-02  ...      22.000000       0.000000\n",
       "75%    139320.500000  1.315642e+00  ...      77.165000       0.000000\n",
       "max    172792.000000  2.454930e+00  ...   25691.160000       1.000000\n",
       "\n",
       "[8 rows x 31 columns]"
      ]
     },
     "execution_count": 9,
     "metadata": {
      "tags": []
     },
     "output_type": "execute_result"
    }
   ],
   "source": [
    "df.describe()"
   ]
  },
  {
   "cell_type": "code",
   "execution_count": 10,
   "metadata": {
    "colab": {
     "base_uri": "https://localhost:8080/",
     "height": 119
    },
    "colab_type": "code",
    "id": "w5r7ZoM-uunT",
    "outputId": "3855266a-4eab-4d63-da49-b9df8de487f8"
   },
   "outputs": [
    {
     "data": {
      "text/plain": [
       "Class    0.0\n",
       "V14      0.0\n",
       "V1       0.0\n",
       "V2       0.0\n",
       "V3       0.0\n",
       "dtype: float64"
      ]
     },
     "execution_count": 10,
     "metadata": {
      "tags": []
     },
     "output_type": "execute_result"
    }
   ],
   "source": [
    "# Check null values\n",
    "df_null = df.isnull().mean()*100\n",
    "df_null.sort_values(ascending=False).head()"
   ]
  },
  {
   "cell_type": "code",
   "execution_count": 11,
   "metadata": {
    "colab": {
     "base_uri": "https://localhost:8080/",
     "height": 51
    },
    "colab_type": "code",
    "id": "G9tnFt1OuunY",
    "outputId": "db659e45-9656-4ff8-a966-e4f5134b77c4"
   },
   "outputs": [
    {
     "name": "stdout",
     "output_type": "stream",
     "text": [
      "99.82725143693798\n",
      "0.1727485630620034\n"
     ]
    }
   ],
   "source": [
    "classes = df['Class'].value_counts()\n",
    "normal_share = classes[0]/df['Class'].count()*100\n",
    "fraud_share = classes[1]/df['Class'].count()*100\n",
    "\n",
    "print(normal_share)\n",
    "print(fraud_share)"
   ]
  },
  {
   "cell_type": "code",
   "execution_count": 12,
   "metadata": {
    "colab": {
     "base_uri": "https://localhost:8080/",
     "height": 514
    },
    "colab_type": "code",
    "id": "trkdoDYtuunf",
    "outputId": "969d7897-07f2-4a69-cb97-1f0490342a4f"
   },
   "outputs": [
    {
     "data": {
      "text/plain": [
       "<matplotlib.axes._subplots.AxesSubplot at 0x7ff49a92f4e0>"
      ]
     },
     "execution_count": 12,
     "metadata": {
      "tags": []
     },
     "output_type": "execute_result"
    },
    {
     "data": {
      "image/png": "[encoded data removed]",
      "text/plain": [
       "<Figure size 720x576 with 1 Axes>"
      ]
     },
     "metadata": {
      "needs_background": "light",
      "tags": []
     },
     "output_type": "display_data"
    }
   ],
   "source": [
    "# Create a bar plot for the number and percentage of fraudulent vs non-fraudulent transcations\n",
    "fig, ax  = plt.subplots(figsize=(10, 8))\n",
    "sns.countplot(x='Class', data=df, ax=ax)"
   ]
  },
  {
   "cell_type": "code",
   "execution_count": 13,
   "metadata": {
    "colab": {
     "base_uri": "https://localhost:8080/",
     "height": 51
    },
    "colab_type": "code",
    "id": "NBpyOCOFuunl",
    "outputId": "93da1a7e-6c7b-4fc4-ef54-35bd85ecc42f"
   },
   "outputs": [
    {
     "name": "stdout",
     "output_type": "stream",
     "text": [
      "(284315, 31)\n",
      "(492, 31)\n"
     ]
    }
   ],
   "source": [
    "df_nonfraud = df[df.Class == 0]\n",
    "df_fraud = df[df.Class == 1]\n",
    "\n",
    "print(df_nonfraud.shape)\n",
    "print(df_fraud.shape)"
   ]
  },
  {
   "cell_type": "code",
   "execution_count": 14,
   "metadata": {
    "colab": {
     "base_uri": "https://localhost:8080/",
     "height": 514
    },
    "colab_type": "code",
    "id": "ySLR5VZZuunq",
    "outputId": "d042fe6f-d94f-4b52-83a0-72c2218b285e"
   },
   "outputs": [
    {
     "data": {
      "text/plain": [
       "<matplotlib.axes._subplots.AxesSubplot at 0x7ff4991a50b8>"
      ]
     },
     "execution_count": 14,
     "metadata": {
      "tags": []
     },
     "output_type": "execute_result"
    },
    {
     "data": {
      "image/png": "[encoded data removed]",
      "text/plain": [
       "<Figure size 720x576 with 2 Axes>"
      ]
     },
     "metadata": {
      "needs_background": "light",
      "tags": []
     },
     "output_type": "display_data"
    }
   ],
   "source": [
    "# Transactions by hour\n",
    "bins = np.linspace(0, 48, 48)\n",
    "\n",
    "fig, ax = plt.subplots(figsize=(10, 8))\n",
    "sns.histplot(x=(df_nonfraud.Time/(60*60)), bins=bins, ax=ax)\n",
    "sns.histplot(x=(df_fraud.Time/(60*60)), bins=bins, ax=ax.twinx(), color='red')"
   ]
  },
  {
   "cell_type": "markdown",
   "metadata": {
    "colab_type": "text",
    "id": "9BNApUf9uunv"
   },
   "source": [
    "Here we can see the fraud (red) transactions happen during the night hours 2-4 AM/PM when normal (blue) transactions happen."
   ]
  },
  {
   "cell_type": "markdown",
   "metadata": {
    "colab_type": "text",
    "id": "0NuczqRHuunw"
   },
   "source": [
    "### Splitting the data into train & test data"
   ]
  },
  {
   "cell_type": "code",
   "execution_count": 5,
   "metadata": {
    "colab": {},
    "colab_type": "code",
    "id": "lSkqNc0Buunx"
   },
   "outputs": [],
   "source": [
    "y = df['Class'] # Target variable\n",
    "X = df.drop(['Class'], axis=1)"
   ]
  },
  {
   "cell_type": "code",
   "execution_count": 6,
   "metadata": {
    "colab": {},
    "colab_type": "code",
    "id": "nwX89cjVuun0"
   },
   "outputs": [],
   "source": [
    "from sklearn.model_selection import train_test_split\n",
    "\n",
    "X_train, X_test, y_train, y_test = train_test_split(X, y, test_size=0.3, stratify=y)"
   ]
  },
  {
   "cell_type": "code",
   "execution_count": 7,
   "metadata": {
    "colab": {
     "base_uri": "https://localhost:8080/",
     "height": 68
    },
    "colab_type": "code",
    "id": "M2azr3KXuun5",
    "outputId": "a1959a08-581f-4484-f936-d990a45d0645"
   },
   "outputs": [
    {
     "name": "stdout",
     "output_type": "stream",
     "text": [
      "492\n",
      "344\n",
      "148\n"
     ]
    }
   ],
   "source": [
    "print(np.sum(y))\n",
    "print(np.sum(y_train))\n",
    "print(np.sum(y_test))"
   ]
  },
  {
   "cell_type": "markdown",
   "metadata": {
    "colab_type": "text",
    "id": "Zen7HZuSuun9"
   },
   "source": [
    "### Plotting the distribution of a variable"
   ]
  },
  {
   "cell_type": "code",
   "execution_count": 18,
   "metadata": {
    "colab": {
     "base_uri": "https://localhost:8080/",
     "height": 514
    },
    "colab_type": "code",
    "id": "-kvU4YxFuun-",
    "outputId": "340924c1-f6aa-4991-9b58-7458dfa88d52"
   },
   "outputs": [
    {
     "data": {
      "text/plain": [
       "<matplotlib.axes._subplots.AxesSubplot at 0x7ff49902a940>"
      ]
     },
     "execution_count": 18,
     "metadata": {
      "tags": []
     },
     "output_type": "execute_result"
    },
    {
     "data": {
      "image/png": "[encoded data removed]",
      "text/plain": [
       "<Figure size 720x576 with 1 Axes>"
      ]
     },
     "metadata": {
      "needs_background": "light",
      "tags": []
     },
     "output_type": "display_data"
    }
   ],
   "source": [
    "# plot the histogram of a variable from the dataset to see the skewness\n",
    "fig, ax = plt.subplots(figsize=(10, 8))\n",
    "sns.histplot(x=X_train['Amount'], bins=10, ax=ax)"
   ]
  },
  {
   "cell_type": "markdown",
   "metadata": {
    "colab_type": "text",
    "id": "sgbSbr-FuuoC"
   },
   "source": [
    "### Power Transformer"
   ]
  },
  {
   "cell_type": "code",
   "execution_count": 8,
   "metadata": {
    "colab": {},
    "colab_type": "code",
    "id": "jjX-93h2uuoD"
   },
   "outputs": [],
   "source": [
    "# - Apply : preprocessing.PowerTransformer(copy=False) to fit & transform the train & test data\n",
    "pt = preprocessing.PowerTransformer(copy=False)\n",
    "pt.fit_transform(X)\n",
    "\n",
    "X_train, X_test, y_train, y_test = train_test_split(X, y, test_size=0.3, stratify=y)"
   ]
  },
  {
   "cell_type": "code",
   "execution_count": 20,
   "metadata": {
    "colab": {
     "base_uri": "https://localhost:8080/",
     "height": 514
    },
    "colab_type": "code",
    "id": "J4u9UOexuuoF",
    "outputId": "e713156f-25f4-4f80-b396-af6be81bee1f"
   },
   "outputs": [
    {
     "data": {
      "text/plain": [
       "<matplotlib.axes._subplots.AxesSubplot at 0x7ff498fa8b70>"
      ]
     },
     "execution_count": 20,
     "metadata": {
      "tags": []
     },
     "output_type": "execute_result"
    },
    {
     "data": {
      "image/png": "[encoded data removed]",
      "text/plain": [
       "<Figure size 720x576 with 1 Axes>"
      ]
     },
     "metadata": {
      "needs_background": "light",
      "tags": []
     },
     "output_type": "display_data"
    }
   ],
   "source": [
    "# plot the histogram of a variable from the dataset again to see the result \n",
    "fig, ax = plt.subplots(figsize=(10, 8))\n",
    "sns.histplot(x=X_train['Amount'], bins=10, ax=ax)"
   ]
  },
  {
   "cell_type": "markdown",
   "metadata": {
    "colab_type": "text",
    "id": "M72jQ7bSuuoJ"
   },
   "source": [
    "# Model Building\n",
    "- Build different models on the imbalanced dataset and see the result"
   ]
  },
  {
   "cell_type": "markdown",
   "metadata": {
    "colab_type": "text",
    "id": "epDEUFwg0PQ5"
   },
   "source": [
    "## Logistic Regression"
   ]
  },
  {
   "cell_type": "code",
   "execution_count": null,
   "metadata": {
    "colab": {},
    "colab_type": "code",
    "id": "rBbZ5VKOuuoJ",
    "scrolled": false
   },
   "outputs": [],
   "source": [
    "lr_1 = LogisticRegression(random_state=100)\n",
    "\n",
    "cv = 5\n",
    "params = {\n",
    "    'C': [0.1, 0.5, 1, 5, 10],\n",
    "    'penalty': ['l1', 'l2']\n",
    "}"
   ]
  },
  {
   "cell_type": "code",
   "execution_count": null,
   "metadata": {
    "colab": {
     "base_uri": "https://localhost:8080/",
     "height": 787
    },
    "colab_type": "code",
    "id": "M2sJPbZ5uuoM",
    "outputId": "999b5c50-e1cd-4ddc-abd8-71be0758e435"
   },
   "outputs": [
    {
     "name": "stdout",
     "output_type": "stream",
     "text": [
      "Fitting 5 folds for each of 10 candidates, totalling 50 fits\n"
     ]
    },
    {
     "name": "stderr",
     "output_type": "stream",
     "text": [
      "[Parallel(n_jobs=-1)]: Using backend LokyBackend with 12 concurrent workers.\n",
      "[Parallel(n_jobs=-1)]: Done  26 tasks      | elapsed:    7.7s\n",
      "[Parallel(n_jobs=-1)]: Done  50 out of  50 | elapsed:   12.8s finished\n"
     ]
    },
    {
     "data": {
      "text/html": [
       "<div>\n",
       "<style scoped>\n",
       "    .dataframe tbody tr th:only-of-type {\n",
       "        vertical-align: middle;\n",
       "    }\n",
       "\n",
       "    .dataframe tbody tr th {\n",
       "        vertical-align: top;\n",
       "    }\n",
       "\n",
       "    .dataframe thead th {\n",
       "        text-align: right;\n",
       "    }\n",
       "</style>\n",
       "<table border=\"1\" class=\"dataframe\">\n",
       "  <thead>\n",
       "    <tr style=\"text-align: right;\">\n",
       "      <th></th>\n",
       "      <th>mean_fit_time</th>\n",
       "      <th>std_fit_time</th>\n",
       "      <th>mean_score_time</th>\n",
       "      <th>std_score_time</th>\n",
       "      <th>param_C</th>\n",
       "      <th>param_penalty</th>\n",
       "      <th>params</th>\n",
       "      <th>split0_test_score</th>\n",
       "      <th>split1_test_score</th>\n",
       "      <th>split2_test_score</th>\n",
       "      <th>...</th>\n",
       "      <th>mean_test_score</th>\n",
       "      <th>std_test_score</th>\n",
       "      <th>rank_test_score</th>\n",
       "      <th>split0_train_score</th>\n",
       "      <th>split1_train_score</th>\n",
       "      <th>split2_train_score</th>\n",
       "      <th>split3_train_score</th>\n",
       "      <th>split4_train_score</th>\n",
       "      <th>mean_train_score</th>\n",
       "      <th>std_train_score</th>\n",
       "    </tr>\n",
       "  </thead>\n",
       "  <tbody>\n",
       "    <tr>\n",
       "      <th>0</th>\n",
       "      <td>0.112199</td>\n",
       "      <td>0.005192</td>\n",
       "      <td>0.000000</td>\n",
       "      <td>0.000000</td>\n",
       "      <td>0.1</td>\n",
       "      <td>l1</td>\n",
       "      <td>{'C': 0.1, 'penalty': 'l1'}</td>\n",
       "      <td>NaN</td>\n",
       "      <td>NaN</td>\n",
       "      <td>NaN</td>\n",
       "      <td>...</td>\n",
       "      <td>NaN</td>\n",
       "      <td>NaN</td>\n",
       "      <td>6</td>\n",
       "      <td>NaN</td>\n",
       "      <td>NaN</td>\n",
       "      <td>NaN</td>\n",
       "      <td>NaN</td>\n",
       "      <td>NaN</td>\n",
       "      <td>NaN</td>\n",
       "      <td>NaN</td>\n",
       "    </tr>\n",
       "    <tr>\n",
       "      <th>1</th>\n",
       "      <td>3.306103</td>\n",
       "      <td>0.425006</td>\n",
       "      <td>0.054601</td>\n",
       "      <td>0.013336</td>\n",
       "      <td>0.1</td>\n",
       "      <td>l2</td>\n",
       "      <td>{'C': 0.1, 'penalty': 'l2'}</td>\n",
       "      <td>0.979357</td>\n",
       "      <td>0.970765</td>\n",
       "      <td>0.966634</td>\n",
       "      <td>...</td>\n",
       "      <td>0.976761</td>\n",
       "      <td>0.006996</td>\n",
       "      <td>1</td>\n",
       "      <td>0.979676</td>\n",
       "      <td>0.982647</td>\n",
       "      <td>0.984757</td>\n",
       "      <td>0.980738</td>\n",
       "      <td>0.978393</td>\n",
       "      <td>0.981242</td>\n",
       "      <td>0.002243</td>\n",
       "    </tr>\n",
       "    <tr>\n",
       "      <th>2</th>\n",
       "      <td>0.146399</td>\n",
       "      <td>0.020877</td>\n",
       "      <td>0.000000</td>\n",
       "      <td>0.000000</td>\n",
       "      <td>0.5</td>\n",
       "      <td>l1</td>\n",
       "      <td>{'C': 0.5, 'penalty': 'l1'}</td>\n",
       "      <td>NaN</td>\n",
       "      <td>NaN</td>\n",
       "      <td>NaN</td>\n",
       "      <td>...</td>\n",
       "      <td>NaN</td>\n",
       "      <td>NaN</td>\n",
       "      <td>7</td>\n",
       "      <td>NaN</td>\n",
       "      <td>NaN</td>\n",
       "      <td>NaN</td>\n",
       "      <td>NaN</td>\n",
       "      <td>NaN</td>\n",
       "      <td>NaN</td>\n",
       "      <td>NaN</td>\n",
       "    </tr>\n",
       "    <tr>\n",
       "      <th>3</th>\n",
       "      <td>4.009617</td>\n",
       "      <td>0.415812</td>\n",
       "      <td>0.052026</td>\n",
       "      <td>0.008331</td>\n",
       "      <td>0.5</td>\n",
       "      <td>l2</td>\n",
       "      <td>{'C': 0.5, 'penalty': 'l2'}</td>\n",
       "      <td>0.978927</td>\n",
       "      <td>0.970759</td>\n",
       "      <td>0.966106</td>\n",
       "      <td>...</td>\n",
       "      <td>0.976165</td>\n",
       "      <td>0.006779</td>\n",
       "      <td>2</td>\n",
       "      <td>0.978968</td>\n",
       "      <td>0.981929</td>\n",
       "      <td>0.984186</td>\n",
       "      <td>0.980286</td>\n",
       "      <td>0.977861</td>\n",
       "      <td>0.980646</td>\n",
       "      <td>0.002230</td>\n",
       "    </tr>\n",
       "    <tr>\n",
       "      <th>4</th>\n",
       "      <td>0.272003</td>\n",
       "      <td>0.100822</td>\n",
       "      <td>0.000000</td>\n",
       "      <td>0.000000</td>\n",
       "      <td>1</td>\n",
       "      <td>l1</td>\n",
       "      <td>{'C': 1, 'penalty': 'l1'}</td>\n",
       "      <td>NaN</td>\n",
       "      <td>NaN</td>\n",
       "      <td>NaN</td>\n",
       "      <td>...</td>\n",
       "      <td>NaN</td>\n",
       "      <td>NaN</td>\n",
       "      <td>8</td>\n",
       "      <td>NaN</td>\n",
       "      <td>NaN</td>\n",
       "      <td>NaN</td>\n",
       "      <td>NaN</td>\n",
       "      <td>NaN</td>\n",
       "      <td>NaN</td>\n",
       "      <td>NaN</td>\n",
       "    </tr>\n",
       "    <tr>\n",
       "      <th>5</th>\n",
       "      <td>4.065513</td>\n",
       "      <td>0.457359</td>\n",
       "      <td>0.049601</td>\n",
       "      <td>0.013588</td>\n",
       "      <td>1</td>\n",
       "      <td>l2</td>\n",
       "      <td>{'C': 1, 'penalty': 'l2'}</td>\n",
       "      <td>0.978855</td>\n",
       "      <td>0.970748</td>\n",
       "      <td>0.966026</td>\n",
       "      <td>...</td>\n",
       "      <td>0.976066</td>\n",
       "      <td>0.006744</td>\n",
       "      <td>3</td>\n",
       "      <td>0.978856</td>\n",
       "      <td>0.981809</td>\n",
       "      <td>0.984092</td>\n",
       "      <td>0.980213</td>\n",
       "      <td>0.977775</td>\n",
       "      <td>0.980549</td>\n",
       "      <td>0.002228</td>\n",
       "    </tr>\n",
       "    <tr>\n",
       "      <th>6</th>\n",
       "      <td>0.195999</td>\n",
       "      <td>0.041470</td>\n",
       "      <td>0.000000</td>\n",
       "      <td>0.000000</td>\n",
       "      <td>5</td>\n",
       "      <td>l1</td>\n",
       "      <td>{'C': 5, 'penalty': 'l1'}</td>\n",
       "      <td>NaN</td>\n",
       "      <td>NaN</td>\n",
       "      <td>NaN</td>\n",
       "      <td>...</td>\n",
       "      <td>NaN</td>\n",
       "      <td>NaN</td>\n",
       "      <td>9</td>\n",
       "      <td>NaN</td>\n",
       "      <td>NaN</td>\n",
       "      <td>NaN</td>\n",
       "      <td>NaN</td>\n",
       "      <td>NaN</td>\n",
       "      <td>NaN</td>\n",
       "      <td>NaN</td>\n",
       "    </tr>\n",
       "    <tr>\n",
       "      <th>7</th>\n",
       "      <td>3.586492</td>\n",
       "      <td>0.224076</td>\n",
       "      <td>0.038599</td>\n",
       "      <td>0.004500</td>\n",
       "      <td>5</td>\n",
       "      <td>l2</td>\n",
       "      <td>{'C': 5, 'penalty': 'l2'}</td>\n",
       "      <td>0.978782</td>\n",
       "      <td>0.970742</td>\n",
       "      <td>0.965963</td>\n",
       "      <td>...</td>\n",
       "      <td>0.975982</td>\n",
       "      <td>0.006711</td>\n",
       "      <td>4</td>\n",
       "      <td>0.978763</td>\n",
       "      <td>0.981713</td>\n",
       "      <td>0.984014</td>\n",
       "      <td>0.980144</td>\n",
       "      <td>0.977696</td>\n",
       "      <td>0.980466</td>\n",
       "      <td>0.002228</td>\n",
       "    </tr>\n",
       "    <tr>\n",
       "      <th>8</th>\n",
       "      <td>0.208571</td>\n",
       "      <td>0.027370</td>\n",
       "      <td>0.000000</td>\n",
       "      <td>0.000000</td>\n",
       "      <td>10</td>\n",
       "      <td>l1</td>\n",
       "      <td>{'C': 10, 'penalty': 'l1'}</td>\n",
       "      <td>NaN</td>\n",
       "      <td>NaN</td>\n",
       "      <td>NaN</td>\n",
       "      <td>...</td>\n",
       "      <td>NaN</td>\n",
       "      <td>NaN</td>\n",
       "      <td>10</td>\n",
       "      <td>NaN</td>\n",
       "      <td>NaN</td>\n",
       "      <td>NaN</td>\n",
       "      <td>NaN</td>\n",
       "      <td>NaN</td>\n",
       "      <td>NaN</td>\n",
       "      <td>NaN</td>\n",
       "    </tr>\n",
       "    <tr>\n",
       "      <th>9</th>\n",
       "      <td>2.927082</td>\n",
       "      <td>0.496901</td>\n",
       "      <td>0.022395</td>\n",
       "      <td>0.005963</td>\n",
       "      <td>10</td>\n",
       "      <td>l2</td>\n",
       "      <td>{'C': 10, 'penalty': 'l2'}</td>\n",
       "      <td>0.978771</td>\n",
       "      <td>0.970740</td>\n",
       "      <td>0.965957</td>\n",
       "      <td>...</td>\n",
       "      <td>0.975971</td>\n",
       "      <td>0.006706</td>\n",
       "      <td>5</td>\n",
       "      <td>0.978750</td>\n",
       "      <td>0.981700</td>\n",
       "      <td>0.984003</td>\n",
       "      <td>0.980135</td>\n",
       "      <td>0.977687</td>\n",
       "      <td>0.980455</td>\n",
       "      <td>0.002228</td>\n",
       "    </tr>\n",
       "  </tbody>\n",
       "</table>\n",
       "<p>10 rows × 22 columns</p>\n",
       "</div>"
      ],
      "text/plain": [
       "   mean_fit_time  std_fit_time  mean_score_time  std_score_time param_C  \\\n",
       "0       0.112199      0.005192         0.000000        0.000000     0.1   \n",
       "1       3.306103      0.425006         0.054601        0.013336     0.1   \n",
       "2       0.146399      0.020877         0.000000        0.000000     0.5   \n",
       "3       4.009617      0.415812         0.052026        0.008331     0.5   \n",
       "4       0.272003      0.100822         0.000000        0.000000       1   \n",
       "5       4.065513      0.457359         0.049601        0.013588       1   \n",
       "6       0.195999      0.041470         0.000000        0.000000       5   \n",
       "7       3.586492      0.224076         0.038599        0.004500       5   \n",
       "8       0.208571      0.027370         0.000000        0.000000      10   \n",
       "9       2.927082      0.496901         0.022395        0.005963      10   \n",
       "\n",
       "  param_penalty                       params  split0_test_score  \\\n",
       "0            l1  {'C': 0.1, 'penalty': 'l1'}                NaN   \n",
       "1            l2  {'C': 0.1, 'penalty': 'l2'}           0.979357   \n",
       "2            l1  {'C': 0.5, 'penalty': 'l1'}                NaN   \n",
       "3            l2  {'C': 0.5, 'penalty': 'l2'}           0.978927   \n",
       "4            l1    {'C': 1, 'penalty': 'l1'}                NaN   \n",
       "5            l2    {'C': 1, 'penalty': 'l2'}           0.978855   \n",
       "6            l1    {'C': 5, 'penalty': 'l1'}                NaN   \n",
       "7            l2    {'C': 5, 'penalty': 'l2'}           0.978782   \n",
       "8            l1   {'C': 10, 'penalty': 'l1'}                NaN   \n",
       "9            l2   {'C': 10, 'penalty': 'l2'}           0.978771   \n",
       "\n",
       "   split1_test_score  split2_test_score  ...  mean_test_score  std_test_score  \\\n",
       "0                NaN                NaN  ...              NaN             NaN   \n",
       "1           0.970765           0.966634  ...         0.976761        0.006996   \n",
       "2                NaN                NaN  ...              NaN             NaN   \n",
       "3           0.970759           0.966106  ...         0.976165        0.006779   \n",
       "4                NaN                NaN  ...              NaN             NaN   \n",
       "5           0.970748           0.966026  ...         0.976066        0.006744   \n",
       "6                NaN                NaN  ...              NaN             NaN   \n",
       "7           0.970742           0.965963  ...         0.975982        0.006711   \n",
       "8                NaN                NaN  ...              NaN             NaN   \n",
       "9           0.970740           0.965957  ...         0.975971        0.006706   \n",
       "\n",
       "   rank_test_score  split0_train_score  split1_train_score  \\\n",
       "0                6                 NaN                 NaN   \n",
       "1                1            0.979676            0.982647   \n",
       "2                7                 NaN                 NaN   \n",
       "3                2            0.978968            0.981929   \n",
       "4                8                 NaN                 NaN   \n",
       "5                3            0.978856            0.981809   \n",
       "6                9                 NaN                 NaN   \n",
       "7                4            0.978763            0.981713   \n",
       "8               10                 NaN                 NaN   \n",
       "9                5            0.978750            0.981700   \n",
       "\n",
       "   split2_train_score  split3_train_score  split4_train_score  \\\n",
       "0                 NaN                 NaN                 NaN   \n",
       "1            0.984757            0.980738            0.978393   \n",
       "2                 NaN                 NaN                 NaN   \n",
       "3            0.984186            0.980286            0.977861   \n",
       "4                 NaN                 NaN                 NaN   \n",
       "5            0.984092            0.980213            0.977775   \n",
       "6                 NaN                 NaN                 NaN   \n",
       "7            0.984014            0.980144            0.977696   \n",
       "8                 NaN                 NaN                 NaN   \n",
       "9            0.984003            0.980135            0.977687   \n",
       "\n",
       "   mean_train_score  std_train_score  \n",
       "0               NaN              NaN  \n",
       "1          0.981242         0.002243  \n",
       "2               NaN              NaN  \n",
       "3          0.980646         0.002230  \n",
       "4               NaN              NaN  \n",
       "5          0.980549         0.002228  \n",
       "6               NaN              NaN  \n",
       "7          0.980466         0.002228  \n",
       "8               NaN              NaN  \n",
       "9          0.980455         0.002228  \n",
       "\n",
       "[10 rows x 22 columns]"
      ]
     },
     "execution_count": 17,
     "metadata": {
      "tags": []
     },
     "output_type": "execute_result"
    }
   ],
   "source": [
    "# perform cross validation\n",
    "grid_args = {\n",
    "    'estimator': lr_1,\n",
    "    'cv': cv,\n",
    "    'param_grid': params,\n",
    "    'scoring': 'roc_auc', \n",
    "    'n_jobs': -1,\n",
    "    'verbose': 1,\n",
    "    'return_train_score': True\n",
    "}\n",
    "lr_1_cv = GridSearchCV(**grid_args)\n",
    "lr_1_cv.fit(X_train, y_train)\n",
    "pd.DataFrame(lr_1_cv.cv_results_)"
   ]
  },
  {
   "cell_type": "code",
   "execution_count": null,
   "metadata": {
    "colab": {
     "base_uri": "https://localhost:8080/",
     "height": 51
    },
    "colab_type": "code",
    "id": "IJihZAIFw2rz",
    "outputId": "4ffe1d9a-bde1-42b1-f5e0-93fccd5545a3"
   },
   "outputs": [
    {
     "name": "stdout",
     "output_type": "stream",
     "text": [
      "Best AUC :  0.977\n",
      "Best hyperparameters:  {'C': 0.1, 'penalty': 'l2'}\n"
     ]
    }
   ],
   "source": [
    "print('Best AUC : ', round(lr_1_cv.best_score_, 3))\n",
    "print('Best hyperparameters: ', lr_1_cv.best_params_)"
   ]
  },
  {
   "cell_type": "code",
   "execution_count": null,
   "metadata": {
    "colab": {},
    "colab_type": "code",
    "id": "j-ayWc3NuuoP"
   },
   "outputs": [],
   "source": [
    "lr_1_tuned = LogisticRegression(**lr_1_cv.best_params_)\n",
    "lr_1_tuned.fit(X_train, y_train)\n",
    "y_pred = lr_1_tuned.predict(X_test)"
   ]
  },
  {
   "cell_type": "code",
   "execution_count": null,
   "metadata": {
    "colab": {
     "base_uri": "https://localhost:8080/",
     "height": 170
    },
    "colab_type": "code",
    "id": "lZ0VEJ97xpdT",
    "outputId": "939fe643-964e-4c6f-949b-492fa9f0552d"
   },
   "outputs": [
    {
     "name": "stdout",
     "output_type": "stream",
     "text": [
      "              precision    recall  f1-score   support\n",
      "\n",
      "           0       1.00      1.00      1.00     85295\n",
      "           1       0.92      0.58      0.71       148\n",
      "\n",
      "    accuracy                           1.00     85443\n",
      "   macro avg       0.96      0.79      0.86     85443\n",
      "weighted avg       1.00      1.00      1.00     85443\n",
      "\n"
     ]
    }
   ],
   "source": [
    "print(metrics.classification_report(y_test, y_pred))"
   ]
  },
  {
   "cell_type": "code",
   "execution_count": null,
   "metadata": {
    "colab": {
     "base_uri": "https://localhost:8080/",
     "height": 51
    },
    "colab_type": "code",
    "id": "6tlVIsfIx25d",
    "outputId": "8ccefe62-4e47-433e-a331-372c28fe9336"
   },
   "outputs": [
    {
     "data": {
      "text/plain": [
       "array([[85288,     7],\n",
       "       [   62,    86]], dtype=int64)"
      ]
     },
     "execution_count": 21,
     "metadata": {
      "tags": []
     },
     "output_type": "execute_result"
    }
   ],
   "source": [
    "metrics.confusion_matrix(y_test, y_pred)"
   ]
  },
  {
   "cell_type": "code",
   "execution_count": null,
   "metadata": {
    "colab": {
     "base_uri": "https://localhost:8080/",
     "height": 51
    },
    "colab_type": "code",
    "id": "qKW38pzeyEIM",
    "outputId": "371c75f6-f50b-4360-cd1d-427f480e1c63"
   },
   "outputs": [
    {
     "name": "stdout",
     "output_type": "stream",
     "text": [
      "Accuracy:  0.9991924440855307\n",
      "ROC AUC: 0.7904995064822722\n"
     ]
    }
   ],
   "source": [
    "print('Accuracy: ', metrics.accuracy_score(y_test, y_pred))\n",
    "print('ROC AUC:', metrics.roc_auc_score(y_test, y_pred))"
   ]
  },
  {
   "cell_type": "code",
   "execution_count": null,
   "metadata": {
    "colab": {
     "base_uri": "https://localhost:8080/",
     "height": 514
    },
    "colab_type": "code",
    "id": "FLpkVmlayqdk",
    "outputId": "0199c4ae-bdda-4658-9f81-df95a3174c73"
   },
   "outputs": [
    {
     "data": {
      "text/plain": [
       "<sklearn.metrics._plot.roc_curve.RocCurveDisplay at 0x238137d4848>"
      ]
     },
     "execution_count": 23,
     "metadata": {
      "tags": []
     },
     "output_type": "execute_result"
    },
    {
     "data": {
      "image/png": "[encoded data removed]",
      "text/plain": [
       "<Figure size 576x576 with 1 Axes>"
      ]
     },
     "metadata": {
      "needs_background": "light",
      "tags": []
     },
     "output_type": "display_data"
    }
   ],
   "source": [
    "fig, ax = plt.subplots(figsize=(8, 8))\n",
    "metrics.plot_roc_curve(lr_1_tuned, X_test, y_test, ax=ax)"
   ]
  },
  {
   "cell_type": "markdown",
   "metadata": {
    "colab_type": "text",
    "id": "BCjJhKSo1AzK"
   },
   "source": [
    "- Precision : 0.86\n",
    "- Recall : 0.64\n",
    "- F1-score : 0.73\n",
    "- Accuracy : 0.99\n",
    "- ROC AUC : 0.82"
   ]
  },
  {
   "cell_type": "markdown",
   "metadata": {
    "colab_type": "text",
    "id": "h82UuNGd0cBr"
   },
   "source": [
    "## Random Forest"
   ]
  },
  {
   "cell_type": "code",
   "execution_count": null,
   "metadata": {
    "colab": {},
    "colab_type": "code",
    "id": "5q3-5GYK0efI"
   },
   "outputs": [],
   "source": [
    "rf_1 = RandomForestClassifier(random_state=100)\n",
    "\n",
    "cv = 5\n",
    "params = { \n",
    "    'n_estimators': [100, 400, 1000],\n",
    "    'max_depth' : [4, 6, 10, 16]\n",
    "}"
   ]
  },
  {
   "cell_type": "code",
   "execution_count": null,
   "metadata": {
    "colab": {
     "base_uri": "https://localhost:8080/"
    },
    "colab_type": "code",
    "id": "YpoAUuxk1uFZ",
    "outputId": "9c48425b-3e8d-48e0-91eb-f0e4162a2cbc"
   },
   "outputs": [
    {
     "name": "stdout",
     "output_type": "stream",
     "text": [
      "Fitting 5 folds for each of 12 candidates, totalling 60 fits\n"
     ]
    },
    {
     "name": "stderr",
     "output_type": "stream",
     "text": [
      "[Parallel(n_jobs=-1)]: Using backend LokyBackend with 12 concurrent workers.\n",
      "[Parallel(n_jobs=-1)]: Done  26 tasks      | elapsed: 13.8min\n",
      "[Parallel(n_jobs=-1)]: Done  60 out of  60 | elapsed: 62.3min finished\n"
     ]
    },
    {
     "data": {
      "text/html": [
       "<div>\n",
       "<style scoped>\n",
       "    .dataframe tbody tr th:only-of-type {\n",
       "        vertical-align: middle;\n",
       "    }\n",
       "\n",
       "    .dataframe tbody tr th {\n",
       "        vertical-align: top;\n",
       "    }\n",
       "\n",
       "    .dataframe thead th {\n",
       "        text-align: right;\n",
       "    }\n",
       "</style>\n",
       "<table border=\"1\" class=\"dataframe\">\n",
       "  <thead>\n",
       "    <tr style=\"text-align: right;\">\n",
       "      <th></th>\n",
       "      <th>mean_fit_time</th>\n",
       "      <th>std_fit_time</th>\n",
       "      <th>mean_score_time</th>\n",
       "      <th>std_score_time</th>\n",
       "      <th>param_max_depth</th>\n",
       "      <th>param_n_estimators</th>\n",
       "      <th>params</th>\n",
       "      <th>split0_test_score</th>\n",
       "      <th>split1_test_score</th>\n",
       "      <th>split2_test_score</th>\n",
       "      <th>...</th>\n",
       "      <th>mean_test_score</th>\n",
       "      <th>std_test_score</th>\n",
       "      <th>rank_test_score</th>\n",
       "      <th>split0_train_score</th>\n",
       "      <th>split1_train_score</th>\n",
       "      <th>split2_train_score</th>\n",
       "      <th>split3_train_score</th>\n",
       "      <th>split4_train_score</th>\n",
       "      <th>mean_train_score</th>\n",
       "      <th>std_train_score</th>\n",
       "    </tr>\n",
       "  </thead>\n",
       "  <tbody>\n",
       "    <tr>\n",
       "      <th>0</th>\n",
       "      <td>64.706720</td>\n",
       "      <td>0.976508</td>\n",
       "      <td>0.386650</td>\n",
       "      <td>0.074046</td>\n",
       "      <td>4</td>\n",
       "      <td>100</td>\n",
       "      <td>{'max_depth': 4, 'n_estimators': 100}</td>\n",
       "      <td>0.961696</td>\n",
       "      <td>0.951522</td>\n",
       "      <td>0.957727</td>\n",
       "      <td>...</td>\n",
       "      <td>0.964727</td>\n",
       "      <td>0.012052</td>\n",
       "      <td>10</td>\n",
       "      <td>0.970250</td>\n",
       "      <td>0.968714</td>\n",
       "      <td>0.969790</td>\n",
       "      <td>0.966596</td>\n",
       "      <td>0.961172</td>\n",
       "      <td>0.967304</td>\n",
       "      <td>3.315204e-03</td>\n",
       "    </tr>\n",
       "    <tr>\n",
       "      <th>1</th>\n",
       "      <td>261.652946</td>\n",
       "      <td>2.448989</td>\n",
       "      <td>1.503362</td>\n",
       "      <td>0.298081</td>\n",
       "      <td>4</td>\n",
       "      <td>400</td>\n",
       "      <td>{'max_depth': 4, 'n_estimators': 400}</td>\n",
       "      <td>0.954479</td>\n",
       "      <td>0.955610</td>\n",
       "      <td>0.959698</td>\n",
       "      <td>...</td>\n",
       "      <td>0.963633</td>\n",
       "      <td>0.011796</td>\n",
       "      <td>11</td>\n",
       "      <td>0.967839</td>\n",
       "      <td>0.972149</td>\n",
       "      <td>0.972322</td>\n",
       "      <td>0.969061</td>\n",
       "      <td>0.964344</td>\n",
       "      <td>0.969143</td>\n",
       "      <td>2.962572e-03</td>\n",
       "    </tr>\n",
       "    <tr>\n",
       "      <th>2</th>\n",
       "      <td>653.272546</td>\n",
       "      <td>4.411632</td>\n",
       "      <td>4.081622</td>\n",
       "      <td>0.312607</td>\n",
       "      <td>4</td>\n",
       "      <td>1000</td>\n",
       "      <td>{'max_depth': 4, 'n_estimators': 1000}</td>\n",
       "      <td>0.956500</td>\n",
       "      <td>0.953274</td>\n",
       "      <td>0.957347</td>\n",
       "      <td>...</td>\n",
       "      <td>0.962035</td>\n",
       "      <td>0.012414</td>\n",
       "      <td>12</td>\n",
       "      <td>0.973193</td>\n",
       "      <td>0.976532</td>\n",
       "      <td>0.973384</td>\n",
       "      <td>0.967993</td>\n",
       "      <td>0.966368</td>\n",
       "      <td>0.971494</td>\n",
       "      <td>3.751798e-03</td>\n",
       "    </tr>\n",
       "    <tr>\n",
       "      <th>3</th>\n",
       "      <td>95.852663</td>\n",
       "      <td>2.149342</td>\n",
       "      <td>0.467200</td>\n",
       "      <td>0.071001</td>\n",
       "      <td>6</td>\n",
       "      <td>100</td>\n",
       "      <td>{'max_depth': 6, 'n_estimators': 100}</td>\n",
       "      <td>0.969685</td>\n",
       "      <td>0.967316</td>\n",
       "      <td>0.969310</td>\n",
       "      <td>...</td>\n",
       "      <td>0.971376</td>\n",
       "      <td>0.010421</td>\n",
       "      <td>7</td>\n",
       "      <td>0.979859</td>\n",
       "      <td>0.983084</td>\n",
       "      <td>0.982584</td>\n",
       "      <td>0.982871</td>\n",
       "      <td>0.980798</td>\n",
       "      <td>0.981839</td>\n",
       "      <td>1.278824e-03</td>\n",
       "    </tr>\n",
       "    <tr>\n",
       "      <th>4</th>\n",
       "      <td>381.695257</td>\n",
       "      <td>5.325977</td>\n",
       "      <td>1.583823</td>\n",
       "      <td>0.145863</td>\n",
       "      <td>6</td>\n",
       "      <td>400</td>\n",
       "      <td>{'max_depth': 6, 'n_estimators': 400}</td>\n",
       "      <td>0.966972</td>\n",
       "      <td>0.963583</td>\n",
       "      <td>0.960560</td>\n",
       "      <td>...</td>\n",
       "      <td>0.969519</td>\n",
       "      <td>0.010917</td>\n",
       "      <td>8</td>\n",
       "      <td>0.986836</td>\n",
       "      <td>0.988956</td>\n",
       "      <td>0.984637</td>\n",
       "      <td>0.985861</td>\n",
       "      <td>0.984182</td>\n",
       "      <td>0.986094</td>\n",
       "      <td>1.707357e-03</td>\n",
       "    </tr>\n",
       "    <tr>\n",
       "      <th>5</th>\n",
       "      <td>963.027845</td>\n",
       "      <td>5.947717</td>\n",
       "      <td>4.065237</td>\n",
       "      <td>0.239501</td>\n",
       "      <td>6</td>\n",
       "      <td>1000</td>\n",
       "      <td>{'max_depth': 6, 'n_estimators': 1000}</td>\n",
       "      <td>0.968814</td>\n",
       "      <td>0.963302</td>\n",
       "      <td>0.959359</td>\n",
       "      <td>...</td>\n",
       "      <td>0.969385</td>\n",
       "      <td>0.011119</td>\n",
       "      <td>9</td>\n",
       "      <td>0.989525</td>\n",
       "      <td>0.991607</td>\n",
       "      <td>0.987774</td>\n",
       "      <td>0.986653</td>\n",
       "      <td>0.990669</td>\n",
       "      <td>0.989246</td>\n",
       "      <td>1.820262e-03</td>\n",
       "    </tr>\n",
       "    <tr>\n",
       "      <th>6</th>\n",
       "      <td>158.002071</td>\n",
       "      <td>3.486015</td>\n",
       "      <td>0.579416</td>\n",
       "      <td>0.097485</td>\n",
       "      <td>10</td>\n",
       "      <td>100</td>\n",
       "      <td>{'max_depth': 10, 'n_estimators': 100}</td>\n",
       "      <td>0.977494</td>\n",
       "      <td>0.970681</td>\n",
       "      <td>0.963048</td>\n",
       "      <td>...</td>\n",
       "      <td>0.975068</td>\n",
       "      <td>0.009899</td>\n",
       "      <td>5</td>\n",
       "      <td>0.999361</td>\n",
       "      <td>0.997293</td>\n",
       "      <td>0.998030</td>\n",
       "      <td>0.999675</td>\n",
       "      <td>0.999797</td>\n",
       "      <td>0.998832</td>\n",
       "      <td>9.933547e-04</td>\n",
       "    </tr>\n",
       "    <tr>\n",
       "      <th>7</th>\n",
       "      <td>628.264269</td>\n",
       "      <td>4.273077</td>\n",
       "      <td>2.038850</td>\n",
       "      <td>0.173252</td>\n",
       "      <td>10</td>\n",
       "      <td>400</td>\n",
       "      <td>{'max_depth': 10, 'n_estimators': 400}</td>\n",
       "      <td>0.978345</td>\n",
       "      <td>0.973331</td>\n",
       "      <td>0.966361</td>\n",
       "      <td>...</td>\n",
       "      <td>0.975945</td>\n",
       "      <td>0.009530</td>\n",
       "      <td>3</td>\n",
       "      <td>0.999898</td>\n",
       "      <td>0.999815</td>\n",
       "      <td>0.999882</td>\n",
       "      <td>0.999862</td>\n",
       "      <td>0.999903</td>\n",
       "      <td>0.999872</td>\n",
       "      <td>3.195362e-05</td>\n",
       "    </tr>\n",
       "    <tr>\n",
       "      <th>8</th>\n",
       "      <td>1515.980709</td>\n",
       "      <td>36.978035</td>\n",
       "      <td>4.033838</td>\n",
       "      <td>0.911258</td>\n",
       "      <td>10</td>\n",
       "      <td>1000</td>\n",
       "      <td>{'max_depth': 10, 'n_estimators': 1000}</td>\n",
       "      <td>0.979650</td>\n",
       "      <td>0.971237</td>\n",
       "      <td>0.964959</td>\n",
       "      <td>...</td>\n",
       "      <td>0.975444</td>\n",
       "      <td>0.010041</td>\n",
       "      <td>4</td>\n",
       "      <td>0.999924</td>\n",
       "      <td>0.999902</td>\n",
       "      <td>0.999881</td>\n",
       "      <td>0.999855</td>\n",
       "      <td>0.999898</td>\n",
       "      <td>0.999892</td>\n",
       "      <td>2.302506e-05</td>\n",
       "    </tr>\n",
       "    <tr>\n",
       "      <th>9</th>\n",
       "      <td>222.935957</td>\n",
       "      <td>2.522197</td>\n",
       "      <td>0.641247</td>\n",
       "      <td>0.064392</td>\n",
       "      <td>16</td>\n",
       "      <td>100</td>\n",
       "      <td>{'max_depth': 16, 'n_estimators': 100}</td>\n",
       "      <td>0.981047</td>\n",
       "      <td>0.963881</td>\n",
       "      <td>0.970003</td>\n",
       "      <td>...</td>\n",
       "      <td>0.973908</td>\n",
       "      <td>0.008904</td>\n",
       "      <td>6</td>\n",
       "      <td>0.999998</td>\n",
       "      <td>0.999998</td>\n",
       "      <td>0.999997</td>\n",
       "      <td>0.999997</td>\n",
       "      <td>0.999998</td>\n",
       "      <td>0.999998</td>\n",
       "      <td>4.751205e-07</td>\n",
       "    </tr>\n",
       "    <tr>\n",
       "      <th>10</th>\n",
       "      <td>875.879586</td>\n",
       "      <td>12.893688</td>\n",
       "      <td>2.518452</td>\n",
       "      <td>0.170837</td>\n",
       "      <td>16</td>\n",
       "      <td>400</td>\n",
       "      <td>{'max_depth': 16, 'n_estimators': 400}</td>\n",
       "      <td>0.981953</td>\n",
       "      <td>0.974903</td>\n",
       "      <td>0.976607</td>\n",
       "      <td>...</td>\n",
       "      <td>0.979131</td>\n",
       "      <td>0.008615</td>\n",
       "      <td>1</td>\n",
       "      <td>0.999998</td>\n",
       "      <td>0.999998</td>\n",
       "      <td>0.999998</td>\n",
       "      <td>0.999997</td>\n",
       "      <td>0.999998</td>\n",
       "      <td>0.999998</td>\n",
       "      <td>5.356314e-07</td>\n",
       "    </tr>\n",
       "    <tr>\n",
       "      <th>11</th>\n",
       "      <td>1387.068984</td>\n",
       "      <td>192.339986</td>\n",
       "      <td>3.251017</td>\n",
       "      <td>0.197572</td>\n",
       "      <td>16</td>\n",
       "      <td>1000</td>\n",
       "      <td>{'max_depth': 16, 'n_estimators': 1000}</td>\n",
       "      <td>0.980835</td>\n",
       "      <td>0.973555</td>\n",
       "      <td>0.974057</td>\n",
       "      <td>...</td>\n",
       "      <td>0.977325</td>\n",
       "      <td>0.008521</td>\n",
       "      <td>2</td>\n",
       "      <td>0.999998</td>\n",
       "      <td>0.999999</td>\n",
       "      <td>0.999998</td>\n",
       "      <td>0.999997</td>\n",
       "      <td>0.999998</td>\n",
       "      <td>0.999998</td>\n",
       "      <td>5.338734e-07</td>\n",
       "    </tr>\n",
       "  </tbody>\n",
       "</table>\n",
       "<p>12 rows × 22 columns</p>\n",
       "</div>"
      ],
      "text/plain": [
       "    mean_fit_time  std_fit_time  mean_score_time  std_score_time  \\\n",
       "0       64.706720      0.976508         0.386650        0.074046   \n",
       "1      261.652946      2.448989         1.503362        0.298081   \n",
       "2      653.272546      4.411632         4.081622        0.312607   \n",
       "3       95.852663      2.149342         0.467200        0.071001   \n",
       "4      381.695257      5.325977         1.583823        0.145863   \n",
       "5      963.027845      5.947717         4.065237        0.239501   \n",
       "6      158.002071      3.486015         0.579416        0.097485   \n",
       "7      628.264269      4.273077         2.038850        0.173252   \n",
       "8     1515.980709     36.978035         4.033838        0.911258   \n",
       "9      222.935957      2.522197         0.641247        0.064392   \n",
       "10     875.879586     12.893688         2.518452        0.170837   \n",
       "11    1387.068984    192.339986         3.251017        0.197572   \n",
       "\n",
       "   param_max_depth param_n_estimators  \\\n",
       "0                4                100   \n",
       "1                4                400   \n",
       "2                4               1000   \n",
       "3                6                100   \n",
       "4                6                400   \n",
       "5                6               1000   \n",
       "6               10                100   \n",
       "7               10                400   \n",
       "8               10               1000   \n",
       "9               16                100   \n",
       "10              16                400   \n",
       "11              16               1000   \n",
       "\n",
       "                                     params  split0_test_score  \\\n",
       "0     {'max_depth': 4, 'n_estimators': 100}           0.961696   \n",
       "1     {'max_depth': 4, 'n_estimators': 400}           0.954479   \n",
       "2    {'max_depth': 4, 'n_estimators': 1000}           0.956500   \n",
       "3     {'max_depth': 6, 'n_estimators': 100}           0.969685   \n",
       "4     {'max_depth': 6, 'n_estimators': 400}           0.966972   \n",
       "5    {'max_depth': 6, 'n_estimators': 1000}           0.968814   \n",
       "6    {'max_depth': 10, 'n_estimators': 100}           0.977494   \n",
       "7    {'max_depth': 10, 'n_estimators': 400}           0.978345   \n",
       "8   {'max_depth': 10, 'n_estimators': 1000}           0.979650   \n",
       "9    {'max_depth': 16, 'n_estimators': 100}           0.981047   \n",
       "10   {'max_depth': 16, 'n_estimators': 400}           0.981953   \n",
       "11  {'max_depth': 16, 'n_estimators': 1000}           0.980835   \n",
       "\n",
       "    split1_test_score  split2_test_score  ...  mean_test_score  \\\n",
       "0            0.951522           0.957727  ...         0.964727   \n",
       "1            0.955610           0.959698  ...         0.963633   \n",
       "2            0.953274           0.957347  ...         0.962035   \n",
       "3            0.967316           0.969310  ...         0.971376   \n",
       "4            0.963583           0.960560  ...         0.969519   \n",
       "5            0.963302           0.959359  ...         0.969385   \n",
       "6            0.970681           0.963048  ...         0.975068   \n",
       "7            0.973331           0.966361  ...         0.975945   \n",
       "8            0.971237           0.964959  ...         0.975444   \n",
       "9            0.963881           0.970003  ...         0.973908   \n",
       "10           0.974903           0.976607  ...         0.979131   \n",
       "11           0.973555           0.974057  ...         0.977325   \n",
       "\n",
       "    std_test_score  rank_test_score  split0_train_score  split1_train_score  \\\n",
       "0         0.012052               10            0.970250            0.968714   \n",
       "1         0.011796               11            0.967839            0.972149   \n",
       "2         0.012414               12            0.973193            0.976532   \n",
       "3         0.010421                7            0.979859            0.983084   \n",
       "4         0.010917                8            0.986836            0.988956   \n",
       "5         0.011119                9            0.989525            0.991607   \n",
       "6         0.009899                5            0.999361            0.997293   \n",
       "7         0.009530                3            0.999898            0.999815   \n",
       "8         0.010041                4            0.999924            0.999902   \n",
       "9         0.008904                6            0.999998            0.999998   \n",
       "10        0.008615                1            0.999998            0.999998   \n",
       "11        0.008521                2            0.999998            0.999999   \n",
       "\n",
       "    split2_train_score  split3_train_score  split4_train_score  \\\n",
       "0             0.969790            0.966596            0.961172   \n",
       "1             0.972322            0.969061            0.964344   \n",
       "2             0.973384            0.967993            0.966368   \n",
       "3             0.982584            0.982871            0.980798   \n",
       "4             0.984637            0.985861            0.984182   \n",
       "5             0.987774            0.986653            0.990669   \n",
       "6             0.998030            0.999675            0.999797   \n",
       "7             0.999882            0.999862            0.999903   \n",
       "8             0.999881            0.999855            0.999898   \n",
       "9             0.999997            0.999997            0.999998   \n",
       "10            0.999998            0.999997            0.999998   \n",
       "11            0.999998            0.999997            0.999998   \n",
       "\n",
       "    mean_train_score  std_train_score  \n",
       "0           0.967304     3.315204e-03  \n",
       "1           0.969143     2.962572e-03  \n",
       "2           0.971494     3.751798e-03  \n",
       "3           0.981839     1.278824e-03  \n",
       "4           0.986094     1.707357e-03  \n",
       "5           0.989246     1.820262e-03  \n",
       "6           0.998832     9.933547e-04  \n",
       "7           0.999872     3.195362e-05  \n",
       "8           0.999892     2.302506e-05  \n",
       "9           0.999998     4.751205e-07  \n",
       "10          0.999998     5.356314e-07  \n",
       "11          0.999998     5.338734e-07  \n",
       "\n",
       "[12 rows x 22 columns]"
      ]
     },
     "execution_count": 25,
     "metadata": {
      "tags": []
     },
     "output_type": "execute_result"
    }
   ],
   "source": [
    "# perform cross validation\n",
    "grid_args = {\n",
    "    'estimator': rf_1,\n",
    "    'cv': cv,\n",
    "    'param_grid': params,\n",
    "    'scoring': 'roc_auc', \n",
    "    'n_jobs': -1,\n",
    "    'verbose': 1,\n",
    "    'return_train_score': True\n",
    "}\n",
    "rf_1_cv = GridSearchCV(**grid_args)\n",
    "rf_1_cv.fit(X_train, y_train)\n",
    "pd.DataFrame(rf_1_cv.cv_results_)"
   ]
  },
  {
   "cell_type": "code",
   "execution_count": null,
   "metadata": {
    "colab": {},
    "colab_type": "code",
    "id": "Dtzn8Vn02B63",
    "outputId": "c00e6338-d9f1-4bde-be85-f9a939742981"
   },
   "outputs": [
    {
     "name": "stdout",
     "output_type": "stream",
     "text": [
      "Best AUC :  0.979\n",
      "Best hyperparameters:  {'max_depth': 16, 'n_estimators': 400}\n"
     ]
    }
   ],
   "source": [
    "print('Best AUC : ', round(rf_1_cv.best_score_, 3))\n",
    "print('Best hyperparameters: ', rf_1_cv.best_params_)"
   ]
  },
  {
   "cell_type": "code",
   "execution_count": null,
   "metadata": {
    "colab": {},
    "colab_type": "code",
    "id": "pDTcItel2HD3"
   },
   "outputs": [],
   "source": [
    "rf_1_tuned = rm_1 = RandomForestClassifier(**rf_1_cv.best_params_, random_state=100)\n",
    "rf_1_tuned.fit(X_train, y_train)\n",
    "y_pred = rf_1_tuned.predict(X_test)"
   ]
  },
  {
   "cell_type": "code",
   "execution_count": null,
   "metadata": {
    "colab": {},
    "colab_type": "code",
    "id": "B0VVArzE2Sam",
    "outputId": "1220e1b2-f537-44e1-a76a-1616bc7185b0"
   },
   "outputs": [
    {
     "name": "stdout",
     "output_type": "stream",
     "text": [
      "              precision    recall  f1-score   support\n",
      "\n",
      "           0       1.00      1.00      1.00     85295\n",
      "           1       0.96      0.76      0.85       148\n",
      "\n",
      "    accuracy                           1.00     85443\n",
      "   macro avg       0.98      0.88      0.92     85443\n",
      "weighted avg       1.00      1.00      1.00     85443\n",
      "\n"
     ]
    }
   ],
   "source": [
    "print(metrics.classification_report(y_test, y_pred))"
   ]
  },
  {
   "cell_type": "code",
   "execution_count": null,
   "metadata": {
    "colab": {},
    "colab_type": "code",
    "id": "YnfEpnRV2WAm",
    "outputId": "8f33bc49-025d-4810-b9f2-7e688e97877e"
   },
   "outputs": [
    {
     "data": {
      "text/plain": [
       "array([[85290,     5],\n",
       "       [   35,   113]], dtype=int64)"
      ]
     },
     "execution_count": 30,
     "metadata": {
      "tags": []
     },
     "output_type": "execute_result"
    }
   ],
   "source": [
    "metrics.confusion_matrix(y_test, y_pred)"
   ]
  },
  {
   "cell_type": "code",
   "execution_count": null,
   "metadata": {
    "colab": {},
    "colab_type": "code",
    "id": "ybpDkVeT2ZqK",
    "outputId": "040d0c8a-762b-4f94-d63c-5896109d8e1b"
   },
   "outputs": [
    {
     "name": "stdout",
     "output_type": "stream",
     "text": [
      "Accuracy:  0.9995318516437859\n",
      "ROC AUC: 0.8817274467151365\n"
     ]
    }
   ],
   "source": [
    "print('Accuracy: ', metrics.accuracy_score(y_test, y_pred))\n",
    "print('ROC AUC:', metrics.roc_auc_score(y_test, y_pred))"
   ]
  },
  {
   "cell_type": "code",
   "execution_count": null,
   "metadata": {
    "colab": {},
    "colab_type": "code",
    "id": "nnW8LgAp2cAp",
    "outputId": "4743ed20-d483-4ff5-8e32-bea3c5b301be"
   },
   "outputs": [
    {
     "data": {
      "text/plain": [
       "<sklearn.metrics._plot.roc_curve.RocCurveDisplay at 0x238136569c8>"
      ]
     },
     "execution_count": 32,
     "metadata": {
      "tags": []
     },
     "output_type": "execute_result"
    },
    {
     "data": {
      "image/png": "[encoded data removed]",
      "text/plain": [
       "<Figure size 576x576 with 1 Axes>"
      ]
     },
     "metadata": {
      "needs_background": "light",
      "tags": []
     },
     "output_type": "display_data"
    }
   ],
   "source": [
    "fig, ax = plt.subplots(figsize=(8, 8))\n",
    "metrics.plot_roc_curve(rf_1_tuned, X_test, y_test, ax=ax)"
   ]
  },
  {
   "cell_type": "markdown",
   "metadata": {
    "colab_type": "text",
    "id": "ZJc6eHer2t7M"
   },
   "source": [
    "- Precision : 0.\n",
    "- Recall : 0.\n",
    "- F1-score : 0.\n",
    "- Accuracy : 0.\n",
    "- ROC AUC : 0."
   ]
  },
  {
   "cell_type": "markdown",
   "metadata": {
    "colab_type": "text",
    "id": "Zk9p39TzuN0P"
   },
   "source": [
    "## XGBoost"
   ]
  },
  {
   "cell_type": "code",
   "execution_count": null,
   "metadata": {
    "colab": {},
    "colab_type": "code",
    "id": "czEjMln0ubC3"
   },
   "outputs": [],
   "source": [
    "xgb_1 = XGBClassifier(tree_method='gpu_hist', predictor='gpu_predictor', max_bins=128, random_state=100)\n",
    "\n",
    "cv = 5\n",
    "params = {\n",
    "    'min_child_weight': [1, 5],\n",
    "    'gamma': [0.5, 1.5, 5],\n",
    "    'subsample': [0.6, 1.0],\n",
    "    'colsample_bytree': [0.6, 1.0],\n",
    "    'max_depth': [3, 5]\n",
    "  }"
   ]
  },
  {
   "cell_type": "code",
   "execution_count": null,
   "metadata": {
    "colab": {},
    "colab_type": "code",
    "id": "kCXx3XDxubC-",
    "outputId": "00443a60-b7b1-4f3f-85c7-49ca63478809"
   },
   "outputs": [
    {
     "name": "stdout",
     "output_type": "stream",
     "text": [
      "Fitting 5 folds for each of 48 candidates, totalling 240 fits\n"
     ]
    },
    {
     "name": "stderr",
     "output_type": "stream",
     "text": [
      "[Parallel(n_jobs=-1)]: Using backend LokyBackend with 12 concurrent workers.\n",
      "[Parallel(n_jobs=-1)]: Done  26 tasks      | elapsed:   20.2s\n",
      "[Parallel(n_jobs=-1)]: Done 176 tasks      | elapsed:  1.3min\n",
      "[Parallel(n_jobs=-1)]: Done 240 out of 240 | elapsed:  1.6min finished\n"
     ]
    },
    {
     "name": "stdout",
     "output_type": "stream",
     "text": [
      "[16:07:08] WARNING: C:\\Users\\Administrator\\workspace\\xgboost-win64_release_1.2.0\\src\\learner.cc:516: \n",
      "Parameters: { max_bins } might not be used.\n",
      "\n",
      "  This may not be accurate due to some parameters are only used in language bindings but\n",
      "  passed down to XGBoost core.  Or some parameters are not used but slip through this\n",
      "  verification. Please open an issue if you find above cases.\n",
      "\n",
      "\n"
     ]
    },
    {
     "data": {
      "text/html": [
       "<div>\n",
       "<style scoped>\n",
       "    .dataframe tbody tr th:only-of-type {\n",
       "        vertical-align: middle;\n",
       "    }\n",
       "\n",
       "    .dataframe tbody tr th {\n",
       "        vertical-align: top;\n",
       "    }\n",
       "\n",
       "    .dataframe thead th {\n",
       "        text-align: right;\n",
       "    }\n",
       "</style>\n",
       "<table border=\"1\" class=\"dataframe\">\n",
       "  <thead>\n",
       "    <tr style=\"text-align: right;\">\n",
       "      <th></th>\n",
       "      <th>mean_fit_time</th>\n",
       "      <th>std_fit_time</th>\n",
       "      <th>mean_score_time</th>\n",
       "      <th>std_score_time</th>\n",
       "      <th>param_colsample_bytree</th>\n",
       "      <th>param_gamma</th>\n",
       "      <th>param_max_depth</th>\n",
       "      <th>param_min_child_weight</th>\n",
       "      <th>param_subsample</th>\n",
       "      <th>params</th>\n",
       "      <th>...</th>\n",
       "      <th>mean_test_score</th>\n",
       "      <th>std_test_score</th>\n",
       "      <th>rank_test_score</th>\n",
       "      <th>split0_train_score</th>\n",
       "      <th>split1_train_score</th>\n",
       "      <th>split2_train_score</th>\n",
       "      <th>split3_train_score</th>\n",
       "      <th>split4_train_score</th>\n",
       "      <th>mean_train_score</th>\n",
       "      <th>std_train_score</th>\n",
       "    </tr>\n",
       "  </thead>\n",
       "  <tbody>\n",
       "    <tr>\n",
       "      <th>0</th>\n",
       "      <td>6.726684</td>\n",
       "      <td>0.108918</td>\n",
       "      <td>0.127201</td>\n",
       "      <td>0.020147</td>\n",
       "      <td>0.6</td>\n",
       "      <td>0.5</td>\n",
       "      <td>3</td>\n",
       "      <td>1</td>\n",
       "      <td>0.6</td>\n",
       "      <td>{'colsample_bytree': 0.6, 'gamma': 0.5, 'max_d...</td>\n",
       "      <td>...</td>\n",
       "      <td>0.977292</td>\n",
       "      <td>0.012698</td>\n",
       "      <td>46</td>\n",
       "      <td>0.999998</td>\n",
       "      <td>0.999998</td>\n",
       "      <td>0.999998</td>\n",
       "      <td>0.999995</td>\n",
       "      <td>0.999992</td>\n",
       "      <td>0.999996</td>\n",
       "      <td>2.179547e-06</td>\n",
       "    </tr>\n",
       "    <tr>\n",
       "      <th>1</th>\n",
       "      <td>6.378481</td>\n",
       "      <td>0.184115</td>\n",
       "      <td>0.139799</td>\n",
       "      <td>0.016302</td>\n",
       "      <td>0.6</td>\n",
       "      <td>0.5</td>\n",
       "      <td>3</td>\n",
       "      <td>1</td>\n",
       "      <td>1</td>\n",
       "      <td>{'colsample_bytree': 0.6, 'gamma': 0.5, 'max_d...</td>\n",
       "      <td>...</td>\n",
       "      <td>0.979954</td>\n",
       "      <td>0.005066</td>\n",
       "      <td>29</td>\n",
       "      <td>0.999995</td>\n",
       "      <td>0.999999</td>\n",
       "      <td>0.999984</td>\n",
       "      <td>0.999997</td>\n",
       "      <td>0.999988</td>\n",
       "      <td>0.999993</td>\n",
       "      <td>5.661058e-06</td>\n",
       "    </tr>\n",
       "    <tr>\n",
       "      <th>2</th>\n",
       "      <td>4.952124</td>\n",
       "      <td>1.191778</td>\n",
       "      <td>0.122409</td>\n",
       "      <td>0.020750</td>\n",
       "      <td>0.6</td>\n",
       "      <td>0.5</td>\n",
       "      <td>3</td>\n",
       "      <td>5</td>\n",
       "      <td>0.6</td>\n",
       "      <td>{'colsample_bytree': 0.6, 'gamma': 0.5, 'max_d...</td>\n",
       "      <td>...</td>\n",
       "      <td>0.979187</td>\n",
       "      <td>0.010664</td>\n",
       "      <td>37</td>\n",
       "      <td>0.999765</td>\n",
       "      <td>0.999805</td>\n",
       "      <td>0.999876</td>\n",
       "      <td>0.999781</td>\n",
       "      <td>0.999755</td>\n",
       "      <td>0.999796</td>\n",
       "      <td>4.323309e-05</td>\n",
       "    </tr>\n",
       "    <tr>\n",
       "      <th>3</th>\n",
       "      <td>4.476622</td>\n",
       "      <td>0.143578</td>\n",
       "      <td>0.125311</td>\n",
       "      <td>0.015131</td>\n",
       "      <td>0.6</td>\n",
       "      <td>0.5</td>\n",
       "      <td>3</td>\n",
       "      <td>5</td>\n",
       "      <td>1</td>\n",
       "      <td>{'colsample_bytree': 0.6, 'gamma': 0.5, 'max_d...</td>\n",
       "      <td>...</td>\n",
       "      <td>0.982980</td>\n",
       "      <td>0.006292</td>\n",
       "      <td>9</td>\n",
       "      <td>0.999965</td>\n",
       "      <td>0.999983</td>\n",
       "      <td>0.999970</td>\n",
       "      <td>0.999983</td>\n",
       "      <td>0.999972</td>\n",
       "      <td>0.999975</td>\n",
       "      <td>7.220843e-06</td>\n",
       "    </tr>\n",
       "    <tr>\n",
       "      <th>4</th>\n",
       "      <td>5.291803</td>\n",
       "      <td>0.163793</td>\n",
       "      <td>0.137000</td>\n",
       "      <td>0.014183</td>\n",
       "      <td>0.6</td>\n",
       "      <td>0.5</td>\n",
       "      <td>5</td>\n",
       "      <td>1</td>\n",
       "      <td>0.6</td>\n",
       "      <td>{'colsample_bytree': 0.6, 'gamma': 0.5, 'max_d...</td>\n",
       "      <td>...</td>\n",
       "      <td>0.981837</td>\n",
       "      <td>0.007271</td>\n",
       "      <td>15</td>\n",
       "      <td>1.000000</td>\n",
       "      <td>1.000000</td>\n",
       "      <td>1.000000</td>\n",
       "      <td>1.000000</td>\n",
       "      <td>1.000000</td>\n",
       "      <td>1.000000</td>\n",
       "      <td>0.000000e+00</td>\n",
       "    </tr>\n",
       "    <tr>\n",
       "      <th>5</th>\n",
       "      <td>4.439301</td>\n",
       "      <td>0.085419</td>\n",
       "      <td>0.122801</td>\n",
       "      <td>0.013599</td>\n",
       "      <td>0.6</td>\n",
       "      <td>0.5</td>\n",
       "      <td>5</td>\n",
       "      <td>1</td>\n",
       "      <td>1</td>\n",
       "      <td>{'colsample_bytree': 0.6, 'gamma': 0.5, 'max_d...</td>\n",
       "      <td>...</td>\n",
       "      <td>0.978960</td>\n",
       "      <td>0.007712</td>\n",
       "      <td>40</td>\n",
       "      <td>0.999999</td>\n",
       "      <td>1.000000</td>\n",
       "      <td>1.000000</td>\n",
       "      <td>0.999999</td>\n",
       "      <td>0.999999</td>\n",
       "      <td>1.000000</td>\n",
       "      <td>3.191998e-07</td>\n",
       "    </tr>\n",
       "    <tr>\n",
       "      <th>6</th>\n",
       "      <td>4.896599</td>\n",
       "      <td>0.094237</td>\n",
       "      <td>0.139800</td>\n",
       "      <td>0.014838</td>\n",
       "      <td>0.6</td>\n",
       "      <td>0.5</td>\n",
       "      <td>5</td>\n",
       "      <td>5</td>\n",
       "      <td>0.6</td>\n",
       "      <td>{'colsample_bytree': 0.6, 'gamma': 0.5, 'max_d...</td>\n",
       "      <td>...</td>\n",
       "      <td>0.979445</td>\n",
       "      <td>0.008892</td>\n",
       "      <td>35</td>\n",
       "      <td>0.999912</td>\n",
       "      <td>0.999870</td>\n",
       "      <td>0.999833</td>\n",
       "      <td>0.999916</td>\n",
       "      <td>0.999881</td>\n",
       "      <td>0.999883</td>\n",
       "      <td>3.021747e-05</td>\n",
       "    </tr>\n",
       "    <tr>\n",
       "      <th>7</th>\n",
       "      <td>4.650141</td>\n",
       "      <td>0.105329</td>\n",
       "      <td>0.153311</td>\n",
       "      <td>0.018193</td>\n",
       "      <td>0.6</td>\n",
       "      <td>0.5</td>\n",
       "      <td>5</td>\n",
       "      <td>5</td>\n",
       "      <td>1</td>\n",
       "      <td>{'colsample_bytree': 0.6, 'gamma': 0.5, 'max_d...</td>\n",
       "      <td>...</td>\n",
       "      <td>0.981562</td>\n",
       "      <td>0.006859</td>\n",
       "      <td>16</td>\n",
       "      <td>0.999997</td>\n",
       "      <td>0.999998</td>\n",
       "      <td>0.999998</td>\n",
       "      <td>0.999991</td>\n",
       "      <td>0.999998</td>\n",
       "      <td>0.999997</td>\n",
       "      <td>2.729972e-06</td>\n",
       "    </tr>\n",
       "    <tr>\n",
       "      <th>8</th>\n",
       "      <td>4.031447</td>\n",
       "      <td>0.143054</td>\n",
       "      <td>0.135902</td>\n",
       "      <td>0.017590</td>\n",
       "      <td>0.6</td>\n",
       "      <td>1.5</td>\n",
       "      <td>3</td>\n",
       "      <td>1</td>\n",
       "      <td>0.6</td>\n",
       "      <td>{'colsample_bytree': 0.6, 'gamma': 1.5, 'max_d...</td>\n",
       "      <td>...</td>\n",
       "      <td>0.978235</td>\n",
       "      <td>0.007222</td>\n",
       "      <td>42</td>\n",
       "      <td>0.999994</td>\n",
       "      <td>0.999996</td>\n",
       "      <td>0.999996</td>\n",
       "      <td>0.999986</td>\n",
       "      <td>0.999983</td>\n",
       "      <td>0.999991</td>\n",
       "      <td>5.728007e-06</td>\n",
       "    </tr>\n",
       "    <tr>\n",
       "      <th>9</th>\n",
       "      <td>3.016887</td>\n",
       "      <td>0.609057</td>\n",
       "      <td>0.138200</td>\n",
       "      <td>0.024195</td>\n",
       "      <td>0.6</td>\n",
       "      <td>1.5</td>\n",
       "      <td>3</td>\n",
       "      <td>1</td>\n",
       "      <td>1</td>\n",
       "      <td>{'colsample_bytree': 0.6, 'gamma': 1.5, 'max_d...</td>\n",
       "      <td>...</td>\n",
       "      <td>0.982585</td>\n",
       "      <td>0.007105</td>\n",
       "      <td>12</td>\n",
       "      <td>0.999691</td>\n",
       "      <td>0.999764</td>\n",
       "      <td>0.999815</td>\n",
       "      <td>0.999693</td>\n",
       "      <td>0.999626</td>\n",
       "      <td>0.999718</td>\n",
       "      <td>6.545657e-05</td>\n",
       "    </tr>\n",
       "    <tr>\n",
       "      <th>10</th>\n",
       "      <td>3.997309</td>\n",
       "      <td>0.116859</td>\n",
       "      <td>0.120200</td>\n",
       "      <td>0.016228</td>\n",
       "      <td>0.6</td>\n",
       "      <td>1.5</td>\n",
       "      <td>3</td>\n",
       "      <td>5</td>\n",
       "      <td>0.6</td>\n",
       "      <td>{'colsample_bytree': 0.6, 'gamma': 1.5, 'max_d...</td>\n",
       "      <td>...</td>\n",
       "      <td>0.981017</td>\n",
       "      <td>0.009528</td>\n",
       "      <td>19</td>\n",
       "      <td>0.999700</td>\n",
       "      <td>0.999730</td>\n",
       "      <td>0.999808</td>\n",
       "      <td>0.999767</td>\n",
       "      <td>0.999669</td>\n",
       "      <td>0.999735</td>\n",
       "      <td>4.868752e-05</td>\n",
       "    </tr>\n",
       "    <tr>\n",
       "      <th>11</th>\n",
       "      <td>3.700599</td>\n",
       "      <td>0.062040</td>\n",
       "      <td>0.125801</td>\n",
       "      <td>0.008447</td>\n",
       "      <td>0.6</td>\n",
       "      <td>1.5</td>\n",
       "      <td>3</td>\n",
       "      <td>5</td>\n",
       "      <td>1</td>\n",
       "      <td>{'colsample_bytree': 0.6, 'gamma': 1.5, 'max_d...</td>\n",
       "      <td>...</td>\n",
       "      <td>0.985888</td>\n",
       "      <td>0.005523</td>\n",
       "      <td>1</td>\n",
       "      <td>0.999346</td>\n",
       "      <td>0.999485</td>\n",
       "      <td>0.999119</td>\n",
       "      <td>0.999441</td>\n",
       "      <td>0.999306</td>\n",
       "      <td>0.999339</td>\n",
       "      <td>1.275640e-04</td>\n",
       "    </tr>\n",
       "    <tr>\n",
       "      <th>12</th>\n",
       "      <td>3.909399</td>\n",
       "      <td>0.834755</td>\n",
       "      <td>0.135001</td>\n",
       "      <td>0.021382</td>\n",
       "      <td>0.6</td>\n",
       "      <td>1.5</td>\n",
       "      <td>5</td>\n",
       "      <td>1</td>\n",
       "      <td>0.6</td>\n",
       "      <td>{'colsample_bytree': 0.6, 'gamma': 1.5, 'max_d...</td>\n",
       "      <td>...</td>\n",
       "      <td>0.982894</td>\n",
       "      <td>0.007885</td>\n",
       "      <td>10</td>\n",
       "      <td>0.999998</td>\n",
       "      <td>0.999999</td>\n",
       "      <td>0.999999</td>\n",
       "      <td>0.999998</td>\n",
       "      <td>0.999999</td>\n",
       "      <td>0.999999</td>\n",
       "      <td>5.679032e-07</td>\n",
       "    </tr>\n",
       "    <tr>\n",
       "      <th>13</th>\n",
       "      <td>4.318598</td>\n",
       "      <td>0.075511</td>\n",
       "      <td>0.141400</td>\n",
       "      <td>0.019986</td>\n",
       "      <td>0.6</td>\n",
       "      <td>1.5</td>\n",
       "      <td>5</td>\n",
       "      <td>1</td>\n",
       "      <td>1</td>\n",
       "      <td>{'colsample_bytree': 0.6, 'gamma': 1.5, 'max_d...</td>\n",
       "      <td>...</td>\n",
       "      <td>0.979934</td>\n",
       "      <td>0.011525</td>\n",
       "      <td>30</td>\n",
       "      <td>0.999877</td>\n",
       "      <td>0.999982</td>\n",
       "      <td>0.999910</td>\n",
       "      <td>0.999806</td>\n",
       "      <td>0.999900</td>\n",
       "      <td>0.999895</td>\n",
       "      <td>5.660329e-05</td>\n",
       "    </tr>\n",
       "    <tr>\n",
       "      <th>14</th>\n",
       "      <td>4.299556</td>\n",
       "      <td>0.326599</td>\n",
       "      <td>0.128437</td>\n",
       "      <td>0.037434</td>\n",
       "      <td>0.6</td>\n",
       "      <td>1.5</td>\n",
       "      <td>5</td>\n",
       "      <td>5</td>\n",
       "      <td>0.6</td>\n",
       "      <td>{'colsample_bytree': 0.6, 'gamma': 1.5, 'max_d...</td>\n",
       "      <td>...</td>\n",
       "      <td>0.980790</td>\n",
       "      <td>0.010638</td>\n",
       "      <td>22</td>\n",
       "      <td>0.999859</td>\n",
       "      <td>0.999807</td>\n",
       "      <td>0.999895</td>\n",
       "      <td>0.999882</td>\n",
       "      <td>0.999695</td>\n",
       "      <td>0.999828</td>\n",
       "      <td>7.287702e-05</td>\n",
       "    </tr>\n",
       "    <tr>\n",
       "      <th>15</th>\n",
       "      <td>4.033260</td>\n",
       "      <td>0.228549</td>\n",
       "      <td>0.125666</td>\n",
       "      <td>0.021880</td>\n",
       "      <td>0.6</td>\n",
       "      <td>1.5</td>\n",
       "      <td>5</td>\n",
       "      <td>5</td>\n",
       "      <td>1</td>\n",
       "      <td>{'colsample_bytree': 0.6, 'gamma': 1.5, 'max_d...</td>\n",
       "      <td>...</td>\n",
       "      <td>0.984688</td>\n",
       "      <td>0.005792</td>\n",
       "      <td>2</td>\n",
       "      <td>0.999723</td>\n",
       "      <td>0.999801</td>\n",
       "      <td>0.999668</td>\n",
       "      <td>0.999701</td>\n",
       "      <td>0.999609</td>\n",
       "      <td>0.999700</td>\n",
       "      <td>6.332087e-05</td>\n",
       "    </tr>\n",
       "    <tr>\n",
       "      <th>16</th>\n",
       "      <td>3.768184</td>\n",
       "      <td>0.093035</td>\n",
       "      <td>0.130684</td>\n",
       "      <td>0.019324</td>\n",
       "      <td>0.6</td>\n",
       "      <td>5</td>\n",
       "      <td>3</td>\n",
       "      <td>1</td>\n",
       "      <td>0.6</td>\n",
       "      <td>{'colsample_bytree': 0.6, 'gamma': 5, 'max_dep...</td>\n",
       "      <td>...</td>\n",
       "      <td>0.981176</td>\n",
       "      <td>0.007507</td>\n",
       "      <td>17</td>\n",
       "      <td>0.998496</td>\n",
       "      <td>0.998608</td>\n",
       "      <td>0.998498</td>\n",
       "      <td>0.997014</td>\n",
       "      <td>0.997816</td>\n",
       "      <td>0.998087</td>\n",
       "      <td>6.054161e-04</td>\n",
       "    </tr>\n",
       "    <tr>\n",
       "      <th>17</th>\n",
       "      <td>2.920721</td>\n",
       "      <td>0.930672</td>\n",
       "      <td>0.109600</td>\n",
       "      <td>0.013245</td>\n",
       "      <td>0.6</td>\n",
       "      <td>5</td>\n",
       "      <td>3</td>\n",
       "      <td>1</td>\n",
       "      <td>1</td>\n",
       "      <td>{'colsample_bytree': 0.6, 'gamma': 5, 'max_dep...</td>\n",
       "      <td>...</td>\n",
       "      <td>0.979069</td>\n",
       "      <td>0.010195</td>\n",
       "      <td>38</td>\n",
       "      <td>0.994467</td>\n",
       "      <td>0.995596</td>\n",
       "      <td>0.995335</td>\n",
       "      <td>0.992189</td>\n",
       "      <td>0.995216</td>\n",
       "      <td>0.994561</td>\n",
       "      <td>1.243880e-03</td>\n",
       "    </tr>\n",
       "    <tr>\n",
       "      <th>18</th>\n",
       "      <td>3.754273</td>\n",
       "      <td>0.024435</td>\n",
       "      <td>0.145402</td>\n",
       "      <td>0.016835</td>\n",
       "      <td>0.6</td>\n",
       "      <td>5</td>\n",
       "      <td>3</td>\n",
       "      <td>5</td>\n",
       "      <td>0.6</td>\n",
       "      <td>{'colsample_bytree': 0.6, 'gamma': 5, 'max_dep...</td>\n",
       "      <td>...</td>\n",
       "      <td>0.979621</td>\n",
       "      <td>0.009846</td>\n",
       "      <td>33</td>\n",
       "      <td>0.997266</td>\n",
       "      <td>0.997498</td>\n",
       "      <td>0.997396</td>\n",
       "      <td>0.997517</td>\n",
       "      <td>0.996495</td>\n",
       "      <td>0.997234</td>\n",
       "      <td>3.803551e-04</td>\n",
       "    </tr>\n",
       "    <tr>\n",
       "      <th>19</th>\n",
       "      <td>3.009617</td>\n",
       "      <td>0.904328</td>\n",
       "      <td>0.130198</td>\n",
       "      <td>0.012546</td>\n",
       "      <td>0.6</td>\n",
       "      <td>5</td>\n",
       "      <td>3</td>\n",
       "      <td>5</td>\n",
       "      <td>1</td>\n",
       "      <td>{'colsample_bytree': 0.6, 'gamma': 5, 'max_dep...</td>\n",
       "      <td>...</td>\n",
       "      <td>0.979875</td>\n",
       "      <td>0.009021</td>\n",
       "      <td>32</td>\n",
       "      <td>0.994285</td>\n",
       "      <td>0.994113</td>\n",
       "      <td>0.994730</td>\n",
       "      <td>0.991312</td>\n",
       "      <td>0.991359</td>\n",
       "      <td>0.993160</td>\n",
       "      <td>1.503215e-03</td>\n",
       "    </tr>\n",
       "    <tr>\n",
       "      <th>20</th>\n",
       "      <td>3.563211</td>\n",
       "      <td>0.496782</td>\n",
       "      <td>0.121801</td>\n",
       "      <td>0.019137</td>\n",
       "      <td>0.6</td>\n",
       "      <td>5</td>\n",
       "      <td>5</td>\n",
       "      <td>1</td>\n",
       "      <td>0.6</td>\n",
       "      <td>{'colsample_bytree': 0.6, 'gamma': 5, 'max_dep...</td>\n",
       "      <td>...</td>\n",
       "      <td>0.978183</td>\n",
       "      <td>0.008782</td>\n",
       "      <td>43</td>\n",
       "      <td>0.999438</td>\n",
       "      <td>0.998780</td>\n",
       "      <td>0.998999</td>\n",
       "      <td>0.998843</td>\n",
       "      <td>0.998634</td>\n",
       "      <td>0.998939</td>\n",
       "      <td>2.755930e-04</td>\n",
       "    </tr>\n",
       "    <tr>\n",
       "      <th>21</th>\n",
       "      <td>3.660596</td>\n",
       "      <td>0.168795</td>\n",
       "      <td>0.121000</td>\n",
       "      <td>0.016578</td>\n",
       "      <td>0.6</td>\n",
       "      <td>5</td>\n",
       "      <td>5</td>\n",
       "      <td>1</td>\n",
       "      <td>1</td>\n",
       "      <td>{'colsample_bytree': 0.6, 'gamma': 5, 'max_dep...</td>\n",
       "      <td>...</td>\n",
       "      <td>0.981010</td>\n",
       "      <td>0.009039</td>\n",
       "      <td>20</td>\n",
       "      <td>0.995617</td>\n",
       "      <td>0.996317</td>\n",
       "      <td>0.995851</td>\n",
       "      <td>0.995026</td>\n",
       "      <td>0.995981</td>\n",
       "      <td>0.995758</td>\n",
       "      <td>4.305006e-04</td>\n",
       "    </tr>\n",
       "    <tr>\n",
       "      <th>22</th>\n",
       "      <td>3.090460</td>\n",
       "      <td>0.627709</td>\n",
       "      <td>0.176417</td>\n",
       "      <td>0.044764</td>\n",
       "      <td>0.6</td>\n",
       "      <td>5</td>\n",
       "      <td>5</td>\n",
       "      <td>5</td>\n",
       "      <td>0.6</td>\n",
       "      <td>{'colsample_bytree': 0.6, 'gamma': 5, 'max_dep...</td>\n",
       "      <td>...</td>\n",
       "      <td>0.979894</td>\n",
       "      <td>0.010426</td>\n",
       "      <td>31</td>\n",
       "      <td>0.997038</td>\n",
       "      <td>0.997186</td>\n",
       "      <td>0.998378</td>\n",
       "      <td>0.997877</td>\n",
       "      <td>0.996664</td>\n",
       "      <td>0.997429</td>\n",
       "      <td>6.162244e-04</td>\n",
       "    </tr>\n",
       "    <tr>\n",
       "      <th>23</th>\n",
       "      <td>3.519570</td>\n",
       "      <td>0.230186</td>\n",
       "      <td>0.206393</td>\n",
       "      <td>0.043177</td>\n",
       "      <td>0.6</td>\n",
       "      <td>5</td>\n",
       "      <td>5</td>\n",
       "      <td>5</td>\n",
       "      <td>1</td>\n",
       "      <td>{'colsample_bytree': 0.6, 'gamma': 5, 'max_dep...</td>\n",
       "      <td>...</td>\n",
       "      <td>0.978983</td>\n",
       "      <td>0.007612</td>\n",
       "      <td>39</td>\n",
       "      <td>0.995337</td>\n",
       "      <td>0.996277</td>\n",
       "      <td>0.995820</td>\n",
       "      <td>0.993023</td>\n",
       "      <td>0.993998</td>\n",
       "      <td>0.994891</td>\n",
       "      <td>1.205920e-03</td>\n",
       "    </tr>\n",
       "    <tr>\n",
       "      <th>24</th>\n",
       "      <td>3.877950</td>\n",
       "      <td>0.145736</td>\n",
       "      <td>0.148739</td>\n",
       "      <td>0.021428</td>\n",
       "      <td>1</td>\n",
       "      <td>0.5</td>\n",
       "      <td>3</td>\n",
       "      <td>1</td>\n",
       "      <td>0.6</td>\n",
       "      <td>{'colsample_bytree': 1.0, 'gamma': 0.5, 'max_d...</td>\n",
       "      <td>...</td>\n",
       "      <td>0.977200</td>\n",
       "      <td>0.009653</td>\n",
       "      <td>47</td>\n",
       "      <td>0.999999</td>\n",
       "      <td>1.000000</td>\n",
       "      <td>0.999999</td>\n",
       "      <td>0.999997</td>\n",
       "      <td>0.999998</td>\n",
       "      <td>0.999999</td>\n",
       "      <td>9.042713e-07</td>\n",
       "    </tr>\n",
       "    <tr>\n",
       "      <th>25</th>\n",
       "      <td>3.245508</td>\n",
       "      <td>0.943664</td>\n",
       "      <td>0.152000</td>\n",
       "      <td>0.032132</td>\n",
       "      <td>1</td>\n",
       "      <td>0.5</td>\n",
       "      <td>3</td>\n",
       "      <td>1</td>\n",
       "      <td>1</td>\n",
       "      <td>{'colsample_bytree': 1.0, 'gamma': 0.5, 'max_d...</td>\n",
       "      <td>...</td>\n",
       "      <td>0.982241</td>\n",
       "      <td>0.006338</td>\n",
       "      <td>14</td>\n",
       "      <td>0.999994</td>\n",
       "      <td>0.999998</td>\n",
       "      <td>0.999985</td>\n",
       "      <td>0.999998</td>\n",
       "      <td>0.999981</td>\n",
       "      <td>0.999991</td>\n",
       "      <td>6.798279e-06</td>\n",
       "    </tr>\n",
       "    <tr>\n",
       "      <th>26</th>\n",
       "      <td>4.274499</td>\n",
       "      <td>0.060532</td>\n",
       "      <td>0.138000</td>\n",
       "      <td>0.027033</td>\n",
       "      <td>1</td>\n",
       "      <td>0.5</td>\n",
       "      <td>3</td>\n",
       "      <td>5</td>\n",
       "      <td>0.6</td>\n",
       "      <td>{'colsample_bytree': 1.0, 'gamma': 0.5, 'max_d...</td>\n",
       "      <td>...</td>\n",
       "      <td>0.982391</td>\n",
       "      <td>0.007630</td>\n",
       "      <td>13</td>\n",
       "      <td>0.999899</td>\n",
       "      <td>0.999710</td>\n",
       "      <td>0.999929</td>\n",
       "      <td>0.999921</td>\n",
       "      <td>0.999913</td>\n",
       "      <td>0.999874</td>\n",
       "      <td>8.301463e-05</td>\n",
       "    </tr>\n",
       "    <tr>\n",
       "      <th>27</th>\n",
       "      <td>3.495129</td>\n",
       "      <td>0.674270</td>\n",
       "      <td>0.139802</td>\n",
       "      <td>0.009454</td>\n",
       "      <td>1</td>\n",
       "      <td>0.5</td>\n",
       "      <td>3</td>\n",
       "      <td>5</td>\n",
       "      <td>1</td>\n",
       "      <td>{'colsample_bytree': 1.0, 'gamma': 0.5, 'max_d...</td>\n",
       "      <td>...</td>\n",
       "      <td>0.983948</td>\n",
       "      <td>0.005354</td>\n",
       "      <td>5</td>\n",
       "      <td>0.999976</td>\n",
       "      <td>0.999991</td>\n",
       "      <td>0.999989</td>\n",
       "      <td>0.999987</td>\n",
       "      <td>0.999984</td>\n",
       "      <td>0.999985</td>\n",
       "      <td>5.499412e-06</td>\n",
       "    </tr>\n",
       "    <tr>\n",
       "      <th>28</th>\n",
       "      <td>5.300679</td>\n",
       "      <td>0.384613</td>\n",
       "      <td>0.141001</td>\n",
       "      <td>0.022777</td>\n",
       "      <td>1</td>\n",
       "      <td>0.5</td>\n",
       "      <td>5</td>\n",
       "      <td>1</td>\n",
       "      <td>0.6</td>\n",
       "      <td>{'colsample_bytree': 1.0, 'gamma': 0.5, 'max_d...</td>\n",
       "      <td>...</td>\n",
       "      <td>0.978318</td>\n",
       "      <td>0.010079</td>\n",
       "      <td>41</td>\n",
       "      <td>1.000000</td>\n",
       "      <td>1.000000</td>\n",
       "      <td>1.000000</td>\n",
       "      <td>1.000000</td>\n",
       "      <td>1.000000</td>\n",
       "      <td>1.000000</td>\n",
       "      <td>0.000000e+00</td>\n",
       "    </tr>\n",
       "    <tr>\n",
       "      <th>29</th>\n",
       "      <td>4.781038</td>\n",
       "      <td>0.057025</td>\n",
       "      <td>0.134409</td>\n",
       "      <td>0.006717</td>\n",
       "      <td>1</td>\n",
       "      <td>0.5</td>\n",
       "      <td>5</td>\n",
       "      <td>1</td>\n",
       "      <td>1</td>\n",
       "      <td>{'colsample_bytree': 1.0, 'gamma': 0.5, 'max_d...</td>\n",
       "      <td>...</td>\n",
       "      <td>0.975610</td>\n",
       "      <td>0.008119</td>\n",
       "      <td>48</td>\n",
       "      <td>0.999999</td>\n",
       "      <td>1.000000</td>\n",
       "      <td>0.999999</td>\n",
       "      <td>1.000000</td>\n",
       "      <td>0.999999</td>\n",
       "      <td>0.999999</td>\n",
       "      <td>2.994322e-07</td>\n",
       "    </tr>\n",
       "    <tr>\n",
       "      <th>30</th>\n",
       "      <td>4.396253</td>\n",
       "      <td>0.660140</td>\n",
       "      <td>0.121999</td>\n",
       "      <td>0.016994</td>\n",
       "      <td>1</td>\n",
       "      <td>0.5</td>\n",
       "      <td>5</td>\n",
       "      <td>5</td>\n",
       "      <td>0.6</td>\n",
       "      <td>{'colsample_bytree': 1.0, 'gamma': 0.5, 'max_d...</td>\n",
       "      <td>...</td>\n",
       "      <td>0.983610</td>\n",
       "      <td>0.006779</td>\n",
       "      <td>6</td>\n",
       "      <td>0.999850</td>\n",
       "      <td>0.999903</td>\n",
       "      <td>0.999943</td>\n",
       "      <td>0.999939</td>\n",
       "      <td>0.999944</td>\n",
       "      <td>0.999916</td>\n",
       "      <td>3.608776e-05</td>\n",
       "    </tr>\n",
       "    <tr>\n",
       "      <th>31</th>\n",
       "      <td>5.133767</td>\n",
       "      <td>0.125503</td>\n",
       "      <td>0.132864</td>\n",
       "      <td>0.019285</td>\n",
       "      <td>1</td>\n",
       "      <td>0.5</td>\n",
       "      <td>5</td>\n",
       "      <td>5</td>\n",
       "      <td>1</td>\n",
       "      <td>{'colsample_bytree': 1.0, 'gamma': 0.5, 'max_d...</td>\n",
       "      <td>...</td>\n",
       "      <td>0.983048</td>\n",
       "      <td>0.005742</td>\n",
       "      <td>7</td>\n",
       "      <td>0.999998</td>\n",
       "      <td>0.999998</td>\n",
       "      <td>0.999997</td>\n",
       "      <td>0.999996</td>\n",
       "      <td>0.999997</td>\n",
       "      <td>0.999997</td>\n",
       "      <td>7.382084e-07</td>\n",
       "    </tr>\n",
       "    <tr>\n",
       "      <th>32</th>\n",
       "      <td>4.286425</td>\n",
       "      <td>0.663603</td>\n",
       "      <td>0.130331</td>\n",
       "      <td>0.014286</td>\n",
       "      <td>1</td>\n",
       "      <td>1.5</td>\n",
       "      <td>3</td>\n",
       "      <td>1</td>\n",
       "      <td>0.6</td>\n",
       "      <td>{'colsample_bytree': 1.0, 'gamma': 1.5, 'max_d...</td>\n",
       "      <td>...</td>\n",
       "      <td>0.980293</td>\n",
       "      <td>0.008736</td>\n",
       "      <td>26</td>\n",
       "      <td>0.999995</td>\n",
       "      <td>0.999998</td>\n",
       "      <td>0.999998</td>\n",
       "      <td>0.999997</td>\n",
       "      <td>0.999997</td>\n",
       "      <td>0.999997</td>\n",
       "      <td>1.164746e-06</td>\n",
       "    </tr>\n",
       "    <tr>\n",
       "      <th>33</th>\n",
       "      <td>2.953511</td>\n",
       "      <td>0.944187</td>\n",
       "      <td>0.178247</td>\n",
       "      <td>0.029753</td>\n",
       "      <td>1</td>\n",
       "      <td>1.5</td>\n",
       "      <td>3</td>\n",
       "      <td>1</td>\n",
       "      <td>1</td>\n",
       "      <td>{'colsample_bytree': 1.0, 'gamma': 1.5, 'max_d...</td>\n",
       "      <td>...</td>\n",
       "      <td>0.983010</td>\n",
       "      <td>0.007242</td>\n",
       "      <td>8</td>\n",
       "      <td>0.999726</td>\n",
       "      <td>0.999815</td>\n",
       "      <td>0.999646</td>\n",
       "      <td>0.999741</td>\n",
       "      <td>0.999500</td>\n",
       "      <td>0.999686</td>\n",
       "      <td>1.073535e-04</td>\n",
       "    </tr>\n",
       "    <tr>\n",
       "      <th>34</th>\n",
       "      <td>4.278265</td>\n",
       "      <td>0.051197</td>\n",
       "      <td>0.145813</td>\n",
       "      <td>0.023146</td>\n",
       "      <td>1</td>\n",
       "      <td>1.5</td>\n",
       "      <td>3</td>\n",
       "      <td>5</td>\n",
       "      <td>0.6</td>\n",
       "      <td>{'colsample_bytree': 1.0, 'gamma': 1.5, 'max_d...</td>\n",
       "      <td>...</td>\n",
       "      <td>0.980110</td>\n",
       "      <td>0.006045</td>\n",
       "      <td>27</td>\n",
       "      <td>0.999791</td>\n",
       "      <td>0.999846</td>\n",
       "      <td>0.999900</td>\n",
       "      <td>0.999911</td>\n",
       "      <td>0.999867</td>\n",
       "      <td>0.999863</td>\n",
       "      <td>4.301487e-05</td>\n",
       "    </tr>\n",
       "    <tr>\n",
       "      <th>35</th>\n",
       "      <td>2.887564</td>\n",
       "      <td>0.873352</td>\n",
       "      <td>0.156701</td>\n",
       "      <td>0.024323</td>\n",
       "      <td>1</td>\n",
       "      <td>1.5</td>\n",
       "      <td>3</td>\n",
       "      <td>5</td>\n",
       "      <td>1</td>\n",
       "      <td>{'colsample_bytree': 1.0, 'gamma': 1.5, 'max_d...</td>\n",
       "      <td>...</td>\n",
       "      <td>0.984636</td>\n",
       "      <td>0.004771</td>\n",
       "      <td>3</td>\n",
       "      <td>0.999397</td>\n",
       "      <td>0.999746</td>\n",
       "      <td>0.999471</td>\n",
       "      <td>0.999519</td>\n",
       "      <td>0.999181</td>\n",
       "      <td>0.999463</td>\n",
       "      <td>1.829021e-04</td>\n",
       "    </tr>\n",
       "    <tr>\n",
       "      <th>36</th>\n",
       "      <td>4.424926</td>\n",
       "      <td>0.379701</td>\n",
       "      <td>0.140200</td>\n",
       "      <td>0.009325</td>\n",
       "      <td>1</td>\n",
       "      <td>1.5</td>\n",
       "      <td>5</td>\n",
       "      <td>1</td>\n",
       "      <td>0.6</td>\n",
       "      <td>{'colsample_bytree': 1.0, 'gamma': 1.5, 'max_d...</td>\n",
       "      <td>...</td>\n",
       "      <td>0.980877</td>\n",
       "      <td>0.008420</td>\n",
       "      <td>21</td>\n",
       "      <td>0.999999</td>\n",
       "      <td>0.999999</td>\n",
       "      <td>0.999999</td>\n",
       "      <td>0.999999</td>\n",
       "      <td>0.999999</td>\n",
       "      <td>0.999999</td>\n",
       "      <td>1.215363e-07</td>\n",
       "    </tr>\n",
       "    <tr>\n",
       "      <th>37</th>\n",
       "      <td>4.264398</td>\n",
       "      <td>0.118073</td>\n",
       "      <td>0.142200</td>\n",
       "      <td>0.022639</td>\n",
       "      <td>1</td>\n",
       "      <td>1.5</td>\n",
       "      <td>5</td>\n",
       "      <td>1</td>\n",
       "      <td>1</td>\n",
       "      <td>{'colsample_bytree': 1.0, 'gamma': 1.5, 'max_d...</td>\n",
       "      <td>...</td>\n",
       "      <td>0.980542</td>\n",
       "      <td>0.005004</td>\n",
       "      <td>24</td>\n",
       "      <td>0.999918</td>\n",
       "      <td>0.999962</td>\n",
       "      <td>0.999947</td>\n",
       "      <td>0.999887</td>\n",
       "      <td>0.999946</td>\n",
       "      <td>0.999932</td>\n",
       "      <td>2.643995e-05</td>\n",
       "    </tr>\n",
       "    <tr>\n",
       "      <th>38</th>\n",
       "      <td>3.883961</td>\n",
       "      <td>0.794386</td>\n",
       "      <td>0.156416</td>\n",
       "      <td>0.038791</td>\n",
       "      <td>1</td>\n",
       "      <td>1.5</td>\n",
       "      <td>5</td>\n",
       "      <td>5</td>\n",
       "      <td>0.6</td>\n",
       "      <td>{'colsample_bytree': 1.0, 'gamma': 1.5, 'max_d...</td>\n",
       "      <td>...</td>\n",
       "      <td>0.979222</td>\n",
       "      <td>0.011560</td>\n",
       "      <td>36</td>\n",
       "      <td>0.999909</td>\n",
       "      <td>0.999871</td>\n",
       "      <td>0.999955</td>\n",
       "      <td>0.999902</td>\n",
       "      <td>0.999925</td>\n",
       "      <td>0.999912</td>\n",
       "      <td>2.763243e-05</td>\n",
       "    </tr>\n",
       "    <tr>\n",
       "      <th>39</th>\n",
       "      <td>4.073750</td>\n",
       "      <td>0.107800</td>\n",
       "      <td>0.143282</td>\n",
       "      <td>0.016728</td>\n",
       "      <td>1</td>\n",
       "      <td>1.5</td>\n",
       "      <td>5</td>\n",
       "      <td>5</td>\n",
       "      <td>1</td>\n",
       "      <td>{'colsample_bytree': 1.0, 'gamma': 1.5, 'max_d...</td>\n",
       "      <td>...</td>\n",
       "      <td>0.980747</td>\n",
       "      <td>0.008019</td>\n",
       "      <td>23</td>\n",
       "      <td>0.999636</td>\n",
       "      <td>0.999762</td>\n",
       "      <td>0.999620</td>\n",
       "      <td>0.999661</td>\n",
       "      <td>0.999578</td>\n",
       "      <td>0.999651</td>\n",
       "      <td>6.173271e-05</td>\n",
       "    </tr>\n",
       "    <tr>\n",
       "      <th>40</th>\n",
       "      <td>3.554552</td>\n",
       "      <td>0.449498</td>\n",
       "      <td>0.150224</td>\n",
       "      <td>0.015445</td>\n",
       "      <td>1</td>\n",
       "      <td>5</td>\n",
       "      <td>3</td>\n",
       "      <td>1</td>\n",
       "      <td>0.6</td>\n",
       "      <td>{'colsample_bytree': 1.0, 'gamma': 5, 'max_dep...</td>\n",
       "      <td>...</td>\n",
       "      <td>0.982769</td>\n",
       "      <td>0.005792</td>\n",
       "      <td>11</td>\n",
       "      <td>0.999208</td>\n",
       "      <td>0.999311</td>\n",
       "      <td>0.999159</td>\n",
       "      <td>0.999011</td>\n",
       "      <td>0.999369</td>\n",
       "      <td>0.999212</td>\n",
       "      <td>1.245390e-04</td>\n",
       "    </tr>\n",
       "    <tr>\n",
       "      <th>41</th>\n",
       "      <td>2.548861</td>\n",
       "      <td>0.779180</td>\n",
       "      <td>0.159641</td>\n",
       "      <td>0.035891</td>\n",
       "      <td>1</td>\n",
       "      <td>5</td>\n",
       "      <td>3</td>\n",
       "      <td>1</td>\n",
       "      <td>1</td>\n",
       "      <td>{'colsample_bytree': 1.0, 'gamma': 5, 'max_dep...</td>\n",
       "      <td>...</td>\n",
       "      <td>0.980295</td>\n",
       "      <td>0.010211</td>\n",
       "      <td>25</td>\n",
       "      <td>0.996192</td>\n",
       "      <td>0.996638</td>\n",
       "      <td>0.995295</td>\n",
       "      <td>0.993571</td>\n",
       "      <td>0.996159</td>\n",
       "      <td>0.995571</td>\n",
       "      <td>1.090489e-03</td>\n",
       "    </tr>\n",
       "    <tr>\n",
       "      <th>42</th>\n",
       "      <td>3.628469</td>\n",
       "      <td>0.069255</td>\n",
       "      <td>0.131228</td>\n",
       "      <td>0.010811</td>\n",
       "      <td>1</td>\n",
       "      <td>5</td>\n",
       "      <td>3</td>\n",
       "      <td>5</td>\n",
       "      <td>0.6</td>\n",
       "      <td>{'colsample_bytree': 1.0, 'gamma': 5, 'max_dep...</td>\n",
       "      <td>...</td>\n",
       "      <td>0.979484</td>\n",
       "      <td>0.008695</td>\n",
       "      <td>34</td>\n",
       "      <td>0.998709</td>\n",
       "      <td>0.997617</td>\n",
       "      <td>0.998447</td>\n",
       "      <td>0.997234</td>\n",
       "      <td>0.998550</td>\n",
       "      <td>0.998111</td>\n",
       "      <td>5.789217e-04</td>\n",
       "    </tr>\n",
       "    <tr>\n",
       "      <th>43</th>\n",
       "      <td>2.555537</td>\n",
       "      <td>0.791065</td>\n",
       "      <td>0.140730</td>\n",
       "      <td>0.019181</td>\n",
       "      <td>1</td>\n",
       "      <td>5</td>\n",
       "      <td>3</td>\n",
       "      <td>5</td>\n",
       "      <td>1</td>\n",
       "      <td>{'colsample_bytree': 1.0, 'gamma': 5, 'max_dep...</td>\n",
       "      <td>...</td>\n",
       "      <td>0.983972</td>\n",
       "      <td>0.005697</td>\n",
       "      <td>4</td>\n",
       "      <td>0.994165</td>\n",
       "      <td>0.996101</td>\n",
       "      <td>0.996389</td>\n",
       "      <td>0.995153</td>\n",
       "      <td>0.994618</td>\n",
       "      <td>0.995285</td>\n",
       "      <td>8.488300e-04</td>\n",
       "    </tr>\n",
       "    <tr>\n",
       "      <th>44</th>\n",
       "      <td>3.433025</td>\n",
       "      <td>0.604499</td>\n",
       "      <td>0.148199</td>\n",
       "      <td>0.024991</td>\n",
       "      <td>1</td>\n",
       "      <td>5</td>\n",
       "      <td>5</td>\n",
       "      <td>1</td>\n",
       "      <td>0.6</td>\n",
       "      <td>{'colsample_bytree': 1.0, 'gamma': 5, 'max_dep...</td>\n",
       "      <td>...</td>\n",
       "      <td>0.980029</td>\n",
       "      <td>0.009238</td>\n",
       "      <td>28</td>\n",
       "      <td>0.999364</td>\n",
       "      <td>0.999464</td>\n",
       "      <td>0.999275</td>\n",
       "      <td>0.999286</td>\n",
       "      <td>0.999185</td>\n",
       "      <td>0.999315</td>\n",
       "      <td>9.391149e-05</td>\n",
       "    </tr>\n",
       "    <tr>\n",
       "      <th>45</th>\n",
       "      <td>3.554603</td>\n",
       "      <td>0.071283</td>\n",
       "      <td>0.129002</td>\n",
       "      <td>0.017909</td>\n",
       "      <td>1</td>\n",
       "      <td>5</td>\n",
       "      <td>5</td>\n",
       "      <td>1</td>\n",
       "      <td>1</td>\n",
       "      <td>{'colsample_bytree': 1.0, 'gamma': 5, 'max_dep...</td>\n",
       "      <td>...</td>\n",
       "      <td>0.977424</td>\n",
       "      <td>0.008984</td>\n",
       "      <td>45</td>\n",
       "      <td>0.997799</td>\n",
       "      <td>0.997826</td>\n",
       "      <td>0.996980</td>\n",
       "      <td>0.996544</td>\n",
       "      <td>0.997838</td>\n",
       "      <td>0.997397</td>\n",
       "      <td>5.367830e-04</td>\n",
       "    </tr>\n",
       "    <tr>\n",
       "      <th>46</th>\n",
       "      <td>2.688196</td>\n",
       "      <td>0.696808</td>\n",
       "      <td>0.122531</td>\n",
       "      <td>0.022186</td>\n",
       "      <td>1</td>\n",
       "      <td>5</td>\n",
       "      <td>5</td>\n",
       "      <td>5</td>\n",
       "      <td>0.6</td>\n",
       "      <td>{'colsample_bytree': 1.0, 'gamma': 5, 'max_dep...</td>\n",
       "      <td>...</td>\n",
       "      <td>0.981089</td>\n",
       "      <td>0.007039</td>\n",
       "      <td>18</td>\n",
       "      <td>0.997728</td>\n",
       "      <td>0.998689</td>\n",
       "      <td>0.998554</td>\n",
       "      <td>0.997996</td>\n",
       "      <td>0.997770</td>\n",
       "      <td>0.998148</td>\n",
       "      <td>3.998724e-04</td>\n",
       "    </tr>\n",
       "    <tr>\n",
       "      <th>47</th>\n",
       "      <td>2.269748</td>\n",
       "      <td>0.072114</td>\n",
       "      <td>0.097015</td>\n",
       "      <td>0.006744</td>\n",
       "      <td>1</td>\n",
       "      <td>5</td>\n",
       "      <td>5</td>\n",
       "      <td>5</td>\n",
       "      <td>1</td>\n",
       "      <td>{'colsample_bytree': 1.0, 'gamma': 5, 'max_dep...</td>\n",
       "      <td>...</td>\n",
       "      <td>0.977694</td>\n",
       "      <td>0.009324</td>\n",
       "      <td>44</td>\n",
       "      <td>0.995843</td>\n",
       "      <td>0.996320</td>\n",
       "      <td>0.996801</td>\n",
       "      <td>0.996183</td>\n",
       "      <td>0.994875</td>\n",
       "      <td>0.996004</td>\n",
       "      <td>6.430466e-04</td>\n",
       "    </tr>\n",
       "  </tbody>\n",
       "</table>\n",
       "<p>48 rows × 25 columns</p>\n",
       "</div>"
      ],
      "text/plain": [
       "    mean_fit_time  std_fit_time  mean_score_time  std_score_time  \\\n",
       "0        6.726684      0.108918         0.127201        0.020147   \n",
       "1        6.378481      0.184115         0.139799        0.016302   \n",
       "2        4.952124      1.191778         0.122409        0.020750   \n",
       "3        4.476622      0.143578         0.125311        0.015131   \n",
       "4        5.291803      0.163793         0.137000        0.014183   \n",
       "5        4.439301      0.085419         0.122801        0.013599   \n",
       "6        4.896599      0.094237         0.139800        0.014838   \n",
       "7        4.650141      0.105329         0.153311        0.018193   \n",
       "8        4.031447      0.143054         0.135902        0.017590   \n",
       "9        3.016887      0.609057         0.138200        0.024195   \n",
       "10       3.997309      0.116859         0.120200        0.016228   \n",
       "11       3.700599      0.062040         0.125801        0.008447   \n",
       "12       3.909399      0.834755         0.135001        0.021382   \n",
       "13       4.318598      0.075511         0.141400        0.019986   \n",
       "14       4.299556      0.326599         0.128437        0.037434   \n",
       "15       4.033260      0.228549         0.125666        0.021880   \n",
       "16       3.768184      0.093035         0.130684        0.019324   \n",
       "17       2.920721      0.930672         0.109600        0.013245   \n",
       "18       3.754273      0.024435         0.145402        0.016835   \n",
       "19       3.009617      0.904328         0.130198        0.012546   \n",
       "20       3.563211      0.496782         0.121801        0.019137   \n",
       "21       3.660596      0.168795         0.121000        0.016578   \n",
       "22       3.090460      0.627709         0.176417        0.044764   \n",
       "23       3.519570      0.230186         0.206393        0.043177   \n",
       "24       3.877950      0.145736         0.148739        0.021428   \n",
       "25       3.245508      0.943664         0.152000        0.032132   \n",
       "26       4.274499      0.060532         0.138000        0.027033   \n",
       "27       3.495129      0.674270         0.139802        0.009454   \n",
       "28       5.300679      0.384613         0.141001        0.022777   \n",
       "29       4.781038      0.057025         0.134409        0.006717   \n",
       "30       4.396253      0.660140         0.121999        0.016994   \n",
       "31       5.133767      0.125503         0.132864        0.019285   \n",
       "32       4.286425      0.663603         0.130331        0.014286   \n",
       "33       2.953511      0.944187         0.178247        0.029753   \n",
       "34       4.278265      0.051197         0.145813        0.023146   \n",
       "35       2.887564      0.873352         0.156701        0.024323   \n",
       "36       4.424926      0.379701         0.140200        0.009325   \n",
       "37       4.264398      0.118073         0.142200        0.022639   \n",
       "38       3.883961      0.794386         0.156416        0.038791   \n",
       "39       4.073750      0.107800         0.143282        0.016728   \n",
       "40       3.554552      0.449498         0.150224        0.015445   \n",
       "41       2.548861      0.779180         0.159641        0.035891   \n",
       "42       3.628469      0.069255         0.131228        0.010811   \n",
       "43       2.555537      0.791065         0.140730        0.019181   \n",
       "44       3.433025      0.604499         0.148199        0.024991   \n",
       "45       3.554603      0.071283         0.129002        0.017909   \n",
       "46       2.688196      0.696808         0.122531        0.022186   \n",
       "47       2.269748      0.072114         0.097015        0.006744   \n",
       "\n",
       "   param_colsample_bytree param_gamma param_max_depth param_min_child_weight  \\\n",
       "0                     0.6         0.5               3                      1   \n",
       "1                     0.6         0.5               3                      1   \n",
       "2                     0.6         0.5               3                      5   \n",
       "3                     0.6         0.5               3                      5   \n",
       "4                     0.6         0.5               5                      1   \n",
       "5                     0.6         0.5               5                      1   \n",
       "6                     0.6         0.5               5                      5   \n",
       "7                     0.6         0.5               5                      5   \n",
       "8                     0.6         1.5               3                      1   \n",
       "9                     0.6         1.5               3                      1   \n",
       "10                    0.6         1.5               3                      5   \n",
       "11                    0.6         1.5               3                      5   \n",
       "12                    0.6         1.5               5                      1   \n",
       "13                    0.6         1.5               5                      1   \n",
       "14                    0.6         1.5               5                      5   \n",
       "15                    0.6         1.5               5                      5   \n",
       "16                    0.6           5               3                      1   \n",
       "17                    0.6           5               3                      1   \n",
       "18                    0.6           5               3                      5   \n",
       "19                    0.6           5               3                      5   \n",
       "20                    0.6           5               5                      1   \n",
       "21                    0.6           5               5                      1   \n",
       "22                    0.6           5               5                      5   \n",
       "23                    0.6           5               5                      5   \n",
       "24                      1         0.5               3                      1   \n",
       "25                      1         0.5               3                      1   \n",
       "26                      1         0.5               3                      5   \n",
       "27                      1         0.5               3                      5   \n",
       "28                      1         0.5               5                      1   \n",
       "29                      1         0.5               5                      1   \n",
       "30                      1         0.5               5                      5   \n",
       "31                      1         0.5               5                      5   \n",
       "32                      1         1.5               3                      1   \n",
       "33                      1         1.5               3                      1   \n",
       "34                      1         1.5               3                      5   \n",
       "35                      1         1.5               3                      5   \n",
       "36                      1         1.5               5                      1   \n",
       "37                      1         1.5               5                      1   \n",
       "38                      1         1.5               5                      5   \n",
       "39                      1         1.5               5                      5   \n",
       "40                      1           5               3                      1   \n",
       "41                      1           5               3                      1   \n",
       "42                      1           5               3                      5   \n",
       "43                      1           5               3                      5   \n",
       "44                      1           5               5                      1   \n",
       "45                      1           5               5                      1   \n",
       "46                      1           5               5                      5   \n",
       "47                      1           5               5                      5   \n",
       "\n",
       "   param_subsample                                             params  ...  \\\n",
       "0              0.6  {'colsample_bytree': 0.6, 'gamma': 0.5, 'max_d...  ...   \n",
       "1                1  {'colsample_bytree': 0.6, 'gamma': 0.5, 'max_d...  ...   \n",
       "2              0.6  {'colsample_bytree': 0.6, 'gamma': 0.5, 'max_d...  ...   \n",
       "3                1  {'colsample_bytree': 0.6, 'gamma': 0.5, 'max_d...  ...   \n",
       "4              0.6  {'colsample_bytree': 0.6, 'gamma': 0.5, 'max_d...  ...   \n",
       "5                1  {'colsample_bytree': 0.6, 'gamma': 0.5, 'max_d...  ...   \n",
       "6              0.6  {'colsample_bytree': 0.6, 'gamma': 0.5, 'max_d...  ...   \n",
       "7                1  {'colsample_bytree': 0.6, 'gamma': 0.5, 'max_d...  ...   \n",
       "8              0.6  {'colsample_bytree': 0.6, 'gamma': 1.5, 'max_d...  ...   \n",
       "9                1  {'colsample_bytree': 0.6, 'gamma': 1.5, 'max_d...  ...   \n",
       "10             0.6  {'colsample_bytree': 0.6, 'gamma': 1.5, 'max_d...  ...   \n",
       "11               1  {'colsample_bytree': 0.6, 'gamma': 1.5, 'max_d...  ...   \n",
       "12             0.6  {'colsample_bytree': 0.6, 'gamma': 1.5, 'max_d...  ...   \n",
       "13               1  {'colsample_bytree': 0.6, 'gamma': 1.5, 'max_d...  ...   \n",
       "14             0.6  {'colsample_bytree': 0.6, 'gamma': 1.5, 'max_d...  ...   \n",
       "15               1  {'colsample_bytree': 0.6, 'gamma': 1.5, 'max_d...  ...   \n",
       "16             0.6  {'colsample_bytree': 0.6, 'gamma': 5, 'max_dep...  ...   \n",
       "17               1  {'colsample_bytree': 0.6, 'gamma': 5, 'max_dep...  ...   \n",
       "18             0.6  {'colsample_bytree': 0.6, 'gamma': 5, 'max_dep...  ...   \n",
       "19               1  {'colsample_bytree': 0.6, 'gamma': 5, 'max_dep...  ...   \n",
       "20             0.6  {'colsample_bytree': 0.6, 'gamma': 5, 'max_dep...  ...   \n",
       "21               1  {'colsample_bytree': 0.6, 'gamma': 5, 'max_dep...  ...   \n",
       "22             0.6  {'colsample_bytree': 0.6, 'gamma': 5, 'max_dep...  ...   \n",
       "23               1  {'colsample_bytree': 0.6, 'gamma': 5, 'max_dep...  ...   \n",
       "24             0.6  {'colsample_bytree': 1.0, 'gamma': 0.5, 'max_d...  ...   \n",
       "25               1  {'colsample_bytree': 1.0, 'gamma': 0.5, 'max_d...  ...   \n",
       "26             0.6  {'colsample_bytree': 1.0, 'gamma': 0.5, 'max_d...  ...   \n",
       "27               1  {'colsample_bytree': 1.0, 'gamma': 0.5, 'max_d...  ...   \n",
       "28             0.6  {'colsample_bytree': 1.0, 'gamma': 0.5, 'max_d...  ...   \n",
       "29               1  {'colsample_bytree': 1.0, 'gamma': 0.5, 'max_d...  ...   \n",
       "30             0.6  {'colsample_bytree': 1.0, 'gamma': 0.5, 'max_d...  ...   \n",
       "31               1  {'colsample_bytree': 1.0, 'gamma': 0.5, 'max_d...  ...   \n",
       "32             0.6  {'colsample_bytree': 1.0, 'gamma': 1.5, 'max_d...  ...   \n",
       "33               1  {'colsample_bytree': 1.0, 'gamma': 1.5, 'max_d...  ...   \n",
       "34             0.6  {'colsample_bytree': 1.0, 'gamma': 1.5, 'max_d...  ...   \n",
       "35               1  {'colsample_bytree': 1.0, 'gamma': 1.5, 'max_d...  ...   \n",
       "36             0.6  {'colsample_bytree': 1.0, 'gamma': 1.5, 'max_d...  ...   \n",
       "37               1  {'colsample_bytree': 1.0, 'gamma': 1.5, 'max_d...  ...   \n",
       "38             0.6  {'colsample_bytree': 1.0, 'gamma': 1.5, 'max_d...  ...   \n",
       "39               1  {'colsample_bytree': 1.0, 'gamma': 1.5, 'max_d...  ...   \n",
       "40             0.6  {'colsample_bytree': 1.0, 'gamma': 5, 'max_dep...  ...   \n",
       "41               1  {'colsample_bytree': 1.0, 'gamma': 5, 'max_dep...  ...   \n",
       "42             0.6  {'colsample_bytree': 1.0, 'gamma': 5, 'max_dep...  ...   \n",
       "43               1  {'colsample_bytree': 1.0, 'gamma': 5, 'max_dep...  ...   \n",
       "44             0.6  {'colsample_bytree': 1.0, 'gamma': 5, 'max_dep...  ...   \n",
       "45               1  {'colsample_bytree': 1.0, 'gamma': 5, 'max_dep...  ...   \n",
       "46             0.6  {'colsample_bytree': 1.0, 'gamma': 5, 'max_dep...  ...   \n",
       "47               1  {'colsample_bytree': 1.0, 'gamma': 5, 'max_dep...  ...   \n",
       "\n",
       "    mean_test_score  std_test_score  rank_test_score  split0_train_score  \\\n",
       "0          0.977292        0.012698               46            0.999998   \n",
       "1          0.979954        0.005066               29            0.999995   \n",
       "2          0.979187        0.010664               37            0.999765   \n",
       "3          0.982980        0.006292                9            0.999965   \n",
       "4          0.981837        0.007271               15            1.000000   \n",
       "5          0.978960        0.007712               40            0.999999   \n",
       "6          0.979445        0.008892               35            0.999912   \n",
       "7          0.981562        0.006859               16            0.999997   \n",
       "8          0.978235        0.007222               42            0.999994   \n",
       "9          0.982585        0.007105               12            0.999691   \n",
       "10         0.981017        0.009528               19            0.999700   \n",
       "11         0.985888        0.005523                1            0.999346   \n",
       "12         0.982894        0.007885               10            0.999998   \n",
       "13         0.979934        0.011525               30            0.999877   \n",
       "14         0.980790        0.010638               22            0.999859   \n",
       "15         0.984688        0.005792                2            0.999723   \n",
       "16         0.981176        0.007507               17            0.998496   \n",
       "17         0.979069        0.010195               38            0.994467   \n",
       "18         0.979621        0.009846               33            0.997266   \n",
       "19         0.979875        0.009021               32            0.994285   \n",
       "20         0.978183        0.008782               43            0.999438   \n",
       "21         0.981010        0.009039               20            0.995617   \n",
       "22         0.979894        0.010426               31            0.997038   \n",
       "23         0.978983        0.007612               39            0.995337   \n",
       "24         0.977200        0.009653               47            0.999999   \n",
       "25         0.982241        0.006338               14            0.999994   \n",
       "26         0.982391        0.007630               13            0.999899   \n",
       "27         0.983948        0.005354                5            0.999976   \n",
       "28         0.978318        0.010079               41            1.000000   \n",
       "29         0.975610        0.008119               48            0.999999   \n",
       "30         0.983610        0.006779                6            0.999850   \n",
       "31         0.983048        0.005742                7            0.999998   \n",
       "32         0.980293        0.008736               26            0.999995   \n",
       "33         0.983010        0.007242                8            0.999726   \n",
       "34         0.980110        0.006045               27            0.999791   \n",
       "35         0.984636        0.004771                3            0.999397   \n",
       "36         0.980877        0.008420               21            0.999999   \n",
       "37         0.980542        0.005004               24            0.999918   \n",
       "38         0.979222        0.011560               36            0.999909   \n",
       "39         0.980747        0.008019               23            0.999636   \n",
       "40         0.982769        0.005792               11            0.999208   \n",
       "41         0.980295        0.010211               25            0.996192   \n",
       "42         0.979484        0.008695               34            0.998709   \n",
       "43         0.983972        0.005697                4            0.994165   \n",
       "44         0.980029        0.009238               28            0.999364   \n",
       "45         0.977424        0.008984               45            0.997799   \n",
       "46         0.981089        0.007039               18            0.997728   \n",
       "47         0.977694        0.009324               44            0.995843   \n",
       "\n",
       "    split1_train_score  split2_train_score  split3_train_score  \\\n",
       "0             0.999998            0.999998            0.999995   \n",
       "1             0.999999            0.999984            0.999997   \n",
       "2             0.999805            0.999876            0.999781   \n",
       "3             0.999983            0.999970            0.999983   \n",
       "4             1.000000            1.000000            1.000000   \n",
       "5             1.000000            1.000000            0.999999   \n",
       "6             0.999870            0.999833            0.999916   \n",
       "7             0.999998            0.999998            0.999991   \n",
       "8             0.999996            0.999996            0.999986   \n",
       "9             0.999764            0.999815            0.999693   \n",
       "10            0.999730            0.999808            0.999767   \n",
       "11            0.999485            0.999119            0.999441   \n",
       "12            0.999999            0.999999            0.999998   \n",
       "13            0.999982            0.999910            0.999806   \n",
       "14            0.999807            0.999895            0.999882   \n",
       "15            0.999801            0.999668            0.999701   \n",
       "16            0.998608            0.998498            0.997014   \n",
       "17            0.995596            0.995335            0.992189   \n",
       "18            0.997498            0.997396            0.997517   \n",
       "19            0.994113            0.994730            0.991312   \n",
       "20            0.998780            0.998999            0.998843   \n",
       "21            0.996317            0.995851            0.995026   \n",
       "22            0.997186            0.998378            0.997877   \n",
       "23            0.996277            0.995820            0.993023   \n",
       "24            1.000000            0.999999            0.999997   \n",
       "25            0.999998            0.999985            0.999998   \n",
       "26            0.999710            0.999929            0.999921   \n",
       "27            0.999991            0.999989            0.999987   \n",
       "28            1.000000            1.000000            1.000000   \n",
       "29            1.000000            0.999999            1.000000   \n",
       "30            0.999903            0.999943            0.999939   \n",
       "31            0.999998            0.999997            0.999996   \n",
       "32            0.999998            0.999998            0.999997   \n",
       "33            0.999815            0.999646            0.999741   \n",
       "34            0.999846            0.999900            0.999911   \n",
       "35            0.999746            0.999471            0.999519   \n",
       "36            0.999999            0.999999            0.999999   \n",
       "37            0.999962            0.999947            0.999887   \n",
       "38            0.999871            0.999955            0.999902   \n",
       "39            0.999762            0.999620            0.999661   \n",
       "40            0.999311            0.999159            0.999011   \n",
       "41            0.996638            0.995295            0.993571   \n",
       "42            0.997617            0.998447            0.997234   \n",
       "43            0.996101            0.996389            0.995153   \n",
       "44            0.999464            0.999275            0.999286   \n",
       "45            0.997826            0.996980            0.996544   \n",
       "46            0.998689            0.998554            0.997996   \n",
       "47            0.996320            0.996801            0.996183   \n",
       "\n",
       "    split4_train_score  mean_train_score  std_train_score  \n",
       "0             0.999992          0.999996     2.179547e-06  \n",
       "1             0.999988          0.999993     5.661058e-06  \n",
       "2             0.999755          0.999796     4.323309e-05  \n",
       "3             0.999972          0.999975     7.220843e-06  \n",
       "4             1.000000          1.000000     0.000000e+00  \n",
       "5             0.999999          1.000000     3.191998e-07  \n",
       "6             0.999881          0.999883     3.021747e-05  \n",
       "7             0.999998          0.999997     2.729972e-06  \n",
       "8             0.999983          0.999991     5.728007e-06  \n",
       "9             0.999626          0.999718     6.545657e-05  \n",
       "10            0.999669          0.999735     4.868752e-05  \n",
       "11            0.999306          0.999339     1.275640e-04  \n",
       "12            0.999999          0.999999     5.679032e-07  \n",
       "13            0.999900          0.999895     5.660329e-05  \n",
       "14            0.999695          0.999828     7.287702e-05  \n",
       "15            0.999609          0.999700     6.332087e-05  \n",
       "16            0.997816          0.998087     6.054161e-04  \n",
       "17            0.995216          0.994561     1.243880e-03  \n",
       "18            0.996495          0.997234     3.803551e-04  \n",
       "19            0.991359          0.993160     1.503215e-03  \n",
       "20            0.998634          0.998939     2.755930e-04  \n",
       "21            0.995981          0.995758     4.305006e-04  \n",
       "22            0.996664          0.997429     6.162244e-04  \n",
       "23            0.993998          0.994891     1.205920e-03  \n",
       "24            0.999998          0.999999     9.042713e-07  \n",
       "25            0.999981          0.999991     6.798279e-06  \n",
       "26            0.999913          0.999874     8.301463e-05  \n",
       "27            0.999984          0.999985     5.499412e-06  \n",
       "28            1.000000          1.000000     0.000000e+00  \n",
       "29            0.999999          0.999999     2.994322e-07  \n",
       "30            0.999944          0.999916     3.608776e-05  \n",
       "31            0.999997          0.999997     7.382084e-07  \n",
       "32            0.999997          0.999997     1.164746e-06  \n",
       "33            0.999500          0.999686     1.073535e-04  \n",
       "34            0.999867          0.999863     4.301487e-05  \n",
       "35            0.999181          0.999463     1.829021e-04  \n",
       "36            0.999999          0.999999     1.215363e-07  \n",
       "37            0.999946          0.999932     2.643995e-05  \n",
       "38            0.999925          0.999912     2.763243e-05  \n",
       "39            0.999578          0.999651     6.173271e-05  \n",
       "40            0.999369          0.999212     1.245390e-04  \n",
       "41            0.996159          0.995571     1.090489e-03  \n",
       "42            0.998550          0.998111     5.789217e-04  \n",
       "43            0.994618          0.995285     8.488300e-04  \n",
       "44            0.999185          0.999315     9.391149e-05  \n",
       "45            0.997838          0.997397     5.367830e-04  \n",
       "46            0.997770          0.998148     3.998724e-04  \n",
       "47            0.994875          0.996004     6.430466e-04  \n",
       "\n",
       "[48 rows x 25 columns]"
      ]
     },
     "execution_count": 34,
     "metadata": {
      "tags": []
     },
     "output_type": "execute_result"
    }
   ],
   "source": [
    "# perform cross validation\n",
    "grid_args = {\n",
    "    'estimator': xgb_1,\n",
    "    'cv': cv,\n",
    "    'param_grid': params,\n",
    "    'scoring': 'roc_auc', \n",
    "    'n_jobs': -1,\n",
    "    'verbose': 1,\n",
    "    'return_train_score': True\n",
    "}\n",
    "xgb_1_cv = GridSearchCV(**grid_args)\n",
    "xgb_1_cv.fit(X_train, y_train)\n",
    "pd.DataFrame(xgb_1_cv.cv_results_)"
   ]
  },
  {
   "cell_type": "code",
   "execution_count": null,
   "metadata": {
    "colab": {
     "base_uri": "https://localhost:8080/"
    },
    "colab_type": "code",
    "id": "EwsEnINMubDT",
    "outputId": "3d0e5db1-3330-44a8-c4be-b5fa10b31388"
   },
   "outputs": [
    {
     "name": "stdout",
     "output_type": "stream",
     "text": [
      "Best AUC :  0.986\n",
      "Best hyperparameters:  {'colsample_bytree': 0.6, 'gamma': 1.5, 'max_depth': 3, 'min_child_weight': 5, 'subsample': 1.0}\n"
     ]
    }
   ],
   "source": [
    "print('Best AUC : ', round(xgb_1_cv.best_score_, 3))\n",
    "print('Best hyperparameters: ', xgb_1_cv.best_params_)"
   ]
  },
  {
   "cell_type": "code",
   "execution_count": null,
   "metadata": {
    "colab": {},
    "colab_type": "code",
    "id": "HBg4mYw_ubDb"
   },
   "outputs": [],
   "source": [
    "xgb_1_tuned = XGBClassifier(**xgb_1_cv.best_params_, random_state=100)\n",
    "xgb_1_tuned.fit(X_train, y_train)\n",
    "y_pred = xgb_1_tuned.predict(X_test)"
   ]
  },
  {
   "cell_type": "code",
   "execution_count": null,
   "metadata": {
    "colab": {
     "base_uri": "https://localhost:8080/"
    },
    "colab_type": "code",
    "id": "cJNz6GEvubDf",
    "outputId": "ce3831c2-376f-4ccd-bc5c-c45d070b57a7"
   },
   "outputs": [
    {
     "name": "stdout",
     "output_type": "stream",
     "text": [
      "              precision    recall  f1-score   support\n",
      "\n",
      "           0       1.00      1.00      1.00     85295\n",
      "           1       0.95      0.80      0.87       148\n",
      "\n",
      "    accuracy                           1.00     85443\n",
      "   macro avg       0.98      0.90      0.93     85443\n",
      "weighted avg       1.00      1.00      1.00     85443\n",
      "\n"
     ]
    }
   ],
   "source": [
    "print(metrics.classification_report(y_test, y_pred))"
   ]
  },
  {
   "cell_type": "code",
   "execution_count": null,
   "metadata": {
    "colab": {
     "base_uri": "https://localhost:8080/"
    },
    "colab_type": "code",
    "id": "tDGgq0uWubD1",
    "outputId": "19b1daaa-2e48-4440-9950-a50d8429125e"
   },
   "outputs": [
    {
     "data": {
      "text/plain": [
       "array([[85289,     6],\n",
       "       [   30,   118]], dtype=int64)"
      ]
     },
     "execution_count": 38,
     "metadata": {
      "tags": []
     },
     "output_type": "execute_result"
    }
   ],
   "source": [
    "metrics.confusion_matrix(y_test, y_pred)"
   ]
  },
  {
   "cell_type": "code",
   "execution_count": null,
   "metadata": {
    "colab": {
     "base_uri": "https://localhost:8080/"
    },
    "colab_type": "code",
    "id": "SvWa99LcubD7",
    "outputId": "5360409a-b139-45c2-d6bc-3c35e7239c97"
   },
   "outputs": [
    {
     "name": "stdout",
     "output_type": "stream",
     "text": [
      "Accuracy:  0.9995786664794073\n",
      "ROC AUC: 0.8986134765987044\n"
     ]
    }
   ],
   "source": [
    "print('Accuracy: ', metrics.accuracy_score(y_test, y_pred))\n",
    "print('ROC AUC:', metrics.roc_auc_score(y_test, y_pred))"
   ]
  },
  {
   "cell_type": "code",
   "execution_count": null,
   "metadata": {
    "colab": {
     "base_uri": "https://localhost:8080/"
    },
    "colab_type": "code",
    "id": "LQr9jSvbubD_",
    "outputId": "7696c6c2-057d-4604-913d-50af9f2037a7"
   },
   "outputs": [
    {
     "data": {
      "text/plain": [
       "<sklearn.metrics._plot.roc_curve.RocCurveDisplay at 0x23813709788>"
      ]
     },
     "execution_count": 40,
     "metadata": {
      "tags": []
     },
     "output_type": "execute_result"
    },
    {
     "data": {
      "image/png": "[encoded data removed]",
      "text/plain": [
       "<Figure size 576x576 with 1 Axes>"
      ]
     },
     "metadata": {
      "needs_background": "light",
      "tags": []
     },
     "output_type": "display_data"
    }
   ],
   "source": [
    "fig, ax = plt.subplots(figsize=(8, 8))\n",
    "metrics.plot_roc_curve(xgb_1_tuned, X_test, y_test, ax=ax)"
   ]
  },
  {
   "cell_type": "markdown",
   "metadata": {
    "colab_type": "text",
    "id": "SdKMj84CubED"
   },
   "source": [
    "- Precision : 0.\n",
    "- Recall : 0.\n",
    "- F1-score : 0.\n",
    "- Accuracy : 0.\n",
    "- ROC AUC : 0."
   ]
  },
  {
   "cell_type": "markdown",
   "metadata": {
    "colab_type": "text",
    "id": "JBA4VGM6uuoY"
   },
   "source": [
    "# Model building (with balanced class)\n",
    "\n",
    "##### Perform class balancing with :\n",
    "- Random Oversampling\n",
    "- SMOTE\n",
    "- ADASYN"
   ]
  },
  {
   "cell_type": "markdown",
   "metadata": {
    "colab_type": "text",
    "id": "bh8xEpHAe3Du"
   },
   "source": [
    "## Oversampling"
   ]
  },
  {
   "cell_type": "code",
   "execution_count": 9,
   "metadata": {
    "colab": {
     "base_uri": "https://localhost:8080/",
     "height": 207
    },
    "colab_type": "code",
    "id": "Q35Toi7lSGBu",
    "outputId": "47904853-4cfa-48a7-ce01-ffb65f809079"
   },
   "outputs": [
    {
     "name": "stdout",
     "output_type": "stream",
     "text": [
      "Initial shape: (199364, 30)\n",
      "ROS Shape: (398040, 30)\n",
      "SMOTE Shape: (398040, 30)\n",
      "ADASYN Shape: (398045, 30)\n"
     ]
    }
   ],
   "source": [
    "from imblearn.over_sampling import RandomOverSampler\n",
    "from imblearn.over_sampling import SMOTE\n",
    "from imblearn.over_sampling import ADASYN\n",
    "\n",
    "print(f'Initial shape: {X_train.shape}')\n",
    "\n",
    "# Resample training data\n",
    "ros = RandomOverSampler()\n",
    "smote = SMOTE(random_state=100)\n",
    "adasyn = ADASYN(random_state=100)\n",
    "\n",
    "X_train_ros, y_train_ros = ros.fit_sample(X_train, y_train)\n",
    "print(f'ROS Shape: {X_train_ros.shape}')\n",
    "\n",
    "X_train_smote, y_train_smote = smote.fit_sample(X_train, y_train)\n",
    "print(f'SMOTE Shape: {X_train_smote.shape}')\n",
    "\n",
    "X_train_adasyn, y_train_adasyn = adasyn.fit_sample(X_train, y_train)\n",
    "print(f'ADASYN Shape: {X_train_adasyn.shape}')"
   ]
  },
  {
   "cell_type": "markdown",
   "metadata": {
    "colab_type": "text",
    "id": "lD0XYooquuoe"
   },
   "source": [
    "### Class distribution after applying SMOTE "
   ]
  },
  {
   "cell_type": "code",
   "execution_count": null,
   "metadata": {
    "colab": {},
    "colab_type": "code",
    "id": "YYtp853Iuuof",
    "outputId": "30b2a0c4-e92d-455f-e5a1-04eb620679cc"
   },
   "outputs": [
    {
     "ename": "TypeError",
     "evalue": "'(slice(None, 344, None), 0)' is an invalid key",
     "output_type": "error",
     "traceback": [
      "\u001b[1;31m---------------------------------------------------------------------------\u001b[0m",
      "\u001b[1;31mTypeError\u001b[0m                                 Traceback (most recent call last)",
      "\u001b[1;32m<ipython-input-47-3ca1818c5739>\u001b[0m in \u001b[0;36m<module>\u001b[1;34m\u001b[0m\n\u001b[0;32m     19\u001b[0m \u001b[0mplt\u001b[0m\u001b[1;33m.\u001b[0m\u001b[0msubplot\u001b[0m\u001b[1;33m(\u001b[0m\u001b[1;36m3\u001b[0m\u001b[1;33m,\u001b[0m \u001b[1;36m1\u001b[0m\u001b[1;33m,\u001b[0m \u001b[1;36m2\u001b[0m\u001b[1;33m)\u001b[0m\u001b[1;33m\u001b[0m\u001b[1;33m\u001b[0m\u001b[0m\n\u001b[0;32m     20\u001b[0m \u001b[0mplt\u001b[0m\u001b[1;33m.\u001b[0m\u001b[0mscatter\u001b[0m\u001b[1;33m(\u001b[0m\u001b[0mX_train_1\u001b[0m\u001b[1;33m[\u001b[0m\u001b[1;33m:\u001b[0m\u001b[1;33m,\u001b[0m \u001b[1;36m0\u001b[0m\u001b[1;33m]\u001b[0m\u001b[1;33m,\u001b[0m \u001b[0mX_train_1\u001b[0m\u001b[1;33m[\u001b[0m\u001b[1;33m:\u001b[0m\u001b[1;33m,\u001b[0m \u001b[1;36m1\u001b[0m\u001b[1;33m]\u001b[0m\u001b[1;33m,\u001b[0m \u001b[0mlabel\u001b[0m\u001b[1;33m=\u001b[0m\u001b[1;34m'Actual Class-1 Examples'\u001b[0m\u001b[1;33m)\u001b[0m\u001b[1;33m\u001b[0m\u001b[1;33m\u001b[0m\u001b[0m\n\u001b[1;32m---> 21\u001b[1;33m plt.scatter(X_train_smote_1[:X_train_1.shape[0], 0], X_train_smote_1[:X_train_1.shape[0], 1],\n\u001b[0m\u001b[0;32m     22\u001b[0m             label='Artificial SMOTE Class-1 Examples')\n\u001b[0;32m     23\u001b[0m \u001b[0mplt\u001b[0m\u001b[1;33m.\u001b[0m\u001b[0mlegend\u001b[0m\u001b[1;33m(\u001b[0m\u001b[1;33m)\u001b[0m\u001b[1;33m\u001b[0m\u001b[1;33m\u001b[0m\u001b[0m\n",
      "\u001b[1;32m~\\anaconda3\\envs\\smart_search\\lib\\site-packages\\pandas\\core\\frame.py\u001b[0m in \u001b[0;36m__getitem__\u001b[1;34m(self, key)\u001b[0m\n\u001b[0;32m   2993\u001b[0m             \u001b[1;32mif\u001b[0m \u001b[0mself\u001b[0m\u001b[1;33m.\u001b[0m\u001b[0mcolumns\u001b[0m\u001b[1;33m.\u001b[0m\u001b[0mnlevels\u001b[0m \u001b[1;33m>\u001b[0m \u001b[1;36m1\u001b[0m\u001b[1;33m:\u001b[0m\u001b[1;33m\u001b[0m\u001b[1;33m\u001b[0m\u001b[0m\n\u001b[0;32m   2994\u001b[0m                 \u001b[1;32mreturn\u001b[0m \u001b[0mself\u001b[0m\u001b[1;33m.\u001b[0m\u001b[0m_getitem_multilevel\u001b[0m\u001b[1;33m(\u001b[0m\u001b[0mkey\u001b[0m\u001b[1;33m)\u001b[0m\u001b[1;33m\u001b[0m\u001b[1;33m\u001b[0m\u001b[0m\n\u001b[1;32m-> 2995\u001b[1;33m             \u001b[0mindexer\u001b[0m \u001b[1;33m=\u001b[0m \u001b[0mself\u001b[0m\u001b[1;33m.\u001b[0m\u001b[0mcolumns\u001b[0m\u001b[1;33m.\u001b[0m\u001b[0mget_loc\u001b[0m\u001b[1;33m(\u001b[0m\u001b[0mkey\u001b[0m\u001b[1;33m)\u001b[0m\u001b[1;33m\u001b[0m\u001b[1;33m\u001b[0m\u001b[0m\n\u001b[0m\u001b[0;32m   2996\u001b[0m             \u001b[1;32mif\u001b[0m \u001b[0mis_integer\u001b[0m\u001b[1;33m(\u001b[0m\u001b[0mindexer\u001b[0m\u001b[1;33m)\u001b[0m\u001b[1;33m:\u001b[0m\u001b[1;33m\u001b[0m\u001b[1;33m\u001b[0m\u001b[0m\n\u001b[0;32m   2997\u001b[0m                 \u001b[0mindexer\u001b[0m \u001b[1;33m=\u001b[0m \u001b[1;33m[\u001b[0m\u001b[0mindexer\u001b[0m\u001b[1;33m]\u001b[0m\u001b[1;33m\u001b[0m\u001b[1;33m\u001b[0m\u001b[0m\n",
      "\u001b[1;32m~\\anaconda3\\envs\\smart_search\\lib\\site-packages\\pandas\\core\\indexes\\base.py\u001b[0m in \u001b[0;36mget_loc\u001b[1;34m(self, key, method, tolerance)\u001b[0m\n\u001b[0;32m   2895\u001b[0m                 )\n\u001b[0;32m   2896\u001b[0m             \u001b[1;32mtry\u001b[0m\u001b[1;33m:\u001b[0m\u001b[1;33m\u001b[0m\u001b[1;33m\u001b[0m\u001b[0m\n\u001b[1;32m-> 2897\u001b[1;33m                 \u001b[1;32mreturn\u001b[0m \u001b[0mself\u001b[0m\u001b[1;33m.\u001b[0m\u001b[0m_engine\u001b[0m\u001b[1;33m.\u001b[0m\u001b[0mget_loc\u001b[0m\u001b[1;33m(\u001b[0m\u001b[0mkey\u001b[0m\u001b[1;33m)\u001b[0m\u001b[1;33m\u001b[0m\u001b[1;33m\u001b[0m\u001b[0m\n\u001b[0m\u001b[0;32m   2898\u001b[0m             \u001b[1;32mexcept\u001b[0m \u001b[0mKeyError\u001b[0m\u001b[1;33m:\u001b[0m\u001b[1;33m\u001b[0m\u001b[1;33m\u001b[0m\u001b[0m\n\u001b[0;32m   2899\u001b[0m                 \u001b[1;32mreturn\u001b[0m \u001b[0mself\u001b[0m\u001b[1;33m.\u001b[0m\u001b[0m_engine\u001b[0m\u001b[1;33m.\u001b[0m\u001b[0mget_loc\u001b[0m\u001b[1;33m(\u001b[0m\u001b[0mself\u001b[0m\u001b[1;33m.\u001b[0m\u001b[0m_maybe_cast_indexer\u001b[0m\u001b[1;33m(\u001b[0m\u001b[0mkey\u001b[0m\u001b[1;33m)\u001b[0m\u001b[1;33m)\u001b[0m\u001b[1;33m\u001b[0m\u001b[1;33m\u001b[0m\u001b[0m\n",
      "\u001b[1;32mpandas/_libs/index.pyx\u001b[0m in \u001b[0;36mpandas._libs.index.IndexEngine.get_loc\u001b[1;34m()\u001b[0m\n",
      "\u001b[1;32mpandas/_libs/index.pyx\u001b[0m in \u001b[0;36mpandas._libs.index.IndexEngine.get_loc\u001b[1;34m()\u001b[0m\n",
      "\u001b[1;31mTypeError\u001b[0m: '(slice(None, 344, None), 0)' is an invalid key"
     ]
    },
    {
     "data": {
      "image/png": "[encoded data removed]",
      "text/plain": [
       "<Figure size 1440x1440 with 2 Axes>"
      ]
     },
     "metadata": {
      "needs_background": "light",
      "tags": []
     },
     "output_type": "display_data"
    }
   ],
   "source": [
    "import warnings\n",
    "warnings.filterwarnings(\"ignore\")\n",
    "\n",
    "# Artificial minority samples and corresponding minority labels from SMOTE are appended\n",
    "# below X_train and y_train respectively\n",
    "# So to exclusively get the artificial minority samples from SMOTE, we do\n",
    "X_train_smote_1 = X_train_smote[X_train.shape[0]:]\n",
    "\n",
    "X_train_1 = X_train.to_numpy()[np.where(y_train==1.0)]\n",
    "X_train_0 = X_train.to_numpy()[np.where(y_train==0.0)]\n",
    "\n",
    "plt.rcParams['figure.figsize'] = [20, 20]\n",
    "fig = plt.figure()\n",
    "\n",
    "plt.subplot(3, 1, 1)\n",
    "plt.scatter(X_train_1[:, 0], X_train_1[:, 1], label='Actual Class-1 Examples')\n",
    "plt.legend()\n",
    "\n",
    "plt.subplot(3, 1, 2)\n",
    "plt.scatter(X_train_1[:, 0], X_train_1[:, 1], label='Actual Class-1 Examples')\n",
    "plt.scatter(X_train_smote_1[:X_train_1.shape[0], 0], X_train_smote_1[:X_train_1.shape[0], 1],\n",
    "            label='Artificial SMOTE Class-1 Examples')\n",
    "plt.legend()\n",
    "\n",
    "plt.subplot(3, 1, 3)\n",
    "plt.scatter(X_train_1[:, 0], X_train_1[:, 1], label='Actual Class-1 Examples')\n",
    "plt.scatter(X_train_0[:X_train_1.shape[0], 0], X_train_0[:X_train_1.shape[0], 1], label='Actual Class-0 Examples')\n",
    "plt.legend()"
   ]
  },
  {
   "cell_type": "markdown",
   "metadata": {
    "colab_type": "text",
    "id": "YfBPR_F3uuom"
   },
   "source": [
    "### Class distribution after applying ADASYN"
   ]
  },
  {
   "cell_type": "code",
   "execution_count": null,
   "metadata": {
    "colab": {},
    "colab_type": "code",
    "id": "_3mB_qc0uuon",
    "outputId": "ea21b3db-d3e1-450c-b792-3f3bf107b85f"
   },
   "outputs": [
    {
     "ename": "TypeError",
     "evalue": "'(slice(None, 344, None), 0)' is an invalid key",
     "output_type": "error",
     "traceback": [
      "\u001b[1;31m---------------------------------------------------------------------------\u001b[0m",
      "\u001b[1;31mTypeError\u001b[0m                                 Traceback (most recent call last)",
      "\u001b[1;32m<ipython-input-48-e2b08ed81f4e>\u001b[0m in \u001b[0;36m<module>\u001b[1;34m\u001b[0m\n\u001b[0;32m     16\u001b[0m \u001b[0mplt\u001b[0m\u001b[1;33m.\u001b[0m\u001b[0msubplot\u001b[0m\u001b[1;33m(\u001b[0m\u001b[1;36m3\u001b[0m\u001b[1;33m,\u001b[0m \u001b[1;36m1\u001b[0m\u001b[1;33m,\u001b[0m \u001b[1;36m2\u001b[0m\u001b[1;33m)\u001b[0m\u001b[1;33m\u001b[0m\u001b[1;33m\u001b[0m\u001b[0m\n\u001b[0;32m     17\u001b[0m \u001b[0mplt\u001b[0m\u001b[1;33m.\u001b[0m\u001b[0mscatter\u001b[0m\u001b[1;33m(\u001b[0m\u001b[0mX_train_1\u001b[0m\u001b[1;33m[\u001b[0m\u001b[1;33m:\u001b[0m\u001b[1;33m,\u001b[0m \u001b[1;36m0\u001b[0m\u001b[1;33m]\u001b[0m\u001b[1;33m,\u001b[0m \u001b[0mX_train_1\u001b[0m\u001b[1;33m[\u001b[0m\u001b[1;33m:\u001b[0m\u001b[1;33m,\u001b[0m \u001b[1;36m1\u001b[0m\u001b[1;33m]\u001b[0m\u001b[1;33m,\u001b[0m \u001b[0mlabel\u001b[0m\u001b[1;33m=\u001b[0m\u001b[1;34m'Actual Class-1 Examples'\u001b[0m\u001b[1;33m)\u001b[0m\u001b[1;33m\u001b[0m\u001b[1;33m\u001b[0m\u001b[0m\n\u001b[1;32m---> 18\u001b[1;33m plt.scatter(X_train_adasyn_1[:X_train_1.shape[0], 0], X_train_adasyn_1[:X_train_1.shape[0], 1],\n\u001b[0m\u001b[0;32m     19\u001b[0m             label='Artificial ADASYN Class-1 Examples')\n\u001b[0;32m     20\u001b[0m \u001b[0mplt\u001b[0m\u001b[1;33m.\u001b[0m\u001b[0mlegend\u001b[0m\u001b[1;33m(\u001b[0m\u001b[1;33m)\u001b[0m\u001b[1;33m\u001b[0m\u001b[1;33m\u001b[0m\u001b[0m\n",
      "\u001b[1;32m~\\anaconda3\\envs\\smart_search\\lib\\site-packages\\pandas\\core\\frame.py\u001b[0m in \u001b[0;36m__getitem__\u001b[1;34m(self, key)\u001b[0m\n\u001b[0;32m   2993\u001b[0m             \u001b[1;32mif\u001b[0m \u001b[0mself\u001b[0m\u001b[1;33m.\u001b[0m\u001b[0mcolumns\u001b[0m\u001b[1;33m.\u001b[0m\u001b[0mnlevels\u001b[0m \u001b[1;33m>\u001b[0m \u001b[1;36m1\u001b[0m\u001b[1;33m:\u001b[0m\u001b[1;33m\u001b[0m\u001b[1;33m\u001b[0m\u001b[0m\n\u001b[0;32m   2994\u001b[0m                 \u001b[1;32mreturn\u001b[0m \u001b[0mself\u001b[0m\u001b[1;33m.\u001b[0m\u001b[0m_getitem_multilevel\u001b[0m\u001b[1;33m(\u001b[0m\u001b[0mkey\u001b[0m\u001b[1;33m)\u001b[0m\u001b[1;33m\u001b[0m\u001b[1;33m\u001b[0m\u001b[0m\n\u001b[1;32m-> 2995\u001b[1;33m             \u001b[0mindexer\u001b[0m \u001b[1;33m=\u001b[0m \u001b[0mself\u001b[0m\u001b[1;33m.\u001b[0m\u001b[0mcolumns\u001b[0m\u001b[1;33m.\u001b[0m\u001b[0mget_loc\u001b[0m\u001b[1;33m(\u001b[0m\u001b[0mkey\u001b[0m\u001b[1;33m)\u001b[0m\u001b[1;33m\u001b[0m\u001b[1;33m\u001b[0m\u001b[0m\n\u001b[0m\u001b[0;32m   2996\u001b[0m             \u001b[1;32mif\u001b[0m \u001b[0mis_integer\u001b[0m\u001b[1;33m(\u001b[0m\u001b[0mindexer\u001b[0m\u001b[1;33m)\u001b[0m\u001b[1;33m:\u001b[0m\u001b[1;33m\u001b[0m\u001b[1;33m\u001b[0m\u001b[0m\n\u001b[0;32m   2997\u001b[0m                 \u001b[0mindexer\u001b[0m \u001b[1;33m=\u001b[0m \u001b[1;33m[\u001b[0m\u001b[0mindexer\u001b[0m\u001b[1;33m]\u001b[0m\u001b[1;33m\u001b[0m\u001b[1;33m\u001b[0m\u001b[0m\n",
      "\u001b[1;32m~\\anaconda3\\envs\\smart_search\\lib\\site-packages\\pandas\\core\\indexes\\base.py\u001b[0m in \u001b[0;36mget_loc\u001b[1;34m(self, key, method, tolerance)\u001b[0m\n\u001b[0;32m   2895\u001b[0m                 )\n\u001b[0;32m   2896\u001b[0m             \u001b[1;32mtry\u001b[0m\u001b[1;33m:\u001b[0m\u001b[1;33m\u001b[0m\u001b[1;33m\u001b[0m\u001b[0m\n\u001b[1;32m-> 2897\u001b[1;33m                 \u001b[1;32mreturn\u001b[0m \u001b[0mself\u001b[0m\u001b[1;33m.\u001b[0m\u001b[0m_engine\u001b[0m\u001b[1;33m.\u001b[0m\u001b[0mget_loc\u001b[0m\u001b[1;33m(\u001b[0m\u001b[0mkey\u001b[0m\u001b[1;33m)\u001b[0m\u001b[1;33m\u001b[0m\u001b[1;33m\u001b[0m\u001b[0m\n\u001b[0m\u001b[0;32m   2898\u001b[0m             \u001b[1;32mexcept\u001b[0m \u001b[0mKeyError\u001b[0m\u001b[1;33m:\u001b[0m\u001b[1;33m\u001b[0m\u001b[1;33m\u001b[0m\u001b[0m\n\u001b[0;32m   2899\u001b[0m                 \u001b[1;32mreturn\u001b[0m \u001b[0mself\u001b[0m\u001b[1;33m.\u001b[0m\u001b[0m_engine\u001b[0m\u001b[1;33m.\u001b[0m\u001b[0mget_loc\u001b[0m\u001b[1;33m(\u001b[0m\u001b[0mself\u001b[0m\u001b[1;33m.\u001b[0m\u001b[0m_maybe_cast_indexer\u001b[0m\u001b[1;33m(\u001b[0m\u001b[0mkey\u001b[0m\u001b[1;33m)\u001b[0m\u001b[1;33m)\u001b[0m\u001b[1;33m\u001b[0m\u001b[1;33m\u001b[0m\u001b[0m\n",
      "\u001b[1;32mpandas/_libs/index.pyx\u001b[0m in \u001b[0;36mpandas._libs.index.IndexEngine.get_loc\u001b[1;34m()\u001b[0m\n",
      "\u001b[1;32mpandas/_libs/index.pyx\u001b[0m in \u001b[0;36mpandas._libs.index.IndexEngine.get_loc\u001b[1;34m()\u001b[0m\n",
      "\u001b[1;31mTypeError\u001b[0m: '(slice(None, 344, None), 0)' is an invalid key"
     ]
    },
    {
     "data": {
      "image/png": "[encoded data removed]",
      "text/plain": [
       "<Figure size 1440x1440 with 2 Axes>"
      ]
     },
     "metadata": {
      "needs_background": "light",
      "tags": []
     },
     "output_type": "display_data"
    }
   ],
   "source": [
    "# Artificial minority samples and corresponding minority labels from ADASYN are appended\n",
    "# below X_train and y_train respectively\n",
    "# So to exclusively get the artificial minority samples from ADASYN, we do\n",
    "X_train_adasyn_1 = X_train_adasyn[X_train.shape[0]:]\n",
    "\n",
    "X_train_1 = X_train.to_numpy()[np.where(y_train==1.0)]\n",
    "X_train_0 = X_train.to_numpy()[np.where(y_train==0.0)]\n",
    "\n",
    "plt.rcParams['figure.figsize'] = [20, 20]\n",
    "fig = plt.figure()\n",
    "\n",
    "plt.subplot(3, 1, 1)\n",
    "plt.scatter(X_train_1[:, 0], X_train_1[:, 1], label='Actual Class-1 Examples')\n",
    "plt.legend()\n",
    "\n",
    "plt.subplot(3, 1, 2)\n",
    "plt.scatter(X_train_1[:, 0], X_train_1[:, 1], label='Actual Class-1 Examples')\n",
    "plt.scatter(X_train_adasyn_1[:X_train_1.shape[0], 0], X_train_adasyn_1[:X_train_1.shape[0], 1],\n",
    "            label='Artificial ADASYN Class-1 Examples')\n",
    "plt.legend()\n",
    "\n",
    "plt.subplot(3, 1, 3)\n",
    "plt.scatter(X_train_1[:, 0], X_train_1[:, 1], label='Actual Class-1 Examples')\n",
    "plt.scatter(X_train_0[:X_train_1.shape[0], 0], X_train_0[:X_train_1.shape[0], 1], label='Actual Class-0 Examples')\n",
    "plt.legend()"
   ]
  },
  {
   "cell_type": "markdown",
   "metadata": {
    "colab_type": "text",
    "id": "FSlgfJjsVt-Z"
   },
   "source": [
    "## Logistic Regression"
   ]
  },
  {
   "cell_type": "markdown",
   "metadata": {
    "colab_type": "text",
    "id": "Z51wXEmvWHBX"
   },
   "source": [
    "### Random Oversampling"
   ]
  },
  {
   "cell_type": "code",
   "execution_count": null,
   "metadata": {
    "colab": {},
    "colab_type": "code",
    "id": "JToCBw0OuuoZ"
   },
   "outputs": [],
   "source": [
    "lr_2_ros = LogisticRegression(random_state=100)\n",
    "lr_2_ros.fit(X_train_ros, y_train_ros)\n",
    "y_pred = lr_2_ros.predict(X_test)"
   ]
  },
  {
   "cell_type": "code",
   "execution_count": null,
   "metadata": {
    "colab": {
     "base_uri": "https://localhost:8080/",
     "height": 701
    },
    "colab_type": "code",
    "id": "fsJhUyCAUkTK",
    "outputId": "3a263cfd-1bc0-4ca0-f279-5d5d835b7324"
   },
   "outputs": [
    {
     "name": "stdout",
     "output_type": "stream",
     "text": [
      "              precision    recall  f1-score   support\n",
      "\n",
      "           0       1.00      0.97      0.99     85295\n",
      "           1       0.06      0.91      0.11       148\n",
      "\n",
      "    accuracy                           0.97     85443\n",
      "   macro avg       0.53      0.94      0.55     85443\n",
      "weighted avg       1.00      0.97      0.99     85443\n",
      "\n",
      "Accuracy:  0.9741933218636986\n",
      "ROC AUC: 0.9432315588347596\n"
     ]
    },
    {
     "data": {
      "text/plain": [
       "<sklearn.metrics._plot.roc_curve.RocCurveDisplay at 0x2381738d988>"
      ]
     },
     "execution_count": 50,
     "metadata": {
      "tags": []
     },
     "output_type": "execute_result"
    },
    {
     "data": {
      "image/png": "[encoded data removed]",
      "text/plain": [
       "<Figure size 576x576 with 1 Axes>"
      ]
     },
     "metadata": {
      "needs_background": "light",
      "tags": []
     },
     "output_type": "display_data"
    }
   ],
   "source": [
    "print(metrics.classification_report(y_test, y_pred))\n",
    "print('Accuracy: ', metrics.accuracy_score(y_test, y_pred))\n",
    "print('ROC AUC:', metrics.roc_auc_score(y_test, y_pred))\n",
    "\n",
    "fig, ax = plt.subplots(figsize=(8, 8))\n",
    "metrics.plot_roc_curve(lr_2_ros, X_test, y_test, ax=ax)"
   ]
  },
  {
   "cell_type": "markdown",
   "metadata": {
    "colab_type": "text",
    "id": "tXPU82e9UkTW"
   },
   "source": [
    "- Precision : 0.06\n",
    "- Recall : 0.91\n",
    "- F1-score : 0.11\n",
    "- Accuracy : 0.97\n",
    "- ROC AUC : 0.98"
   ]
  },
  {
   "cell_type": "markdown",
   "metadata": {
    "colab_type": "text",
    "id": "lYEzL7MZV35r"
   },
   "source": [
    "### SMOTE"
   ]
  },
  {
   "cell_type": "code",
   "execution_count": null,
   "metadata": {
    "colab": {},
    "colab_type": "code",
    "id": "5NYpHr3qTgGL"
   },
   "outputs": [],
   "source": [
    "lr_2_smote = LogisticRegression(random_state=100)\n",
    "lr_2_smote.fit(X_train_smote, y_train_smote)\n",
    "y_pred = lr_2_smote.predict(X_test)"
   ]
  },
  {
   "cell_type": "code",
   "execution_count": null,
   "metadata": {
    "colab": {
     "base_uri": "https://localhost:8080/",
     "height": 701
    },
    "colab_type": "code",
    "id": "miTte5i1WeKE",
    "outputId": "74f829d3-8170-4a9c-e444-0615917d5a59"
   },
   "outputs": [
    {
     "name": "stdout",
     "output_type": "stream",
     "text": [
      "              precision    recall  f1-score   support\n",
      "\n",
      "           0       1.00      0.97      0.98     85295\n",
      "           1       0.05      0.92      0.10       148\n",
      "\n",
      "    accuracy                           0.97     85443\n",
      "   macro avg       0.53      0.94      0.54     85443\n",
      "weighted avg       1.00      0.97      0.98     85443\n",
      "\n",
      "Accuracy:  0.9699214681132451\n",
      "ROC AUC: 0.9444644421665349\n"
     ]
    },
    {
     "data": {
      "text/plain": [
       "<sklearn.metrics._plot.roc_curve.RocCurveDisplay at 0x238173fbf48>"
      ]
     },
     "execution_count": 52,
     "metadata": {
      "tags": []
     },
     "output_type": "execute_result"
    },
    {
     "data": {
      "image/png": "[encoded data removed]",
      "text/plain": [
       "<Figure size 576x576 with 1 Axes>"
      ]
     },
     "metadata": {
      "needs_background": "light",
      "tags": []
     },
     "output_type": "display_data"
    }
   ],
   "source": [
    "print(metrics.classification_report(y_test, y_pred))\n",
    "print('Accuracy: ', metrics.accuracy_score(y_test, y_pred))\n",
    "print('ROC AUC:', metrics.roc_auc_score(y_test, y_pred))\n",
    "\n",
    "fig, ax = plt.subplots(figsize=(8, 8))\n",
    "metrics.plot_roc_curve(lr_2_smote, X_test, y_test, ax=ax)"
   ]
  },
  {
   "cell_type": "markdown",
   "metadata": {
    "colab_type": "text",
    "id": "oqekq1M_Wo3s"
   },
   "source": [
    "- Precision : 0.05\n",
    "- Recall : 0.91\n",
    "- F1-score : 0.10\n",
    "- Accuracy : 0.97\n",
    "- ROC AUC : 0.94"
   ]
  },
  {
   "cell_type": "markdown",
   "metadata": {
    "colab_type": "text",
    "id": "CI9PfqbWW2AM"
   },
   "source": [
    "### ADASYN"
   ]
  },
  {
   "cell_type": "code",
   "execution_count": null,
   "metadata": {
    "colab": {},
    "colab_type": "code",
    "id": "1npMnm4aW1cf"
   },
   "outputs": [],
   "source": [
    "lr_2_adasyn = LogisticRegression(random_state=100)\n",
    "lr_2_adasyn.fit(X_train_adasyn, y_train_adasyn)\n",
    "y_pred = lr_2_adasyn.predict(X_test)"
   ]
  },
  {
   "cell_type": "code",
   "execution_count": null,
   "metadata": {
    "colab": {
     "base_uri": "https://localhost:8080/",
     "height": 701
    },
    "colab_type": "code",
    "id": "mySJ2TMUXVsk",
    "outputId": "581529c6-0e65-49fb-b083-5ed9049e5001"
   },
   "outputs": [
    {
     "name": "stdout",
     "output_type": "stream",
     "text": [
      "              precision    recall  f1-score   support\n",
      "\n",
      "           0       1.00      0.92      0.96     85295\n",
      "           1       0.02      0.93      0.04       148\n",
      "\n",
      "    accuracy                           0.92     85443\n",
      "   macro avg       0.51      0.92      0.50     85443\n",
      "weighted avg       1.00      0.92      0.96     85443\n",
      "\n",
      "Accuracy:  0.9188581861591939\n",
      "ROC AUC: 0.9222610162187511\n"
     ]
    },
    {
     "data": {
      "text/plain": [
       "<sklearn.metrics._plot.roc_curve.RocCurveDisplay at 0x23817618388>"
      ]
     },
     "execution_count": 54,
     "metadata": {
      "tags": []
     },
     "output_type": "execute_result"
    },
    {
     "data": {
      "image/png": "[encoded data removed]",
      "text/plain": [
       "<Figure size 576x576 with 1 Axes>"
      ]
     },
     "metadata": {
      "needs_background": "light",
      "tags": []
     },
     "output_type": "display_data"
    }
   ],
   "source": [
    "print(metrics.classification_report(y_test, y_pred))\n",
    "print('Accuracy: ', metrics.accuracy_score(y_test, y_pred))\n",
    "print('ROC AUC:', metrics.roc_auc_score(y_test, y_pred))\n",
    "\n",
    "fig, ax = plt.subplots(figsize=(8, 8))\n",
    "metrics.plot_roc_curve(lr_2_adasyn, X_test, y_test, ax=ax)"
   ]
  },
  {
   "cell_type": "markdown",
   "metadata": {
    "colab_type": "text",
    "id": "AHfAxZuhXoBf"
   },
   "source": [
    "- Precision : 0.02\n",
    "- Recall : 0.95\n",
    "- F1-score : 0.04\n",
    "- Accuracy : 0.91\n",
    "- ROC AUC : 0.93"
   ]
  },
  {
   "cell_type": "markdown",
   "metadata": {
    "colab_type": "text",
    "id": "dqG8k6o6YPoY"
   },
   "source": [
    "### Hyperparameter Tuning"
   ]
  },
  {
   "cell_type": "code",
   "execution_count": null,
   "metadata": {
    "colab": {
     "base_uri": "https://localhost:8080/",
     "height": 119
    },
    "colab_type": "code",
    "id": "Mg2CVZa8YEy9",
    "outputId": "f1365d08-7809-4886-c08f-06d603be1acc"
   },
   "outputs": [
    {
     "name": "stdout",
     "output_type": "stream",
     "text": [
      "Fitting 5 folds for each of 10 candidates, totalling 50 fits\n"
     ]
    },
    {
     "name": "stderr",
     "output_type": "stream",
     "text": [
      "[Parallel(n_jobs=-1)]: Using backend LokyBackend with 12 concurrent workers.\n",
      "[Parallel(n_jobs=-1)]: Done  26 tasks      | elapsed:   12.5s\n",
      "[Parallel(n_jobs=-1)]: Done  50 out of  50 | elapsed:   22.8s finished\n"
     ]
    },
    {
     "name": "stdout",
     "output_type": "stream",
     "text": [
      "Best AUC :  0.988\n",
      "Best hyperparameters:  {'C': 10, 'penalty': 'l2'}\n"
     ]
    }
   ],
   "source": [
    "lr_2 = LogisticRegression(random_state=100)\n",
    "\n",
    "cv = 5\n",
    "params = {\n",
    "    'C': [0.1, 0.5, 1, 5, 10],\n",
    "    'penalty': ['l1', 'l2']\n",
    "}\n",
    "\n",
    "# perform cross validation\n",
    "grid_args = {\n",
    "    'estimator': lr_2,\n",
    "    'cv': cv,\n",
    "    'param_grid': params,\n",
    "    'scoring': 'roc_auc', \n",
    "    'n_jobs': -1,\n",
    "    'verbose': 1,\n",
    "    'return_train_score': True\n",
    "}\n",
    "lr_2_cv = GridSearchCV(**grid_args)\n",
    "lr_2_cv.fit(X_train_ros, y_train_ros)\n",
    "\n",
    "print('Best AUC : ', round(lr_2_cv.best_score_, 3))\n",
    "print('Best hyperparameters: ', lr_2_cv.best_params_)\n",
    "\n",
    "lr_2_tuned = LogisticRegression(**lr_2_cv.best_params_)\n",
    "lr_2_tuned.fit(X_train, y_train)\n",
    "y_pred = lr_2_tuned.predict(X_test)"
   ]
  },
  {
   "cell_type": "code",
   "execution_count": null,
   "metadata": {
    "colab": {
     "base_uri": "https://localhost:8080/",
     "height": 701
    },
    "colab_type": "code",
    "id": "qxYgvt-5YLnA",
    "outputId": "babc6362-b8c7-4d48-94e8-731b36d03e13"
   },
   "outputs": [
    {
     "name": "stdout",
     "output_type": "stream",
     "text": [
      "              precision    recall  f1-score   support\n",
      "\n",
      "           0       1.00      1.00      1.00     85295\n",
      "           1       0.93      0.59      0.72       148\n",
      "\n",
      "    accuracy                           1.00     85443\n",
      "   macro avg       0.96      0.79      0.86     85443\n",
      "weighted avg       1.00      1.00      1.00     85443\n",
      "\n",
      "Accuracy:  0.999204147794436\n",
      "ROC AUC: 0.7938778848606505\n"
     ]
    },
    {
     "data": {
      "text/plain": [
       "<sklearn.metrics._plot.roc_curve.RocCurveDisplay at 0x23817352ac8>"
      ]
     },
     "execution_count": 56,
     "metadata": {
      "tags": []
     },
     "output_type": "execute_result"
    },
    {
     "data": {
      "image/png": "[encoded data removed]",
      "text/plain": [
       "<Figure size 576x576 with 1 Axes>"
      ]
     },
     "metadata": {
      "needs_background": "light",
      "tags": []
     },
     "output_type": "display_data"
    }
   ],
   "source": [
    "print(metrics.classification_report(y_test, y_pred))\n",
    "print('Accuracy: ', metrics.accuracy_score(y_test, y_pred))\n",
    "print('ROC AUC:', metrics.roc_auc_score(y_test, y_pred))\n",
    "\n",
    "fig, ax = plt.subplots(figsize=(8, 8))\n",
    "metrics.plot_roc_curve(lr_2_tuned, X_test, y_test, ax=ax)"
   ]
  },
  {
   "cell_type": "markdown",
   "metadata": {
    "colab_type": "text",
    "id": "MW4VDNi1ZVy2"
   },
   "source": [
    "## Random Forest"
   ]
  },
  {
   "cell_type": "markdown",
   "metadata": {
    "colab_type": "text",
    "id": "wYBpl_2zbOma"
   },
   "source": [
    "### Random Oversampling"
   ]
  },
  {
   "cell_type": "code",
   "execution_count": null,
   "metadata": {
    "colab": {},
    "colab_type": "code",
    "id": "QujQn57FbLT2"
   },
   "outputs": [],
   "source": [
    "rf_2_ros = RandomForestClassifier(random_state=100)\n",
    "rf_2_ros.fit(X_train_ros, y_train_ros)\n",
    "y_pred = rf_2_ros.predict(X_test)"
   ]
  },
  {
   "cell_type": "code",
   "execution_count": null,
   "metadata": {
    "colab": {},
    "colab_type": "code",
    "id": "hAqTkFpnbY22",
    "outputId": "623b0608-b23d-4cb1-fbda-0b0bcde65605"
   },
   "outputs": [
    {
     "name": "stdout",
     "output_type": "stream",
     "text": [
      "              precision    recall  f1-score   support\n",
      "\n",
      "           0       1.00      1.00      1.00     85295\n",
      "           1       0.96      0.77      0.85       148\n",
      "\n",
      "    accuracy                           1.00     85443\n",
      "   macro avg       0.98      0.89      0.93     85443\n",
      "weighted avg       1.00      1.00      1.00     85443\n",
      "\n",
      "Accuracy:  0.9995435553526912\n",
      "ROC AUC: 0.8851058250935148\n"
     ]
    },
    {
     "data": {
      "text/plain": [
       "<sklearn.metrics._plot.roc_curve.RocCurveDisplay at 0x238172dbd48>"
      ]
     },
     "execution_count": 58,
     "metadata": {
      "tags": []
     },
     "output_type": "execute_result"
    },
    {
     "data": {
      "image/png": "[encoded data removed]",
      "text/plain": [
       "<Figure size 576x576 with 1 Axes>"
      ]
     },
     "metadata": {
      "needs_background": "light",
      "tags": []
     },
     "output_type": "display_data"
    }
   ],
   "source": [
    "print(metrics.classification_report(y_test, y_pred))\n",
    "print('Accuracy: ', metrics.accuracy_score(y_test, y_pred))\n",
    "print('ROC AUC:', metrics.roc_auc_score(y_test, y_pred))\n",
    "\n",
    "fig, ax = plt.subplots(figsize=(8, 8))\n",
    "metrics.plot_roc_curve(rf_2_ros, X_test, y_test, ax=ax)"
   ]
  },
  {
   "cell_type": "markdown",
   "metadata": {
    "colab_type": "text",
    "id": "O8WRTCUjbqEj"
   },
   "source": [
    "- Precision : 0.06\n",
    "- Recall : 0.91\n",
    "- F1-score : 0.11\n",
    "- Accuracy : 0.97\n",
    "- ROC AUC : 0.98"
   ]
  },
  {
   "cell_type": "markdown",
   "metadata": {
    "colab_type": "text",
    "id": "NAN5_XQ9b3ys"
   },
   "source": [
    "### SMOTE"
   ]
  },
  {
   "cell_type": "code",
   "execution_count": null,
   "metadata": {
    "colab": {},
    "colab_type": "code",
    "id": "CjD5d52Tb3yu"
   },
   "outputs": [],
   "source": [
    "rf_2_smote = RandomForestClassifier(random_state=100)\n",
    "rf_2_smote.fit(X_train_smote, y_train_smote)\n",
    "y_pred = rf_2_smote.predict(X_test)"
   ]
  },
  {
   "cell_type": "code",
   "execution_count": null,
   "metadata": {
    "colab": {},
    "colab_type": "code",
    "id": "jySu5_j_b3yx",
    "outputId": "29746a61-dbe1-4572-d6e7-e5b80ea302b5"
   },
   "outputs": [
    {
     "name": "stdout",
     "output_type": "stream",
     "text": [
      "              precision    recall  f1-score   support\n",
      "\n",
      "           0       1.00      1.00      1.00     85295\n",
      "           1       0.91      0.80      0.85       148\n",
      "\n",
      "    accuracy                           1.00     85443\n",
      "   macro avg       0.95      0.90      0.93     85443\n",
      "weighted avg       1.00      1.00      1.00     85443\n",
      "\n",
      "Accuracy:  0.9995201479348805\n",
      "ROC AUC: 0.9019566829271384\n"
     ]
    },
    {
     "data": {
      "text/plain": [
       "<sklearn.metrics._plot.roc_curve.RocCurveDisplay at 0x238135b5bc8>"
      ]
     },
     "execution_count": 60,
     "metadata": {
      "tags": []
     },
     "output_type": "execute_result"
    },
    {
     "data": {
      "image/png": "[encoded data removed]",
      "text/plain": [
       "<Figure size 576x576 with 1 Axes>"
      ]
     },
     "metadata": {
      "needs_background": "light",
      "tags": []
     },
     "output_type": "display_data"
    }
   ],
   "source": [
    "print(metrics.classification_report(y_test, y_pred))\n",
    "print('Accuracy: ', metrics.accuracy_score(y_test, y_pred))\n",
    "print('ROC AUC:', metrics.roc_auc_score(y_test, y_pred))\n",
    "\n",
    "fig, ax = plt.subplots(figsize=(8, 8))\n",
    "metrics.plot_roc_curve(rf_2_smote, X_test, y_test, ax=ax)"
   ]
  },
  {
   "cell_type": "markdown",
   "metadata": {
    "colab_type": "text",
    "id": "pOtIkkb6b3y0"
   },
   "source": [
    "- Precision : 0.05\n",
    "- Recall : 0.91\n",
    "- F1-score : 0.10\n",
    "- Accuracy : 0.97\n",
    "- ROC AUC : 0.94"
   ]
  },
  {
   "cell_type": "markdown",
   "metadata": {
    "colab_type": "text",
    "id": "5efRGu6-b3y0"
   },
   "source": [
    "### ADASYN"
   ]
  },
  {
   "cell_type": "code",
   "execution_count": null,
   "metadata": {
    "colab": {},
    "colab_type": "code",
    "id": "pX2_YGYab3y1"
   },
   "outputs": [],
   "source": [
    "rf_2_adasyn = RandomForestClassifier(random_state=100)\n",
    "rf_2_adasyn.fit(X_train_adasyn, y_train_adasyn)\n",
    "y_pred = rf_2_adasyn.predict(X_test)"
   ]
  },
  {
   "cell_type": "code",
   "execution_count": null,
   "metadata": {
    "colab": {},
    "colab_type": "code",
    "id": "xY7zc4mMb3y3",
    "outputId": "6727d908-77ed-414b-e6b8-5e74d0cfc09b"
   },
   "outputs": [
    {
     "name": "stdout",
     "output_type": "stream",
     "text": [
      "              precision    recall  f1-score   support\n",
      "\n",
      "           0       1.00      1.00      1.00     85295\n",
      "           1       0.91      0.79      0.84       148\n",
      "\n",
      "    accuracy                           1.00     85443\n",
      "   macro avg       0.95      0.90      0.92     85443\n",
      "weighted avg       1.00      1.00      1.00     85443\n",
      "\n",
      "Accuracy:  0.9994967405170698\n",
      "ROC AUC: 0.8951999261703817\n"
     ]
    },
    {
     "data": {
      "text/plain": [
       "<sklearn.metrics._plot.roc_curve.RocCurveDisplay at 0x23816b12b48>"
      ]
     },
     "execution_count": 62,
     "metadata": {
      "tags": []
     },
     "output_type": "execute_result"
    },
    {
     "data": {
      "image/png": "[encoded data removed]",
      "text/plain": [
       "<Figure size 576x576 with 1 Axes>"
      ]
     },
     "metadata": {
      "needs_background": "light",
      "tags": []
     },
     "output_type": "display_data"
    }
   ],
   "source": [
    "print(metrics.classification_report(y_test, y_pred))\n",
    "print('Accuracy: ', metrics.accuracy_score(y_test, y_pred))\n",
    "print('ROC AUC:', metrics.roc_auc_score(y_test, y_pred))\n",
    "\n",
    "fig, ax = plt.subplots(figsize=(8, 8))\n",
    "metrics.plot_roc_curve(rf_2_adasyn, X_test, y_test, ax=ax)"
   ]
  },
  {
   "cell_type": "markdown",
   "metadata": {
    "colab_type": "text",
    "id": "7KoAWlsXb3y4"
   },
   "source": [
    "- Precision : 0.02\n",
    "- Recall : 0.95\n",
    "- F1-score : 0.04\n",
    "- Accuracy : 0.91\n",
    "- ROC AUC : 0.93"
   ]
  },
  {
   "cell_type": "markdown",
   "metadata": {
    "colab_type": "text",
    "id": "ZdCp0CzpcMen"
   },
   "source": [
    "### Hyperparameter Tuning"
   ]
  },
  {
   "cell_type": "code",
   "execution_count": null,
   "metadata": {
    "colab": {},
    "colab_type": "code",
    "id": "K3Nigvf7cMeo",
    "outputId": "2227b544-da8e-4e23-dace-fb3ce30a84b5"
   },
   "outputs": [
    {
     "name": "stdout",
     "output_type": "stream",
     "text": [
      "Fitting 5 folds for each of 9 candidates, totalling 45 fits\n"
     ]
    },
    {
     "name": "stderr",
     "output_type": "stream",
     "text": [
      "[Parallel(n_jobs=-1)]: Using backend LokyBackend with 12 concurrent workers.\n",
      "[Parallel(n_jobs=-1)]: Done  45 out of  45 | elapsed: 39.0min finished\n"
     ]
    },
    {
     "name": "stdout",
     "output_type": "stream",
     "text": [
      "Best AUC :  1.0\n",
      "Best hyperparameters:  {'max_depth': 16, 'n_estimators': 300}\n"
     ]
    }
   ],
   "source": [
    "rf_2 = RandomForestClassifier(random_state=100)\n",
    "\n",
    "cv = 5\n",
    "params = { \n",
    "    'n_estimators': [100, 300, 600],\n",
    "    'max_depth' : [4, 8, 16]\n",
    "}\n",
    "\n",
    "# perform cross validation\n",
    "grid_args = {\n",
    "    'estimator': rf_2,\n",
    "    'cv': cv,\n",
    "    'param_grid': params,\n",
    "    'scoring': 'roc_auc', \n",
    "    'n_jobs': -1,\n",
    "    'verbose': 1,\n",
    "    'return_train_score': True\n",
    "}\n",
    "rf_2_cv = GridSearchCV(**grid_args)\n",
    "rf_2_cv.fit(X_train_ros, y_train_ros)\n",
    "\n",
    "print('Best AUC : ', round(rf_2_cv.best_score_, 3))\n",
    "print('Best hyperparameters: ', rf_2_cv.best_params_)\n",
    "\n",
    "rf_2_tuned = RandomForestClassifier(**rf_2_cv.best_params_)\n",
    "rf_2_tuned.fit(X_train, y_train)\n",
    "y_pred = rf_2_tuned.predict(X_test)"
   ]
  },
  {
   "cell_type": "code",
   "execution_count": null,
   "metadata": {
    "colab": {},
    "colab_type": "code",
    "id": "0wXvdXHwcMes",
    "outputId": "ed5b5214-d899-47fb-c55e-2297342643c5"
   },
   "outputs": [
    {
     "name": "stdout",
     "output_type": "stream",
     "text": [
      "              precision    recall  f1-score   support\n",
      "\n",
      "           0       1.00      1.00      1.00     85295\n",
      "           1       0.96      0.78      0.86       148\n",
      "\n",
      "    accuracy                           1.00     85443\n",
      "   macro avg       0.98      0.89      0.93     85443\n",
      "weighted avg       1.00      1.00      1.00     85443\n",
      "\n",
      "Accuracy:  0.9995552590615966\n",
      "ROC AUC: 0.8884842034718932\n"
     ]
    },
    {
     "data": {
      "text/plain": [
       "<sklearn.metrics._plot.roc_curve.RocCurveDisplay at 0x23816ad04c8>"
      ]
     },
     "execution_count": 65,
     "metadata": {
      "tags": []
     },
     "output_type": "execute_result"
    },
    {
     "data": {
      "image/png": "[encoded data removed]",
      "text/plain": [
       "<Figure size 576x576 with 1 Axes>"
      ]
     },
     "metadata": {
      "needs_background": "light",
      "tags": []
     },
     "output_type": "display_data"
    }
   ],
   "source": [
    "print(metrics.classification_report(y_test, y_pred))\n",
    "print('Accuracy: ', metrics.accuracy_score(y_test, y_pred))\n",
    "print('ROC AUC:', metrics.roc_auc_score(y_test, y_pred))\n",
    "\n",
    "fig, ax = plt.subplots(figsize=(8, 8))\n",
    "metrics.plot_roc_curve(rf_2_tuned, X_test, y_test, ax=ax)"
   ]
  },
  {
   "cell_type": "markdown",
   "metadata": {
    "colab_type": "text",
    "id": "_JqnsDirdHdC"
   },
   "source": [
    "## XGBoost"
   ]
  },
  {
   "cell_type": "markdown",
   "metadata": {
    "colab_type": "text",
    "id": "hknQxViEdHdD"
   },
   "source": [
    "### Random Oversampling"
   ]
  },
  {
   "cell_type": "code",
   "execution_count": null,
   "metadata": {
    "colab": {},
    "colab_type": "code",
    "id": "xV-AB2k5dHdD",
    "outputId": "4f45b9b1-664e-467d-d7ee-0962f6695db9"
   },
   "outputs": [
    {
     "name": "stdout",
     "output_type": "stream",
     "text": [
      "[18:10:18] WARNING: C:\\Users\\Administrator\\workspace\\xgboost-win64_release_1.2.0\\src\\learner.cc:516: \n",
      "Parameters: { max_bins } might not be used.\n",
      "\n",
      "  This may not be accurate due to some parameters are only used in language bindings but\n",
      "  passed down to XGBoost core.  Or some parameters are not used but slip through this\n",
      "  verification. Please open an issue if you find above cases.\n",
      "\n",
      "\n"
     ]
    }
   ],
   "source": [
    "xgb_2_ros = XGBClassifier(tree_method='gpu_hist', predictor='gpu_predictor', max_bins=128, random_state=100)\n",
    "xgb_2_ros.fit(X_train_ros, y_train_ros)\n",
    "y_pred = xgb_2_ros.predict(X_test)"
   ]
  },
  {
   "cell_type": "code",
   "execution_count": null,
   "metadata": {
    "colab": {},
    "colab_type": "code",
    "id": "8iVN4nFvdHdI",
    "outputId": "d174d3c8-4866-400f-9939-d19b512663f3"
   },
   "outputs": [
    {
     "name": "stdout",
     "output_type": "stream",
     "text": [
      "              precision    recall  f1-score   support\n",
      "\n",
      "           0       1.00      1.00      1.00     85295\n",
      "           1       0.93      0.82      0.87       148\n",
      "\n",
      "    accuracy                           1.00     85443\n",
      "   macro avg       0.97      0.91      0.94     85443\n",
      "weighted avg       1.00      1.00      1.00     85443\n",
      "\n",
      "Accuracy:  0.9995903701883126\n",
      "ROC AUC: 0.9121094040872457\n"
     ]
    },
    {
     "data": {
      "text/plain": [
       "<sklearn.metrics._plot.roc_curve.RocCurveDisplay at 0x2381e4a24c8>"
      ]
     },
     "execution_count": 67,
     "metadata": {
      "tags": []
     },
     "output_type": "execute_result"
    },
    {
     "data": {
      "image/png": "[encoded data removed]",
      "text/plain": [
       "<Figure size 576x576 with 1 Axes>"
      ]
     },
     "metadata": {
      "needs_background": "light",
      "tags": []
     },
     "output_type": "display_data"
    }
   ],
   "source": [
    "print(metrics.classification_report(y_test, y_pred))\n",
    "print('Accuracy: ', metrics.accuracy_score(y_test, y_pred))\n",
    "print('ROC AUC:', metrics.roc_auc_score(y_test, y_pred))\n",
    "\n",
    "fig, ax = plt.subplots(figsize=(8, 8))\n",
    "metrics.plot_roc_curve(xgb_2_ros, X_test, y_test, ax=ax)"
   ]
  },
  {
   "cell_type": "markdown",
   "metadata": {
    "colab_type": "text",
    "id": "D2pk5IModHdK"
   },
   "source": [
    "- Precision : 0.06\n",
    "- Recall : 0.91\n",
    "- F1-score : 0.11\n",
    "- Accuracy : 0.97\n",
    "- ROC AUC : 0.98"
   ]
  },
  {
   "cell_type": "markdown",
   "metadata": {
    "colab_type": "text",
    "id": "EoUI7ZCRdHdL"
   },
   "source": [
    "### SMOTE"
   ]
  },
  {
   "cell_type": "code",
   "execution_count": null,
   "metadata": {
    "colab": {},
    "colab_type": "code",
    "id": "yNu0dRFSdHdL",
    "outputId": "f5595b3f-2186-4c53-ff78-b9d1796adcea"
   },
   "outputs": [
    {
     "name": "stdout",
     "output_type": "stream",
     "text": [
      "[18:10:20] WARNING: C:\\Users\\Administrator\\workspace\\xgboost-win64_release_1.2.0\\src\\learner.cc:516: \n",
      "Parameters: { max_bins } might not be used.\n",
      "\n",
      "  This may not be accurate due to some parameters are only used in language bindings but\n",
      "  passed down to XGBoost core.  Or some parameters are not used but slip through this\n",
      "  verification. Please open an issue if you find above cases.\n",
      "\n",
      "\n"
     ]
    }
   ],
   "source": [
    "xgb_2_smote = XGBClassifier(tree_method='gpu_hist', predictor='gpu_predictor', max_bins=128, random_state=100)\n",
    "xgb_2_smote.fit(X_train_smote, y_train_smote)\n",
    "y_pred = xgb_2_smote.predict(X_test)"
   ]
  },
  {
   "cell_type": "code",
   "execution_count": null,
   "metadata": {
    "colab": {},
    "colab_type": "code",
    "id": "4sx-Zua4dHdN",
    "outputId": "4109e0ba-6260-4f05-ed71-039a97b61b1f"
   },
   "outputs": [
    {
     "name": "stdout",
     "output_type": "stream",
     "text": [
      "              precision    recall  f1-score   support\n",
      "\n",
      "           0       1.00      1.00      1.00     85295\n",
      "           1       0.83      0.83      0.83       148\n",
      "\n",
      "    accuracy                           1.00     85443\n",
      "   macro avg       0.91      0.92      0.91     85443\n",
      "weighted avg       1.00      1.00      1.00     85443\n",
      "\n",
      "Accuracy:  0.999403110845827\n",
      "ROC AUC: 0.9153881283241152\n"
     ]
    },
    {
     "data": {
      "text/plain": [
       "<sklearn.metrics._plot.roc_curve.RocCurveDisplay at 0x2382b1bd288>"
      ]
     },
     "execution_count": 69,
     "metadata": {
      "tags": []
     },
     "output_type": "execute_result"
    },
    {
     "data": {
      "image/png": "[encoded data removed]",
      "text/plain": [
       "<Figure size 576x576 with 1 Axes>"
      ]
     },
     "metadata": {
      "needs_background": "light",
      "tags": []
     },
     "output_type": "display_data"
    }
   ],
   "source": [
    "print(metrics.classification_report(y_test, y_pred))\n",
    "print('Accuracy: ', metrics.accuracy_score(y_test, y_pred))\n",
    "print('ROC AUC:', metrics.roc_auc_score(y_test, y_pred))\n",
    "\n",
    "fig, ax = plt.subplots(figsize=(8, 8))\n",
    "metrics.plot_roc_curve(xgb_2_smote, X_test, y_test, ax=ax)"
   ]
  },
  {
   "cell_type": "markdown",
   "metadata": {
    "colab_type": "text",
    "id": "f7EWCvz-dHdQ"
   },
   "source": [
    "- Precision : 0.05\n",
    "- Recall : 0.91\n",
    "- F1-score : 0.10\n",
    "- Accuracy : 0.97\n",
    "- ROC AUC : 0.94"
   ]
  },
  {
   "cell_type": "markdown",
   "metadata": {
    "colab_type": "text",
    "id": "lVSdOh6gdHdQ"
   },
   "source": [
    "### ADASYN"
   ]
  },
  {
   "cell_type": "code",
   "execution_count": null,
   "metadata": {
    "colab": {},
    "colab_type": "code",
    "id": "L1fOhrwNdHdR",
    "outputId": "e2cf27c5-328c-4bf3-f765-f5bf3998f450"
   },
   "outputs": [
    {
     "name": "stdout",
     "output_type": "stream",
     "text": [
      "[18:10:22] WARNING: C:\\Users\\Administrator\\workspace\\xgboost-win64_release_1.2.0\\src\\learner.cc:516: \n",
      "Parameters: { max_bins } might not be used.\n",
      "\n",
      "  This may not be accurate due to some parameters are only used in language bindings but\n",
      "  passed down to XGBoost core.  Or some parameters are not used but slip through this\n",
      "  verification. Please open an issue if you find above cases.\n",
      "\n",
      "\n"
     ]
    }
   ],
   "source": [
    "xgb_2_adasyn = XGBClassifier(tree_method='gpu_hist', predictor='gpu_predictor', max_bins=128, random_state=100)\n",
    "xgb_2_adasyn.fit(X_train_adasyn, y_train_adasyn)\n",
    "y_pred = xgb_2_adasyn.predict(X_test)"
   ]
  },
  {
   "cell_type": "code",
   "execution_count": null,
   "metadata": {
    "colab": {},
    "colab_type": "code",
    "id": "uRYPmHkTdHdT",
    "outputId": "ced16f0e-571e-4a5f-9fc0-fae230519476"
   },
   "outputs": [
    {
     "name": "stdout",
     "output_type": "stream",
     "text": [
      "              precision    recall  f1-score   support\n",
      "\n",
      "           0       1.00      1.00      1.00     85295\n",
      "           1       0.80      0.83      0.81       148\n",
      "\n",
      "    accuracy                           1.00     85443\n",
      "   macro avg       0.90      0.92      0.91     85443\n",
      "weighted avg       1.00      1.00      1.00     85443\n",
      "\n",
      "Accuracy:  0.9993445923013002\n",
      "ROC AUC: 0.915358818282495\n"
     ]
    },
    {
     "data": {
      "text/plain": [
       "<sklearn.metrics._plot.roc_curve.RocCurveDisplay at 0x2382b08f708>"
      ]
     },
     "execution_count": 71,
     "metadata": {
      "tags": []
     },
     "output_type": "execute_result"
    },
    {
     "data": {
      "image/png": "[encoded data removed]",
      "text/plain": [
       "<Figure size 576x576 with 1 Axes>"
      ]
     },
     "metadata": {
      "needs_background": "light",
      "tags": []
     },
     "output_type": "display_data"
    }
   ],
   "source": [
    "print(metrics.classification_report(y_test, y_pred))\n",
    "print('Accuracy: ', metrics.accuracy_score(y_test, y_pred))\n",
    "print('ROC AUC:', metrics.roc_auc_score(y_test, y_pred))\n",
    "\n",
    "fig, ax = plt.subplots(figsize=(8, 8))\n",
    "metrics.plot_roc_curve(xgb_2_adasyn, X_test, y_test, ax=ax)"
   ]
  },
  {
   "cell_type": "markdown",
   "metadata": {
    "colab_type": "text",
    "id": "il51wYSvdHdV"
   },
   "source": [
    "- Precision : 0.02\n",
    "- Recall : 0.95\n",
    "- F1-score : 0.04\n",
    "- Accuracy : 0.91\n",
    "- ROC AUC : 0.93"
   ]
  },
  {
   "cell_type": "markdown",
   "metadata": {
    "colab_type": "text",
    "id": "zuid_7bqdHdW"
   },
   "source": [
    "### Hyperparameter Tuning"
   ]
  },
  {
   "cell_type": "code",
   "execution_count": 10,
   "metadata": {
    "colab": {},
    "colab_type": "code",
    "id": "90zDW7jHdHdW",
    "outputId": "88e007b4-7ad3-481d-9006-2283e337ee4c"
   },
   "outputs": [
    {
     "name": "stdout",
     "output_type": "stream",
     "text": [
      "Fitting 5 folds for each of 48 candidates, totalling 240 fits\n"
     ]
    },
    {
     "name": "stderr",
     "output_type": "stream",
     "text": [
      "[Parallel(n_jobs=-1)]: Using backend LokyBackend with 12 concurrent workers.\n",
      "[Parallel(n_jobs=-1)]: Done  26 tasks      | elapsed:   31.3s\n",
      "[Parallel(n_jobs=-1)]: Done 176 tasks      | elapsed:  2.3min\n",
      "[Parallel(n_jobs=-1)]: Done 240 out of 240 | elapsed:  3.0min finished\n"
     ]
    },
    {
     "name": "stdout",
     "output_type": "stream",
     "text": [
      "[22:57:40] WARNING: C:\\Users\\Administrator\\workspace\\xgboost-win64_release_1.2.0\\src\\learner.cc:516: \n",
      "Parameters: { max_bins } might not be used.\n",
      "\n",
      "  This may not be accurate due to some parameters are only used in language bindings but\n",
      "  passed down to XGBoost core.  Or some parameters are not used but slip through this\n",
      "  verification. Please open an issue if you find above cases.\n",
      "\n",
      "\n",
      "Best AUC :  1.0\n",
      "Best hyperparameters:  {'colsample_bytree': 1.0, 'gamma': 1.5, 'max_depth': 5, 'min_child_weight': 5, 'subsample': 0.6}\n"
     ]
    }
   ],
   "source": [
    "xgb_2 = XGBClassifier(tree_method='gpu_hist', predictor='gpu_predictor', max_bins=128, random_state=100)\n",
    "\n",
    "cv = 5\n",
    "params = {\n",
    "    'min_child_weight': [1, 5],\n",
    "    'gamma': [0.5, 1.5, 5],\n",
    "    'subsample': [0.6, 1.0],\n",
    "    'colsample_bytree': [0.6, 1.0],\n",
    "    'max_depth': [3, 5]\n",
    "}\n",
    "\n",
    "# perform cross validation\n",
    "grid_args = {\n",
    "    'estimator': xgb_2,\n",
    "    'cv': cv,\n",
    "    'param_grid': params,\n",
    "    'scoring': 'roc_auc', \n",
    "    'n_jobs': -1,\n",
    "    'verbose': 1,\n",
    "    'return_train_score': True\n",
    "}\n",
    "xgb_2_cv = GridSearchCV(**grid_args)\n",
    "xgb_2_cv.fit(X_train_smote, y_train_smote)\n",
    "\n",
    "print('Best AUC : ', round(xgb_2_cv.best_score_, 3))\n",
    "print('Best hyperparameters: ', xgb_2_cv.best_params_)\n",
    "\n",
    "xgb_2_tuned = XGBClassifier(**xgb_2_cv.best_params_)\n",
    "xgb_2_tuned.fit(X_train_smote, y_train_smote)\n",
    "y_pred = xgb_2_tuned.predict(X_test)"
   ]
  },
  {
   "cell_type": "code",
   "execution_count": 11,
   "metadata": {
    "colab": {},
    "colab_type": "code",
    "id": "MiWlt-N8dHdZ",
    "outputId": "e8dac439-2155-4c05-f2ca-e195045a078f"
   },
   "outputs": [
    {
     "name": "stdout",
     "output_type": "stream",
     "text": [
      "              precision    recall  f1-score   support\n",
      "\n",
      "           0       1.00      1.00      1.00     85295\n",
      "           1       0.64      0.83      0.72       148\n",
      "\n",
      "    accuracy                           1.00     85443\n",
      "   macro avg       0.82      0.92      0.86     85443\n",
      "weighted avg       1.00      1.00      1.00     85443\n",
      "\n",
      "Accuracy:  0.9988881476539916\n",
      "ROC AUC: 0.9151301999578569\n"
     ]
    },
    {
     "data": {
      "text/plain": [
       "<sklearn.metrics._plot.roc_curve.RocCurveDisplay at 0x1bab90489c8>"
      ]
     },
     "execution_count": 11,
     "metadata": {},
     "output_type": "execute_result"
    },
    {
     "data": {
      "image/png": "[encoded data removed]",
      "text/plain": [
       "<Figure size 576x576 with 1 Axes>"
      ]
     },
     "metadata": {
      "needs_background": "light"
     },
     "output_type": "display_data"
    }
   ],
   "source": [
    "print(metrics.classification_report(y_test, y_pred))\n",
    "print('Accuracy: ', metrics.accuracy_score(y_test, y_pred))\n",
    "print('ROC AUC:', metrics.roc_auc_score(y_test, y_pred))\n",
    "\n",
    "fig, ax = plt.subplots(figsize=(8, 8))\n",
    "metrics.plot_roc_curve(xgb_2_tuned, X_test, y_test, ax=ax)"
   ]
  },
  {
   "cell_type": "markdown",
   "metadata": {
    "colab_type": "text",
    "id": "9MTV5p5Juuor"
   },
   "source": [
    "# Model Selection & Evaluation\n",
    "We will go with XGBoost with SMOTE applied since it gives a good balance of recall and precision."
   ]
  },
  {
   "cell_type": "markdown",
   "metadata": {
    "colab_type": "text",
    "id": "zKMyP7Mzuuot"
   },
   "source": [
    "## Important features of the best model"
   ]
  },
  {
   "cell_type": "code",
   "execution_count": 12,
   "metadata": {
    "colab": {},
    "colab_type": "code",
    "id": "74KlvEGKuuou",
    "outputId": "49400420-a6bb-4e7f-ba56-cb3f9cb4e15d"
   },
   "outputs": [
    {
     "name": "stdout",
     "output_type": "stream",
     "text": [
      "Top var = 15\n",
      "2nd Top var = 5\n",
      "3rd Top var = 9\n"
     ]
    },
    {
     "data": {
      "text/plain": [
       "<matplotlib.legend.Legend at 0x1bab90b7848>"
      ]
     },
     "execution_count": 12,
     "metadata": {},
     "output_type": "execute_result"
    },
    {
     "data": {
      "image/png": "[encoded data removed]",
      "text/plain": [
       "<Figure size 1440x1440 with 1 Axes>"
      ]
     },
     "metadata": {
      "needs_background": "light"
     },
     "output_type": "display_data"
    }
   ],
   "source": [
    "clf = xgb_2_tuned\n",
    "var_imp = []\n",
    "\n",
    "for i in clf.feature_importances_:\n",
    "    var_imp.append(i)\n",
    "    \n",
    "print('Top var =', var_imp.index(np.sort(clf.feature_importances_)[-1])+1)\n",
    "print('2nd Top var =', var_imp.index(np.sort(clf.feature_importances_)[-2])+1)\n",
    "print('3rd Top var =', var_imp.index(np.sort(clf.feature_importances_)[-3])+1)\n",
    "\n",
    "# Variable on Index-13 and Index-9 seems to be the top 2 variables\n",
    "top_var_index = var_imp.index(np.sort(clf.feature_importances_)[-1])\n",
    "second_top_var_index = var_imp.index(np.sort(clf.feature_importances_)[-2])\n",
    "\n",
    "X_train_1 = X_train.to_numpy()[np.where(y_train==1.0)]\n",
    "X_train_0 = X_train.to_numpy()[np.where(y_train==0.0)]\n",
    "\n",
    "np.random.shuffle(X_train_0)\n",
    "\n",
    "plt.rcParams['figure.figsize'] = [20, 20]\n",
    "\n",
    "plt.scatter(X_train_1[:, top_var_index], X_train_1[:, second_top_var_index], label='Actual Class-1 Examples')\n",
    "plt.scatter(X_train_0[:X_train_1.shape[0], top_var_index], X_train_0[:X_train_1.shape[0], second_top_var_index],label='Actual Class-0 Examples')\n",
    "plt.legend()"
   ]
  },
  {
   "cell_type": "code",
   "execution_count": null,
   "metadata": {
    "colab": {},
    "colab_type": "code",
    "id": "lljZa2tFuuow"
   },
   "outputs": [],
   "source": [
    "#### Print the FPR,TPR & select the best threshold from the roc curve"
   ]
  },
  {
   "cell_type": "code",
   "execution_count": 13,
   "metadata": {
    "colab": {},
    "colab_type": "code",
    "id": "vdOqvYOYuuox",
    "outputId": "6d04f957-0436-4ac8-e02f-2c3f0ce62e4f"
   },
   "outputs": [
    {
     "name": "stdout",
     "output_type": "stream",
     "text": [
      "Accuracy:  0.9988881476539916\n",
      "ROC AUC: 0.9151301999578569\n",
      "1\n"
     ]
    }
   ],
   "source": [
    "print('Accuracy: ', metrics.accuracy_score(y_test, y_pred))\n",
    "print('ROC AUC:', metrics.roc_auc_score(y_test, y_pred))\n",
    "\n",
    "fpr, tpr, thresholds = metrics.roc_curve(y_test, y_pred)\n",
    "print(thresholds[np.argmax(tpr - fpr)])"
   ]
  },
  {
   "cell_type": "markdown",
   "metadata": {
    "colab_type": "text",
    "id": "mGkruRieqcZG"
   },
   "source": [
    "# Conclusion\n",
    "- Best model is XGBoost\n",
    "- Best oversampling technique is SMOTE\n",
    "- Top features are V15 and V5"
   ]
  }
 ],
 "metadata": {
  "accelerator": "GPU",
  "colab": {
   "collapsed_sections": [
    "E9URgfiBuuoa",
    "iixYDh5guuoe",
    "lD0XYooquuoe",
    "YfBPR_F3uuom",
    "9MTV5p5Juuor",
    "zKMyP7Mzuuot"
   ],
   "name": "Credit Card Fraud Detection.ipynb",
   "provenance": [],
   "toc_visible": true
  },
  "kernelspec": {
   "display_name": "Python 3",
   "language": "python",
   "name": "python3"
  },
  "language_info": {
   "codemirror_mode": {
    "name": "ipython",
    "version": 3
   },
   "file_extension": ".py",
   "mimetype": "text/x-python",
   "name": "python",
   "nbconvert_exporter": "python",
   "pygments_lexer": "ipython3",
   "version": "3.7.7"
  }
 },
 "nbformat": 4,
 "nbformat_minor": 1
}
